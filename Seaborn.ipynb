{
 "cells": [
  {
   "cell_type": "code",
   "execution_count": 1,
   "metadata": {
    "collapsed": true
   },
   "outputs": [],
   "source": [
    "import numpy as np\n",
    "import pandas as pd\n",
    "import matplotlib.pyplot as plt\n",
    "import seaborn as sns\n",
    "%matplotlib inline"
   ]
  },
  {
   "cell_type": "code",
   "execution_count": 2,
   "metadata": {
    "collapsed": false
   },
   "outputs": [],
   "source": [
    "recipes = pd.read_csv('/Users/spencerfogelman/Downloads/recipeData.csv', encoding = \"ISO-8859-1\")"
   ]
  },
  {
   "cell_type": "code",
   "execution_count": 3,
   "metadata": {
    "collapsed": false
   },
   "outputs": [
    {
     "name": "stdout",
     "output_type": "stream",
     "text": [
      "(73861, 22)\n"
     ]
    }
   ],
   "source": [
    "print(recipes.shape)"
   ]
  },
  {
   "cell_type": "code",
   "execution_count": 4,
   "metadata": {
    "collapsed": false
   },
   "outputs": [
    {
     "name": "stdout",
     "output_type": "stream",
     "text": [
      "             BeerID       StyleID       Size(L)            OG            FG  \\\n",
      "count  73861.000000  73861.000000  73861.000000  73861.000000  73861.000000   \n",
      "mean   36931.000000     60.179432     43.929775      1.406266      1.075865   \n",
      "std    21321.978453     56.811462    180.373492      2.196908      0.432524   \n",
      "min        1.000000      1.000000      1.000000      1.000000     -0.003000   \n",
      "25%    18466.000000     10.000000     18.930000      1.051000      1.011000   \n",
      "50%    36931.000000     35.000000     20.820000      1.058000      1.013000   \n",
      "75%    55396.000000    111.000000     23.660000      1.069000      1.017000   \n",
      "max    73861.000000    176.000000   9200.000000     34.034500     23.424600   \n",
      "\n",
      "                ABV           IBU         Color      BoilSize      BoilTime  \\\n",
      "count  73861.000000  73861.000000  73861.000000  73861.000000  73861.000000   \n",
      "mean       6.136865     44.276186     13.404989     49.724919     65.074870   \n",
      "std        1.883510     42.945508     11.944511    193.246427     15.024228   \n",
      "min        0.000000      0.000000      0.000000      1.000000      0.000000   \n",
      "25%        5.080000     23.370000      5.170000     20.820000     60.000000   \n",
      "50%        5.790000     35.770000      8.440000     27.440000     60.000000   \n",
      "75%        6.830000     56.380000     16.790000     30.000000     60.000000   \n",
      "max       54.720000   3409.300000    186.000000   9700.000000    240.000000   \n",
      "\n",
      "        BoilGravity    Efficiency  MashThickness     PitchRate   PrimaryTemp  \n",
      "count  70871.000000  73861.000000   43997.000000  34609.000000  51199.000000  \n",
      "mean       1.353955     66.354881       2.127235      0.750468     19.175641  \n",
      "std        1.930989     14.091686       1.682347      0.394262      4.219676  \n",
      "min        0.000000      0.000000       0.000000      0.000000    -17.780000  \n",
      "25%             NaN     65.000000            NaN           NaN           NaN  \n",
      "50%             NaN     70.000000            NaN           NaN           NaN  \n",
      "75%             NaN     75.000000            NaN           NaN           NaN  \n",
      "max       52.600000    100.000000     100.000000      2.000000    114.000000  \n"
     ]
    },
    {
     "name": "stderr",
     "output_type": "stream",
     "text": [
      "/Users/spencerfogelman/anaconda/lib/python3.5/site-packages/numpy/lib/function_base.py:3834: RuntimeWarning: Invalid value encountered in percentile\n",
      "  RuntimeWarning)\n"
     ]
    }
   ],
   "source": [
    "print(recipes.describe())"
   ]
  },
  {
   "cell_type": "code",
   "execution_count": 5,
   "metadata": {
    "collapsed": false
   },
   "outputs": [
    {
     "data": {
      "text/html": [
       "<div>\n",
       "<table border=\"1\" class=\"dataframe\">\n",
       "  <thead>\n",
       "    <tr style=\"text-align: right;\">\n",
       "      <th></th>\n",
       "      <th>BeerID</th>\n",
       "      <th>Name</th>\n",
       "      <th>URL</th>\n",
       "      <th>Style</th>\n",
       "      <th>StyleID</th>\n",
       "      <th>Size(L)</th>\n",
       "      <th>OG</th>\n",
       "      <th>FG</th>\n",
       "      <th>ABV</th>\n",
       "      <th>IBU</th>\n",
       "      <th>...</th>\n",
       "      <th>BoilTime</th>\n",
       "      <th>BoilGravity</th>\n",
       "      <th>Efficiency</th>\n",
       "      <th>MashThickness</th>\n",
       "      <th>SugarScale</th>\n",
       "      <th>BrewMethod</th>\n",
       "      <th>PitchRate</th>\n",
       "      <th>PrimaryTemp</th>\n",
       "      <th>PrimingMethod</th>\n",
       "      <th>PrimingAmount</th>\n",
       "    </tr>\n",
       "  </thead>\n",
       "  <tbody>\n",
       "    <tr>\n",
       "      <th>0</th>\n",
       "      <td>1</td>\n",
       "      <td>Vanilla Cream Ale</td>\n",
       "      <td>/homebrew/recipe/view/1633/vanilla-cream-ale</td>\n",
       "      <td>Cream Ale</td>\n",
       "      <td>45</td>\n",
       "      <td>21.77</td>\n",
       "      <td>1.055</td>\n",
       "      <td>1.013</td>\n",
       "      <td>5.48</td>\n",
       "      <td>17.65</td>\n",
       "      <td>...</td>\n",
       "      <td>75</td>\n",
       "      <td>1.038</td>\n",
       "      <td>70.0</td>\n",
       "      <td>NaN</td>\n",
       "      <td>Specific Gravity</td>\n",
       "      <td>All Grain</td>\n",
       "      <td>NaN</td>\n",
       "      <td>17.78</td>\n",
       "      <td>corn sugar</td>\n",
       "      <td>4.5 oz</td>\n",
       "    </tr>\n",
       "    <tr>\n",
       "      <th>1</th>\n",
       "      <td>2</td>\n",
       "      <td>Southern Tier Pumking clone</td>\n",
       "      <td>/homebrew/recipe/view/16367/southern-tier-pumk...</td>\n",
       "      <td>Holiday/Winter Special Spiced Beer</td>\n",
       "      <td>85</td>\n",
       "      <td>20.82</td>\n",
       "      <td>1.083</td>\n",
       "      <td>1.021</td>\n",
       "      <td>8.16</td>\n",
       "      <td>60.65</td>\n",
       "      <td>...</td>\n",
       "      <td>60</td>\n",
       "      <td>1.070</td>\n",
       "      <td>70.0</td>\n",
       "      <td>NaN</td>\n",
       "      <td>Specific Gravity</td>\n",
       "      <td>All Grain</td>\n",
       "      <td>NaN</td>\n",
       "      <td>NaN</td>\n",
       "      <td>NaN</td>\n",
       "      <td>NaN</td>\n",
       "    </tr>\n",
       "    <tr>\n",
       "      <th>2</th>\n",
       "      <td>3</td>\n",
       "      <td>Zombie Dust Clone - EXTRACT</td>\n",
       "      <td>/homebrew/recipe/view/5920/zombie-dust-clone-e...</td>\n",
       "      <td>American IPA</td>\n",
       "      <td>7</td>\n",
       "      <td>18.93</td>\n",
       "      <td>1.063</td>\n",
       "      <td>1.018</td>\n",
       "      <td>5.91</td>\n",
       "      <td>59.25</td>\n",
       "      <td>...</td>\n",
       "      <td>60</td>\n",
       "      <td>NaN</td>\n",
       "      <td>70.0</td>\n",
       "      <td>NaN</td>\n",
       "      <td>Specific Gravity</td>\n",
       "      <td>extract</td>\n",
       "      <td>NaN</td>\n",
       "      <td>NaN</td>\n",
       "      <td>NaN</td>\n",
       "      <td>NaN</td>\n",
       "    </tr>\n",
       "    <tr>\n",
       "      <th>3</th>\n",
       "      <td>4</td>\n",
       "      <td>Zombie Dust Clone - ALL GRAIN</td>\n",
       "      <td>/homebrew/recipe/view/5916/zombie-dust-clone-a...</td>\n",
       "      <td>American IPA</td>\n",
       "      <td>7</td>\n",
       "      <td>22.71</td>\n",
       "      <td>1.061</td>\n",
       "      <td>1.017</td>\n",
       "      <td>5.80</td>\n",
       "      <td>54.48</td>\n",
       "      <td>...</td>\n",
       "      <td>60</td>\n",
       "      <td>NaN</td>\n",
       "      <td>70.0</td>\n",
       "      <td>NaN</td>\n",
       "      <td>Specific Gravity</td>\n",
       "      <td>All Grain</td>\n",
       "      <td>NaN</td>\n",
       "      <td>NaN</td>\n",
       "      <td>NaN</td>\n",
       "      <td>NaN</td>\n",
       "    </tr>\n",
       "    <tr>\n",
       "      <th>4</th>\n",
       "      <td>5</td>\n",
       "      <td>Bakke Brygg Belgisk Blonde 50 l</td>\n",
       "      <td>/homebrew/recipe/view/89534/bakke-brygg-belgis...</td>\n",
       "      <td>Belgian Blond Ale</td>\n",
       "      <td>20</td>\n",
       "      <td>50.00</td>\n",
       "      <td>1.060</td>\n",
       "      <td>1.010</td>\n",
       "      <td>6.48</td>\n",
       "      <td>17.84</td>\n",
       "      <td>...</td>\n",
       "      <td>90</td>\n",
       "      <td>1.050</td>\n",
       "      <td>72.0</td>\n",
       "      <td>NaN</td>\n",
       "      <td>Specific Gravity</td>\n",
       "      <td>All Grain</td>\n",
       "      <td>NaN</td>\n",
       "      <td>19.00</td>\n",
       "      <td>Sukkerlake</td>\n",
       "      <td>6-7 g sukker/l</td>\n",
       "    </tr>\n",
       "  </tbody>\n",
       "</table>\n",
       "<p>5 rows × 22 columns</p>\n",
       "</div>"
      ],
      "text/plain": [
       "   BeerID                             Name  \\\n",
       "0       1                Vanilla Cream Ale   \n",
       "1       2      Southern Tier Pumking clone   \n",
       "2       3      Zombie Dust Clone - EXTRACT   \n",
       "3       4    Zombie Dust Clone - ALL GRAIN   \n",
       "4       5  Bakke Brygg Belgisk Blonde 50 l   \n",
       "\n",
       "                                                 URL  \\\n",
       "0       /homebrew/recipe/view/1633/vanilla-cream-ale   \n",
       "1  /homebrew/recipe/view/16367/southern-tier-pumk...   \n",
       "2  /homebrew/recipe/view/5920/zombie-dust-clone-e...   \n",
       "3  /homebrew/recipe/view/5916/zombie-dust-clone-a...   \n",
       "4  /homebrew/recipe/view/89534/bakke-brygg-belgis...   \n",
       "\n",
       "                                Style  StyleID  Size(L)     OG     FG   ABV  \\\n",
       "0                           Cream Ale       45    21.77  1.055  1.013  5.48   \n",
       "1  Holiday/Winter Special Spiced Beer       85    20.82  1.083  1.021  8.16   \n",
       "2                        American IPA        7    18.93  1.063  1.018  5.91   \n",
       "3                        American IPA        7    22.71  1.061  1.017  5.80   \n",
       "4                   Belgian Blond Ale       20    50.00  1.060  1.010  6.48   \n",
       "\n",
       "     IBU       ...        BoilTime  BoilGravity  Efficiency  MashThickness  \\\n",
       "0  17.65       ...              75        1.038        70.0            NaN   \n",
       "1  60.65       ...              60        1.070        70.0            NaN   \n",
       "2  59.25       ...              60          NaN        70.0            NaN   \n",
       "3  54.48       ...              60          NaN        70.0            NaN   \n",
       "4  17.84       ...              90        1.050        72.0            NaN   \n",
       "\n",
       "         SugarScale  BrewMethod PitchRate PrimaryTemp  PrimingMethod  \\\n",
       "0  Specific Gravity   All Grain       NaN       17.78     corn sugar   \n",
       "1  Specific Gravity   All Grain       NaN         NaN            NaN   \n",
       "2  Specific Gravity     extract       NaN         NaN            NaN   \n",
       "3  Specific Gravity   All Grain       NaN         NaN            NaN   \n",
       "4  Specific Gravity   All Grain       NaN       19.00     Sukkerlake   \n",
       "\n",
       "    PrimingAmount  \n",
       "0          4.5 oz  \n",
       "1             NaN  \n",
       "2             NaN  \n",
       "3             NaN  \n",
       "4  6-7 g sukker/l  \n",
       "\n",
       "[5 rows x 22 columns]"
      ]
     },
     "execution_count": 5,
     "metadata": {},
     "output_type": "execute_result"
    }
   ],
   "source": [
    "recipes.head()"
   ]
  },
  {
   "cell_type": "code",
   "execution_count": 6,
   "metadata": {
    "collapsed": false
   },
   "outputs": [
    {
     "data": {
      "text/plain": [
       "BeerID           73861\n",
       "Name             73860\n",
       "URL              73861\n",
       "Style            73265\n",
       "StyleID          73861\n",
       "Size(L)          73861\n",
       "OG               73861\n",
       "FG               73861\n",
       "ABV              73861\n",
       "IBU              73861\n",
       "Color            73861\n",
       "BoilSize         73861\n",
       "BoilTime         73861\n",
       "BoilGravity      70871\n",
       "Efficiency       73861\n",
       "MashThickness    43997\n",
       "SugarScale       73861\n",
       "BrewMethod       73861\n",
       "PitchRate        34609\n",
       "PrimaryTemp      51199\n",
       "PrimingMethod     6766\n",
       "PrimingAmount     4776\n",
       "dtype: int64"
      ]
     },
     "execution_count": 6,
     "metadata": {},
     "output_type": "execute_result"
    }
   ],
   "source": [
    "recipes.count()"
   ]
  },
  {
   "cell_type": "code",
   "execution_count": 7,
   "metadata": {
    "collapsed": false
   },
   "outputs": [
    {
     "data": {
      "image/png": "[encoded data removed]",
      "text/plain": [
       "<matplotlib.figure.Figure at 0x12123f6a0>"
      ]
     },
     "metadata": {},
     "output_type": "display_data"
    }
   ],
   "source": [
    "#Question1\n",
    "plt.hist(recipes['BoilTime'])\n",
    "plt.show()\n",
    "#pros: see distribution of data\n",
    "#cons: limited information besides distribution"
   ]
  },
  {
   "cell_type": "code",
   "execution_count": 8,
   "metadata": {
    "collapsed": false,
    "scrolled": true
   },
   "outputs": [
    {
     "data": {
      "image/png": "[encoded data removed]",
      "text/plain": [
       "<matplotlib.figure.Figure at 0x105fce400>"
      ]
     },
     "metadata": {},
     "output_type": "display_data"
    }
   ],
   "source": [
    "plt.boxplot(recipes['BoilTime'])\n",
    "plt.show()\n",
    "#pros: lots of quantitative information. Easy to compare two categories.\n",
    "#cons: outliers screw up a boxplot"
   ]
  },
  {
   "cell_type": "code",
   "execution_count": 19,
   "metadata": {
    "collapsed": false
   },
   "outputs": [
    {
     "name": "stdout",
     "output_type": "stream",
     "text": [
      "60.0 60.0\n"
     ]
    }
   ],
   "source": [
    "Q1 = np.percentile(recipes['BoilTime'], 25)\n",
    "Q3 = np.percentile(recipes['BoilTime'], 75)\n",
    "print(Q1, Q3)"
   ]
  },
  {
   "cell_type": "code",
   "execution_count": 20,
   "metadata": {
    "collapsed": true
   },
   "outputs": [],
   "source": [
    "def reject_outliers(point, q1, q3):\n",
    "    iqr = q3 - q1\n",
    "    if point < (q1 - 1.5 * iqr):\n",
    "        return True\n",
    "    elif point > (q3 + 1.5 * iqr):\n",
    "        return True\n",
    "    else:\n",
    "        return False"
   ]
  },
  {
   "cell_type": "code",
   "execution_count": 16,
   "metadata": {
    "collapsed": false
   },
   "outputs": [
    {
     "data": {
      "text/plain": [
       "True"
      ]
     },
     "execution_count": 16,
     "metadata": {},
     "output_type": "execute_result"
    }
   ],
   "source": [
    "reject_outliers(recipes['BoilTime'], 5)"
   ]
  },
  {
   "cell_type": "code",
   "execution_count": 26,
   "metadata": {
    "collapsed": false
   },
   "outputs": [
    {
     "name": "stdout",
     "output_type": "stream",
     "text": [
      "0         True\n",
      "1        False\n",
      "2        False\n",
      "3        False\n",
      "4         True\n",
      "5         True\n",
      "6         True\n",
      "7         True\n",
      "8         True\n",
      "9        False\n",
      "10        True\n",
      "11        True\n",
      "12       False\n",
      "13       False\n",
      "14       False\n",
      "15       False\n",
      "16       False\n",
      "17       False\n",
      "18        True\n",
      "19       False\n",
      "20       False\n",
      "21       False\n",
      "22       False\n",
      "23       False\n",
      "24        True\n",
      "25       False\n",
      "26       False\n",
      "27        True\n",
      "28       False\n",
      "29       False\n",
      "         ...  \n",
      "73831    False\n",
      "73832    False\n",
      "73833    False\n",
      "73834    False\n",
      "73835    False\n",
      "73836    False\n",
      "73837    False\n",
      "73838    False\n",
      "73839    False\n",
      "73840    False\n",
      "73841     True\n",
      "73842    False\n",
      "73843    False\n",
      "73844    False\n",
      "73845    False\n",
      "73846    False\n",
      "73847    False\n",
      "73848    False\n",
      "73849    False\n",
      "73850    False\n",
      "73851    False\n",
      "73852    False\n",
      "73853    False\n",
      "73854    False\n",
      "73855     True\n",
      "73856    False\n",
      "73857    False\n",
      "73858     True\n",
      "73859    False\n",
      "73860    False\n",
      "Name: BoilTime, dtype: bool\n"
     ]
    },
    {
     "data": {
      "text/plain": [
       "{'boxes': [<matplotlib.lines.Line2D at 0x11efbeb38>],\n",
       " 'caps': [<matplotlib.lines.Line2D at 0x11efc4eb8>,\n",
       "  <matplotlib.lines.Line2D at 0x11efc9da0>],\n",
       " 'fliers': [<matplotlib.lines.Line2D at 0x11efcfe10>],\n",
       " 'means': [],\n",
       " 'medians': [<matplotlib.lines.Line2D at 0x11efc9f28>],\n",
       " 'whiskers': [<matplotlib.lines.Line2D at 0x11efbed68>,\n",
       "  <matplotlib.lines.Line2D at 0x11efc4d30>]}"
      ]
     },
     "execution_count": 26,
     "metadata": {},
     "output_type": "execute_result"
    },
    {
     "data": {
      "image/png": "[encoded data removed]",
      "text/plain": [
       "<matplotlib.figure.Figure at 0x11e5a8cf8>"
      ]
     },
     "metadata": {},
     "output_type": "display_data"
    }
   ],
   "source": [
    "recipes_bool = recipes['BoilTime'].apply(lambda x: reject_outliers(x, Q1, Q3))\n",
    "print(recipes_bool)\n",
    "boiltime = recipes['BoilTime'][recipes_bool]\n",
    "plt.boxplot(boiltime)"
   ]
  },
  {
   "cell_type": "code",
   "execution_count": null,
   "metadata": {
    "collapsed": true
   },
   "outputs": [],
   "source": [
    "def reject_outliers(data):\n",
    "    Q1 = np.percentile(data, 25)\n",
    "    Q3 = np.percentile(data, 75)\n",
    "    iqr = Q3 - Q1\n",
    "    for point in data:\n",
    "        if point < (Q1 - 1.5 * iqr):\n",
    "            point= np.nan\n",
    "        if point > (Q3 + 1.5 * iqr):\n",
    "            point= np.nan\n",
    "    data = pd.DataFrame(data).dropna()\n",
    "    return data   "
   ]
  },
  {
   "cell_type": "code",
   "execution_count": 13,
   "metadata": {
    "collapsed": false
   },
   "outputs": [
    {
     "name": "stdout",
     "output_type": "stream",
     "text": [
      "           BoilTime\n",
      "count  73861.000000\n",
      "mean      65.074870\n",
      "std       15.024228\n",
      "min        0.000000\n",
      "25%       60.000000\n",
      "50%       60.000000\n",
      "75%       60.000000\n",
      "max      240.000000\n",
      "count    73861.000000\n",
      "mean        65.074870\n",
      "std         15.024228\n",
      "min          0.000000\n",
      "25%         60.000000\n",
      "50%         60.000000\n",
      "75%         60.000000\n",
      "max        240.000000\n",
      "Name: BoilTime, dtype: float64\n"
     ]
    }
   ],
   "source": [
    "boiltime = reject_outliers(recipes['BoilTime'])\n",
    "print(boiltime.describe())\n",
    "print(recipes['BoilTime'].describe())"
   ]
  },
  {
   "cell_type": "code",
   "execution_count": null,
   "metadata": {
    "collapsed": false
   },
   "outputs": [],
   "source": [
    "print(len(recipes['BoilTime']))\n",
    "norm= np.random.normal(0, 1, 73861)\n",
    "norm.sort()\n",
    "plt.plot(norm, recipes['BoilTime'].sort_values(), \"o\") \n",
    "plt.show() \n",
    "#pros: can compare a distribiton.\n",
    "#cons: limited information. can do statistical test instead."
   ]
  },
  {
   "cell_type": "code",
   "execution_count": null,
   "metadata": {
    "collapsed": false
   },
   "outputs": [],
   "source": [
    "sns.boxplot(recipes['BoilTime'])\n",
    "plt.show()"
   ]
  },
  {
   "cell_type": "code",
   "execution_count": null,
   "metadata": {
    "collapsed": false
   },
   "outputs": [],
   "source": [
    "sns.distplot(recipes['BoilTime'])\n",
    "plt.show()\n",
    "#includes statistical information with histogram."
   ]
  },
  {
   "cell_type": "code",
   "execution_count": null,
   "metadata": {
    "collapsed": false
   },
   "outputs": [],
   "source": [
    "recipes.columns"
   ]
  },
  {
   "cell_type": "code",
   "execution_count": null,
   "metadata": {
    "collapsed": false
   },
   "outputs": [],
   "source": [
    "recipes['Color'].unique()"
   ]
  },
  {
   "cell_type": "code",
   "execution_count": null,
   "metadata": {
    "collapsed": false
   },
   "outputs": [],
   "source": [
    "#Question 2\n",
    "plt.scatter(recipes['Size(L)'], recipes['BoilTime'])\n",
    "plt.show()\n",
    "#pro: general trend of data. can strength of a correlation. can show influeence of outliers.\n",
    "#con: points overlap very easily"
   ]
  },
  {
   "cell_type": "code",
   "execution_count": null,
   "metadata": {
    "collapsed": false,
    "scrolled": true
   },
   "outputs": [],
   "source": [
    "sns.jointplot(recipes['Size(L)'], recipes['BoilTime'])\n",
    "plt.show()\n",
    "#combines univariate and bivariate distributions."
   ]
  },
  {
   "cell_type": "code",
   "execution_count": null,
   "metadata": {
    "collapsed": false
   },
   "outputs": [],
   "source": [
    "sns.jointplot(recipes['Size(L)'], recipes['BoilTime'], kind='hex', xlim=(0,1000))\n",
    "plt.show()"
   ]
  },
  {
   "cell_type": "code",
   "execution_count": null,
   "metadata": {
    "collapsed": false
   },
   "outputs": [],
   "source": [
    "sns.lmplot(y='BoilTime', x='Size(L)', data=recipes, fit_reg=True, scatter_kws={'alpha':0.4})\n",
    "plt.show()"
   ]
  },
  {
   "cell_type": "code",
   "execution_count": null,
   "metadata": {
    "collapsed": false
   },
   "outputs": [],
   "source": [
    "#Question 3\n",
    "recipes.boxplot(column='BoilTime', by='BrewMethod')\n",
    "plt.show()"
   ]
  },
  {
   "cell_type": "code",
   "execution_count": null,
   "metadata": {
    "collapsed": false
   },
   "outputs": [],
   "source": [
    "sns.barplot(x='BrewMethod', y='BoilTime', data=recipes)\n",
    "plt.show()\n",
    "#pro: can be used for ranking.\n",
    "#con: size of the bar misleading."
   ]
  },
  {
   "cell_type": "code",
   "execution_count": null,
   "metadata": {
    "collapsed": false
   },
   "outputs": [],
   "source": [
    "sns.stripplot(x='BrewMethod', y='BoilTime', data=recipes)\n",
    "plt.show()\n",
    "#pro: shows the actual data point.\n",
    "#con: boxplot gives more information."
   ]
  },
  {
   "cell_type": "code",
   "execution_count": null,
   "metadata": {
    "collapsed": false
   },
   "outputs": [],
   "source": [
    "sns.violinplot(x='BrewMethod', y='BoilTime', data=recipes)\n",
    "plt.show()\n",
    "#pro: visually appealing. gives more distribution information than boxplot.\n",
    "#con: not easy to understand for people not in statistics."
   ]
  },
  {
   "cell_type": "code",
   "execution_count": null,
   "metadata": {
    "collapsed": false
   },
   "outputs": [],
   "source": [
    "sns.pointplot(x='BrewMethod', y='BoilTime', data=recipes)\n",
    "plt.show()\n",
    "#pros: can use to show trends. shows error bars."
   ]
  },
  {
   "cell_type": "code",
   "execution_count": null,
   "metadata": {
    "collapsed": false
   },
   "outputs": [],
   "source": [
    "sns.lvplot(x='BrewMethod', y='BoilTime', data=recipes)\n",
    "plt.show()"
   ]
  },
  {
   "cell_type": "code",
   "execution_count": null,
   "metadata": {
    "collapsed": false
   },
   "outputs": [],
   "source": [
    "sns.pairplot(recipes)\n",
    "plt.show()\n",
    "#compares alot of stuff at once."
   ]
  },
  {
   "cell_type": "code",
   "execution_count": null,
   "metadata": {
    "collapsed": true
   },
   "outputs": [],
   "source": []
  }
 ],
 "metadata": {
  "anaconda-cloud": {},
  "kernelspec": {
   "display_name": "Python [default]",
   "language": "python",
   "name": "python3"
  },
  "language_info": {
   "codemirror_mode": {
    "name": "ipython",
    "version": 3
   },
   "file_extension": ".py",
   "mimetype": "text/x-python",
   "name": "python",
   "nbconvert_exporter": "python",
   "pygments_lexer": "ipython3",
   "version": "3.5.2"
  }
 },
 "nbformat": 4,
 "nbformat_minor": 1
}
