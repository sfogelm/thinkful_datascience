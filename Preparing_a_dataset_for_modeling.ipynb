{
 "cells": [
  {
   "cell_type": "code",
   "execution_count": 39,
   "metadata": {
    "collapsed": true
   },
   "outputs": [],
   "source": [
    "%matplotlib inline\n",
    "import pandas as pd\n",
    "import numpy as np\n",
    "import seaborn as sns\n",
    "from matplotlib import pyplot as plt\n",
    "from scipy import stats"
   ]
  },
  {
   "cell_type": "code",
   "execution_count": 40,
   "metadata": {
    "collapsed": false
   },
   "outputs": [],
   "source": [
    "students = pd.read_csv('/Users/spencerfogelman/Downloads/xAPI-Edu-Data.csv')"
   ]
  },
  {
   "cell_type": "code",
   "execution_count": 41,
   "metadata": {
    "collapsed": false
   },
   "outputs": [
    {
     "data": {
      "text/html": [
       "<div>\n",
       "<style scoped>\n",
       "    .dataframe tbody tr th:only-of-type {\n",
       "        vertical-align: middle;\n",
       "    }\n",
       "\n",
       "    .dataframe tbody tr th {\n",
       "        vertical-align: top;\n",
       "    }\n",
       "\n",
       "    .dataframe thead th {\n",
       "        text-align: right;\n",
       "    }\n",
       "</style>\n",
       "<table border=\"1\" class=\"dataframe\">\n",
       "  <thead>\n",
       "    <tr style=\"text-align: right;\">\n",
       "      <th></th>\n",
       "      <th>gender</th>\n",
       "      <th>NationalITy</th>\n",
       "      <th>PlaceofBirth</th>\n",
       "      <th>StageID</th>\n",
       "      <th>GradeID</th>\n",
       "      <th>SectionID</th>\n",
       "      <th>Topic</th>\n",
       "      <th>Semester</th>\n",
       "      <th>Relation</th>\n",
       "      <th>raisedhands</th>\n",
       "      <th>VisITedResources</th>\n",
       "      <th>AnnouncementsView</th>\n",
       "      <th>Discussion</th>\n",
       "      <th>ParentAnsweringSurvey</th>\n",
       "      <th>ParentschoolSatisfaction</th>\n",
       "      <th>StudentAbsenceDays</th>\n",
       "      <th>Class</th>\n",
       "    </tr>\n",
       "  </thead>\n",
       "  <tbody>\n",
       "    <tr>\n",
       "      <th>0</th>\n",
       "      <td>M</td>\n",
       "      <td>KW</td>\n",
       "      <td>KuwaIT</td>\n",
       "      <td>lowerlevel</td>\n",
       "      <td>G-04</td>\n",
       "      <td>A</td>\n",
       "      <td>IT</td>\n",
       "      <td>F</td>\n",
       "      <td>Father</td>\n",
       "      <td>15</td>\n",
       "      <td>16</td>\n",
       "      <td>2</td>\n",
       "      <td>20</td>\n",
       "      <td>Yes</td>\n",
       "      <td>Good</td>\n",
       "      <td>Under-7</td>\n",
       "      <td>M</td>\n",
       "    </tr>\n",
       "    <tr>\n",
       "      <th>1</th>\n",
       "      <td>M</td>\n",
       "      <td>KW</td>\n",
       "      <td>KuwaIT</td>\n",
       "      <td>lowerlevel</td>\n",
       "      <td>G-04</td>\n",
       "      <td>A</td>\n",
       "      <td>IT</td>\n",
       "      <td>F</td>\n",
       "      <td>Father</td>\n",
       "      <td>20</td>\n",
       "      <td>20</td>\n",
       "      <td>3</td>\n",
       "      <td>25</td>\n",
       "      <td>Yes</td>\n",
       "      <td>Good</td>\n",
       "      <td>Under-7</td>\n",
       "      <td>M</td>\n",
       "    </tr>\n",
       "    <tr>\n",
       "      <th>2</th>\n",
       "      <td>M</td>\n",
       "      <td>KW</td>\n",
       "      <td>KuwaIT</td>\n",
       "      <td>lowerlevel</td>\n",
       "      <td>G-04</td>\n",
       "      <td>A</td>\n",
       "      <td>IT</td>\n",
       "      <td>F</td>\n",
       "      <td>Father</td>\n",
       "      <td>10</td>\n",
       "      <td>7</td>\n",
       "      <td>0</td>\n",
       "      <td>30</td>\n",
       "      <td>No</td>\n",
       "      <td>Bad</td>\n",
       "      <td>Above-7</td>\n",
       "      <td>L</td>\n",
       "    </tr>\n",
       "    <tr>\n",
       "      <th>3</th>\n",
       "      <td>M</td>\n",
       "      <td>KW</td>\n",
       "      <td>KuwaIT</td>\n",
       "      <td>lowerlevel</td>\n",
       "      <td>G-04</td>\n",
       "      <td>A</td>\n",
       "      <td>IT</td>\n",
       "      <td>F</td>\n",
       "      <td>Father</td>\n",
       "      <td>30</td>\n",
       "      <td>25</td>\n",
       "      <td>5</td>\n",
       "      <td>35</td>\n",
       "      <td>No</td>\n",
       "      <td>Bad</td>\n",
       "      <td>Above-7</td>\n",
       "      <td>L</td>\n",
       "    </tr>\n",
       "    <tr>\n",
       "      <th>4</th>\n",
       "      <td>M</td>\n",
       "      <td>KW</td>\n",
       "      <td>KuwaIT</td>\n",
       "      <td>lowerlevel</td>\n",
       "      <td>G-04</td>\n",
       "      <td>A</td>\n",
       "      <td>IT</td>\n",
       "      <td>F</td>\n",
       "      <td>Father</td>\n",
       "      <td>40</td>\n",
       "      <td>50</td>\n",
       "      <td>12</td>\n",
       "      <td>50</td>\n",
       "      <td>No</td>\n",
       "      <td>Bad</td>\n",
       "      <td>Above-7</td>\n",
       "      <td>M</td>\n",
       "    </tr>\n",
       "  </tbody>\n",
       "</table>\n",
       "</div>"
      ],
      "text/plain": [
       "  gender NationalITy PlaceofBirth     StageID GradeID SectionID Topic  \\\n",
       "0      M          KW       KuwaIT  lowerlevel    G-04         A    IT   \n",
       "1      M          KW       KuwaIT  lowerlevel    G-04         A    IT   \n",
       "2      M          KW       KuwaIT  lowerlevel    G-04         A    IT   \n",
       "3      M          KW       KuwaIT  lowerlevel    G-04         A    IT   \n",
       "4      M          KW       KuwaIT  lowerlevel    G-04         A    IT   \n",
       "\n",
       "  Semester Relation  raisedhands  VisITedResources  AnnouncementsView  \\\n",
       "0        F   Father           15                16                  2   \n",
       "1        F   Father           20                20                  3   \n",
       "2        F   Father           10                 7                  0   \n",
       "3        F   Father           30                25                  5   \n",
       "4        F   Father           40                50                 12   \n",
       "\n",
       "   Discussion ParentAnsweringSurvey ParentschoolSatisfaction  \\\n",
       "0          20                   Yes                     Good   \n",
       "1          25                   Yes                     Good   \n",
       "2          30                    No                      Bad   \n",
       "3          35                    No                      Bad   \n",
       "4          50                    No                      Bad   \n",
       "\n",
       "  StudentAbsenceDays Class  \n",
       "0            Under-7     M  \n",
       "1            Under-7     M  \n",
       "2            Above-7     L  \n",
       "3            Above-7     L  \n",
       "4            Above-7     M  "
      ]
     },
     "execution_count": 41,
     "metadata": {},
     "output_type": "execute_result"
    }
   ],
   "source": [
    "students.head()"
   ]
  },
  {
   "cell_type": "markdown",
   "metadata": {},
   "source": [
    "# Univariate Exploration"
   ]
  },
  {
   "cell_type": "code",
   "execution_count": 42,
   "metadata": {
    "collapsed": false
   },
   "outputs": [
    {
     "data": {
      "text/plain": [
       "M    305\n",
       "F    175\n",
       "Name: gender, dtype: int64"
      ]
     },
     "execution_count": 42,
     "metadata": {},
     "output_type": "execute_result"
    }
   ],
   "source": [
    "students['gender'].value_counts()"
   ]
  },
  {
   "cell_type": "code",
   "execution_count": 43,
   "metadata": {
    "collapsed": false
   },
   "outputs": [
    {
     "data": {
      "text/plain": [
       "Father    283\n",
       "Mum       197\n",
       "Name: Relation, dtype: int64"
      ]
     },
     "execution_count": 43,
     "metadata": {},
     "output_type": "execute_result"
    }
   ],
   "source": [
    "students['Relation'].value_counts()"
   ]
  },
  {
   "cell_type": "code",
   "execution_count": 44,
   "metadata": {
    "collapsed": false
   },
   "outputs": [
    {
     "name": "stdout",
     "output_type": "stream",
     "text": [
      "(-0.1, 50.0]     254\n",
      "(50.0, 100.0]    226\n",
      "Name: raisedhands, dtype: int64\n"
     ]
    },
    {
     "data": {
      "image/png": "[encoded data removed]",
      "text/plain": [
       "<matplotlib.figure.Figure at 0x1a144e4f60>"
      ]
     },
     "metadata": {},
     "output_type": "display_data"
    }
   ],
   "source": [
    "plt.hist(students['raisedhands'])\n",
    "raisedhands_cat = pd.cut(students['raisedhands'], bins=2)\n",
    "print(raisedhands_cat.value_counts())\n",
    "plt.show()"
   ]
  },
  {
   "cell_type": "code",
   "execution_count": 45,
   "metadata": {
    "collapsed": false
   },
   "outputs": [
    {
     "name": "stdout",
     "output_type": "stream",
     "text": [
      "  gender NationalITy PlaceofBirth     StageID GradeID SectionID Topic  \\\n",
      "0      M          KW       KuwaIT  lowerlevel    G-04         A    IT   \n",
      "1      M          KW       KuwaIT  lowerlevel    G-04         A    IT   \n",
      "2      M          KW       KuwaIT  lowerlevel    G-04         A    IT   \n",
      "3      M          KW       KuwaIT  lowerlevel    G-04         A    IT   \n",
      "4      M          KW       KuwaIT  lowerlevel    G-04         A    IT   \n",
      "\n",
      "  Semester Relation  raisedhands  VisITedResources  AnnouncementsView  \\\n",
      "0        F   Father           15                16                  2   \n",
      "1        F   Father           20                20                  3   \n",
      "2        F   Father           10                 7                  0   \n",
      "3        F   Father           30                25                  5   \n",
      "4        F   Father           40                50                 12   \n",
      "\n",
      "   Discussion ParentAnsweringSurvey ParentschoolSatisfaction  \\\n",
      "0          20                   Yes                     Good   \n",
      "1          25                   Yes                     Good   \n",
      "2          30                    No                      Bad   \n",
      "3          35                    No                      Bad   \n",
      "4          50                    No                      Bad   \n",
      "\n",
      "  StudentAbsenceDays Class  Many_Raised_Hands  Few_Raised_Hands  \n",
      "0            Under-7     M                  0                 1  \n",
      "1            Under-7     M                  0                 1  \n",
      "2            Above-7     L                  0                 1  \n",
      "3            Above-7     L                  0                 1  \n",
      "4            Above-7     M                  0                 1  \n"
     ]
    }
   ],
   "source": [
    "students['Many_Raised_Hands']=np.where(students['raisedhands']>=50, 1, 0)\n",
    "students['Few_Raised_Hands'] = np.where(students['raisedhands']<50, 1, 0)\n",
    "print(students.head())"
   ]
  },
  {
   "cell_type": "code",
   "execution_count": 46,
   "metadata": {
    "collapsed": false
   },
   "outputs": [
    {
     "data": {
      "image/png": "[encoded data removed]",
      "text/plain": [
       "<matplotlib.figure.Figure at 0x1a144e4438>"
      ]
     },
     "metadata": {},
     "output_type": "display_data"
    }
   ],
   "source": [
    "plt.hist(students['VisITedResources'])\n",
    "plt.show()"
   ]
  },
  {
   "cell_type": "code",
   "execution_count": 47,
   "metadata": {
    "collapsed": false
   },
   "outputs": [
    {
     "data": {
      "image/png": "[encoded data removed]",
      "text/plain": [
       "<matplotlib.figure.Figure at 0x1a1d0fae10>"
      ]
     },
     "metadata": {},
     "output_type": "display_data"
    }
   ],
   "source": [
    "plt.hist(students['AnnouncementsView'])\n",
    "plt.show()"
   ]
  },
  {
   "cell_type": "code",
   "execution_count": 48,
   "metadata": {
    "collapsed": false
   },
   "outputs": [
    {
     "data": {
      "image/png": "[encoded data removed]",
      "text/plain": [
       "<matplotlib.figure.Figure at 0x1a1c890ef0>"
      ]
     },
     "metadata": {},
     "output_type": "display_data"
    },
    {
     "name": "stdout",
     "output_type": "stream",
     "text": [
      "                             raisedhands  VisITedResources  AnnouncementsView  \\\n",
      "raisedhands                     1.000000          0.691572           0.643918   \n",
      "VisITedResources                0.691572          1.000000           0.594500   \n",
      "AnnouncementsView               0.643918          0.594500           1.000000   \n",
      "Discussion                      0.339386          0.243292           0.417290   \n",
      "Many_Raised_Hands               0.913120          0.640720           0.575550   \n",
      "Few_Raised_Hands               -0.913120         -0.640720          -0.575550   \n",
      "resources_announcements_avg     0.747848          0.892889           0.892889   \n",
      "\n",
      "                             Discussion  Many_Raised_Hands  Few_Raised_Hands  \\\n",
      "raisedhands                    0.339386           0.913120         -0.913120   \n",
      "VisITedResources               0.243292           0.640720         -0.640720   \n",
      "AnnouncementsView              0.417290           0.575550         -0.575550   \n",
      "Discussion                     1.000000           0.297353         -0.297353   \n",
      "Many_Raised_Hands              0.297353           1.000000         -1.000000   \n",
      "Few_Raised_Hands              -0.297353          -1.000000          1.000000   \n",
      "resources_announcements_avg    0.369913           0.681087         -0.681087   \n",
      "\n",
      "                             resources_announcements_avg  \n",
      "raisedhands                                     0.747848  \n",
      "VisITedResources                                0.892889  \n",
      "AnnouncementsView                               0.892889  \n",
      "Discussion                                      0.369913  \n",
      "Many_Raised_Hands                               0.681087  \n",
      "Few_Raised_Hands                               -0.681087  \n",
      "resources_announcements_avg                     1.000000  \n"
     ]
    }
   ],
   "source": [
    "means = students[['VisITedResources', 'AnnouncementsView' ]].mean(axis=0)\n",
    "stds = students[['VisITedResources', 'AnnouncementsView']].std(axis=0)\n",
    "students['resources_announcements_avg'] = ((students[['VisITedResources', 'AnnouncementsView']] - means) / stds).mean(axis=1)\n",
    "plt.hist(students['resources_announcements_avg'])\n",
    "plt.show()\n",
    "print(students.corr())"
   ]
  },
  {
   "cell_type": "code",
   "execution_count": 49,
   "metadata": {
    "collapsed": false
   },
   "outputs": [
    {
     "data": {
      "image/png": "[encoded data removed]",
      "text/plain": [
       "<matplotlib.figure.Figure at 0x1a144d8d30>"
      ]
     },
     "metadata": {},
     "output_type": "display_data"
    }
   ],
   "source": [
    "students['Discussion'] = (students['Discussion'] - students['Discussion'].mean()) / students['Discussion'].std()\n",
    "plt.hist(students['Discussion'])\n",
    "plt.show()"
   ]
  },
  {
   "cell_type": "code",
   "execution_count": 50,
   "metadata": {
    "collapsed": false
   },
   "outputs": [
    {
     "data": {
      "text/plain": [
       "M    211\n",
       "H    142\n",
       "L    127\n",
       "Name: Class, dtype: int64"
      ]
     },
     "execution_count": 50,
     "metadata": {},
     "output_type": "execute_result"
    }
   ],
   "source": [
    "students['Class'].value_counts()"
   ]
  },
  {
   "cell_type": "code",
   "execution_count": 51,
   "metadata": {
    "collapsed": false
   },
   "outputs": [
    {
     "data": {
      "text/html": [
       "<div>\n",
       "<style scoped>\n",
       "    .dataframe tbody tr th:only-of-type {\n",
       "        vertical-align: middle;\n",
       "    }\n",
       "\n",
       "    .dataframe tbody tr th {\n",
       "        vertical-align: top;\n",
       "    }\n",
       "\n",
       "    .dataframe thead th {\n",
       "        text-align: right;\n",
       "    }\n",
       "</style>\n",
       "<table border=\"1\" class=\"dataframe\">\n",
       "  <thead>\n",
       "    <tr style=\"text-align: right;\">\n",
       "      <th></th>\n",
       "      <th>gender</th>\n",
       "      <th>NationalITy</th>\n",
       "      <th>PlaceofBirth</th>\n",
       "      <th>StageID</th>\n",
       "      <th>GradeID</th>\n",
       "      <th>SectionID</th>\n",
       "      <th>Topic</th>\n",
       "      <th>Semester</th>\n",
       "      <th>Relation</th>\n",
       "      <th>raisedhands</th>\n",
       "      <th>VisITedResources</th>\n",
       "      <th>AnnouncementsView</th>\n",
       "      <th>Discussion</th>\n",
       "      <th>ParentAnsweringSurvey</th>\n",
       "      <th>ParentschoolSatisfaction</th>\n",
       "      <th>StudentAbsenceDays</th>\n",
       "      <th>Class</th>\n",
       "      <th>Many_Raised_Hands</th>\n",
       "      <th>Few_Raised_Hands</th>\n",
       "      <th>resources_announcements_avg</th>\n",
       "    </tr>\n",
       "  </thead>\n",
       "  <tbody>\n",
       "    <tr>\n",
       "      <th>0</th>\n",
       "      <td>M</td>\n",
       "      <td>KW</td>\n",
       "      <td>KuwaIT</td>\n",
       "      <td>lowerlevel</td>\n",
       "      <td>G-04</td>\n",
       "      <td>A</td>\n",
       "      <td>IT</td>\n",
       "      <td>F</td>\n",
       "      <td>Father</td>\n",
       "      <td>15</td>\n",
       "      <td>16</td>\n",
       "      <td>2</td>\n",
       "      <td>-0.842447</td>\n",
       "      <td>Yes</td>\n",
       "      <td>Good</td>\n",
       "      <td>Under-7</td>\n",
       "      <td>M</td>\n",
       "      <td>0</td>\n",
       "      <td>1</td>\n",
       "      <td>-1.261305</td>\n",
       "    </tr>\n",
       "    <tr>\n",
       "      <th>1</th>\n",
       "      <td>M</td>\n",
       "      <td>KW</td>\n",
       "      <td>KuwaIT</td>\n",
       "      <td>lowerlevel</td>\n",
       "      <td>G-04</td>\n",
       "      <td>A</td>\n",
       "      <td>IT</td>\n",
       "      <td>F</td>\n",
       "      <td>Father</td>\n",
       "      <td>20</td>\n",
       "      <td>20</td>\n",
       "      <td>3</td>\n",
       "      <td>-0.661535</td>\n",
       "      <td>Yes</td>\n",
       "      <td>Good</td>\n",
       "      <td>Under-7</td>\n",
       "      <td>M</td>\n",
       "      <td>0</td>\n",
       "      <td>1</td>\n",
       "      <td>-1.182056</td>\n",
       "    </tr>\n",
       "    <tr>\n",
       "      <th>2</th>\n",
       "      <td>M</td>\n",
       "      <td>KW</td>\n",
       "      <td>KuwaIT</td>\n",
       "      <td>lowerlevel</td>\n",
       "      <td>G-04</td>\n",
       "      <td>A</td>\n",
       "      <td>IT</td>\n",
       "      <td>F</td>\n",
       "      <td>Father</td>\n",
       "      <td>10</td>\n",
       "      <td>7</td>\n",
       "      <td>0</td>\n",
       "      <td>-0.480623</td>\n",
       "      <td>No</td>\n",
       "      <td>Bad</td>\n",
       "      <td>Above-7</td>\n",
       "      <td>L</td>\n",
       "      <td>0</td>\n",
       "      <td>1</td>\n",
       "      <td>-1.434917</td>\n",
       "    </tr>\n",
       "    <tr>\n",
       "      <th>3</th>\n",
       "      <td>M</td>\n",
       "      <td>KW</td>\n",
       "      <td>KuwaIT</td>\n",
       "      <td>lowerlevel</td>\n",
       "      <td>G-04</td>\n",
       "      <td>A</td>\n",
       "      <td>IT</td>\n",
       "      <td>F</td>\n",
       "      <td>Father</td>\n",
       "      <td>30</td>\n",
       "      <td>25</td>\n",
       "      <td>5</td>\n",
       "      <td>-0.299711</td>\n",
       "      <td>No</td>\n",
       "      <td>Bad</td>\n",
       "      <td>Above-7</td>\n",
       "      <td>L</td>\n",
       "      <td>0</td>\n",
       "      <td>1</td>\n",
       "      <td>-1.068904</td>\n",
       "    </tr>\n",
       "    <tr>\n",
       "      <th>4</th>\n",
       "      <td>M</td>\n",
       "      <td>KW</td>\n",
       "      <td>KuwaIT</td>\n",
       "      <td>lowerlevel</td>\n",
       "      <td>G-04</td>\n",
       "      <td>A</td>\n",
       "      <td>IT</td>\n",
       "      <td>F</td>\n",
       "      <td>Father</td>\n",
       "      <td>40</td>\n",
       "      <td>50</td>\n",
       "      <td>12</td>\n",
       "      <td>0.243025</td>\n",
       "      <td>No</td>\n",
       "      <td>Bad</td>\n",
       "      <td>Above-7</td>\n",
       "      <td>M</td>\n",
       "      <td>0</td>\n",
       "      <td>1</td>\n",
       "      <td>-0.559509</td>\n",
       "    </tr>\n",
       "  </tbody>\n",
       "</table>\n",
       "</div>"
      ],
      "text/plain": [
       "  gender NationalITy PlaceofBirth     StageID GradeID SectionID Topic  \\\n",
       "0      M          KW       KuwaIT  lowerlevel    G-04         A    IT   \n",
       "1      M          KW       KuwaIT  lowerlevel    G-04         A    IT   \n",
       "2      M          KW       KuwaIT  lowerlevel    G-04         A    IT   \n",
       "3      M          KW       KuwaIT  lowerlevel    G-04         A    IT   \n",
       "4      M          KW       KuwaIT  lowerlevel    G-04         A    IT   \n",
       "\n",
       "  Semester Relation  raisedhands  VisITedResources  AnnouncementsView  \\\n",
       "0        F   Father           15                16                  2   \n",
       "1        F   Father           20                20                  3   \n",
       "2        F   Father           10                 7                  0   \n",
       "3        F   Father           30                25                  5   \n",
       "4        F   Father           40                50                 12   \n",
       "\n",
       "   Discussion ParentAnsweringSurvey ParentschoolSatisfaction  \\\n",
       "0   -0.842447                   Yes                     Good   \n",
       "1   -0.661535                   Yes                     Good   \n",
       "2   -0.480623                    No                      Bad   \n",
       "3   -0.299711                    No                      Bad   \n",
       "4    0.243025                    No                      Bad   \n",
       "\n",
       "  StudentAbsenceDays Class  Many_Raised_Hands  Few_Raised_Hands  \\\n",
       "0            Under-7     M                  0                 1   \n",
       "1            Under-7     M                  0                 1   \n",
       "2            Above-7     L                  0                 1   \n",
       "3            Above-7     L                  0                 1   \n",
       "4            Above-7     M                  0                 1   \n",
       "\n",
       "   resources_announcements_avg  \n",
       "0                    -1.261305  \n",
       "1                    -1.182056  \n",
       "2                    -1.434917  \n",
       "3                    -1.068904  \n",
       "4                    -0.559509  "
      ]
     },
     "execution_count": 51,
     "metadata": {},
     "output_type": "execute_result"
    }
   ],
   "source": [
    "students.head()"
   ]
  },
  {
   "cell_type": "markdown",
   "metadata": {},
   "source": [
    "# Continous Bivariate Exploration"
   ]
  },
  {
   "cell_type": "code",
   "execution_count": 52,
   "metadata": {
    "collapsed": false
   },
   "outputs": [
    {
     "name": "stdout",
     "output_type": "stream",
     "text": [
      "                             raisedhands  VisITedResources  AnnouncementsView  \\\n",
      "raisedhands                     1.000000          0.691572           0.643918   \n",
      "VisITedResources                0.691572          1.000000           0.594500   \n",
      "AnnouncementsView               0.643918          0.594500           1.000000   \n",
      "Discussion                      0.339386          0.243292           0.417290   \n",
      "Many_Raised_Hands               0.913120          0.640720           0.575550   \n",
      "Few_Raised_Hands               -0.913120         -0.640720          -0.575550   \n",
      "resources_announcements_avg     0.747848          0.892889           0.892889   \n",
      "\n",
      "                             Discussion  Many_Raised_Hands  Few_Raised_Hands  \\\n",
      "raisedhands                    0.339386           0.913120         -0.913120   \n",
      "VisITedResources               0.243292           0.640720         -0.640720   \n",
      "AnnouncementsView              0.417290           0.575550         -0.575550   \n",
      "Discussion                     1.000000           0.297353         -0.297353   \n",
      "Many_Raised_Hands              0.297353           1.000000         -1.000000   \n",
      "Few_Raised_Hands              -0.297353          -1.000000          1.000000   \n",
      "resources_announcements_avg    0.369913           0.681087         -0.681087   \n",
      "\n",
      "                             resources_announcements_avg  \n",
      "raisedhands                                     0.747848  \n",
      "VisITedResources                                0.892889  \n",
      "AnnouncementsView                               0.892889  \n",
      "Discussion                                      0.369913  \n",
      "Many_Raised_Hands                               0.681087  \n",
      "Few_Raised_Hands                               -0.681087  \n",
      "resources_announcements_avg                     1.000000  \n"
     ]
    },
    {
     "data": {
      "image/png": "[encoded data removed]",
      "text/plain": [
       "<matplotlib.figure.Figure at 0x1a1de49ba8>"
      ]
     },
     "metadata": {},
     "output_type": "display_data"
    }
   ],
   "source": [
    "corrmat = students.corr()\n",
    "print(corrmat)\n",
    "sns.heatmap(corrmat)\n",
    "plt.show()"
   ]
  },
  {
   "cell_type": "markdown",
   "metadata": {},
   "source": [
    "# Categorial + Continous"
   ]
  },
  {
   "cell_type": "code",
   "execution_count": 53,
   "metadata": {
    "collapsed": false
   },
   "outputs": [
    {
     "data": {
      "image/png": "[encoded data removed]",
      "text/plain": [
       "<matplotlib.figure.Figure at 0x1a1cae4c18>"
      ]
     },
     "metadata": {},
     "output_type": "display_data"
    }
   ],
   "source": [
    "sns.boxplot(x='gender', y='raisedhands', data=students)\n",
    "plt.show()"
   ]
  },
  {
   "cell_type": "code",
   "execution_count": 54,
   "metadata": {
    "collapsed": false
   },
   "outputs": [
    {
     "data": {
      "image/png": "[encoded data removed]",
      "text/plain": [
       "<matplotlib.figure.Figure at 0x1a1de3fd30>"
      ]
     },
     "metadata": {},
     "output_type": "display_data"
    }
   ],
   "source": [
    "sns.boxplot(x='gender', y='VisITedResources', data=students)\n",
    "plt.show()"
   ]
  },
  {
   "cell_type": "code",
   "execution_count": 55,
   "metadata": {
    "collapsed": false
   },
   "outputs": [
    {
     "data": {
      "image/png": "[encoded data removed]",
      "text/plain": [
       "<matplotlib.figure.Figure at 0x1a1d25e630>"
      ]
     },
     "metadata": {},
     "output_type": "display_data"
    }
   ],
   "source": [
    "sns.boxplot(x='gender', y='AnnouncementsView', data=students)\n",
    "plt.show()"
   ]
  },
  {
   "cell_type": "code",
   "execution_count": 56,
   "metadata": {
    "collapsed": false
   },
   "outputs": [
    {
     "data": {
      "image/png": "[encoded data removed]",
      "text/plain": [
       "<matplotlib.figure.Figure at 0x1a1e14f240>"
      ]
     },
     "metadata": {},
     "output_type": "display_data"
    }
   ],
   "source": [
    "sns.boxplot(x='gender', y='Discussion', data=students)\n",
    "plt.show()"
   ]
  },
  {
   "cell_type": "code",
   "execution_count": 57,
   "metadata": {
    "collapsed": false
   },
   "outputs": [
    {
     "name": "stdout",
     "output_type": "stream",
     "text": [
      "  gender     variable  value\n",
      "0      M  raisedhands   15.0\n",
      "1      M  raisedhands   20.0\n",
      "2      M  raisedhands   10.0\n",
      "3      M  raisedhands   30.0\n",
      "4      M  raisedhands   40.0\n"
     ]
    }
   ],
   "source": [
    "students_gender = students[['gender','raisedhands', 'VisITedResources', 'AnnouncementsView', 'Discussion' ]]\n",
    "students_gender_long = pd.melt(students_gender, id_vars=['gender'])\n",
    "print(students_gender_long.head())"
   ]
  },
  {
   "cell_type": "code",
   "execution_count": 58,
   "metadata": {
    "collapsed": false
   },
   "outputs": [
    {
     "name": "stderr",
     "output_type": "stream",
     "text": [
      "/Users/spencerfogelman/anaconda/lib/python3.5/site-packages/seaborn/axisgrid.py:703: UserWarning: Using the boxplot function without specifying `order` is likely to produce an incorrect plot.\n",
      "  warnings.warn(warning)\n"
     ]
    },
    {
     "data": {
      "image/png": "[encoded data removed]",
      "text/plain": [
       "<matplotlib.figure.Figure at 0x1a1ca8b390>"
      ]
     },
     "metadata": {},
     "output_type": "display_data"
    }
   ],
   "source": [
    "g = sns.FacetGrid(students_gender_long, col=\"variable\")\n",
    "g = g.map(sns.boxplot, \"gender\", \"value\")\n",
    "plt.show()"
   ]
  },
  {
   "cell_type": "code",
   "execution_count": 59,
   "metadata": {
    "collapsed": false
   },
   "outputs": [
    {
     "name": "stdout",
     "output_type": "stream",
     "text": [
      "raisedhands\n",
      "Ttest_indResult(statistic=-3.3165221359412342, pvalue=0.0009808734351462534)\n",
      "VisITedResources\n",
      "Ttest_indResult(statistic=-4.71779860450687, pvalue=3.1346741830998905e-06)\n",
      "AnnouncementsView\n",
      "Ttest_indResult(statistic=-1.1414859402754376, pvalue=0.25423927937055196)\n",
      "Discussion\n",
      "Ttest_indResult(statistic=-2.7478526810766906, pvalue=0.006225461285887796)\n"
     ]
    }
   ],
   "source": [
    "for col in students.loc[:,'raisedhands':'Discussion'].columns:\n",
    "    print(col)\n",
    "    print(stats.ttest_ind(\n",
    "        students[students['gender'] == 'M'][col],\n",
    "        students[students['gender'] == 'F'][col]\n",
    "    ))"
   ]
  },
  {
   "cell_type": "code",
   "execution_count": 60,
   "metadata": {
    "collapsed": false
   },
   "outputs": [
    {
     "name": "stdout",
     "output_type": "stream",
     "text": [
      "  Relation     variable  value\n",
      "0   Father  raisedhands   15.0\n",
      "1   Father  raisedhands   20.0\n",
      "2   Father  raisedhands   10.0\n",
      "3   Father  raisedhands   30.0\n",
      "4   Father  raisedhands   40.0\n"
     ]
    }
   ],
   "source": [
    "students_relation = students[['Relation','raisedhands', 'VisITedResources', 'AnnouncementsView', 'Discussion' ]]\n",
    "students_relation_long = pd.melt(students_relation, id_vars=['Relation'])\n",
    "print(students_relation_long.head())"
   ]
  },
  {
   "cell_type": "code",
   "execution_count": 61,
   "metadata": {
    "collapsed": false
   },
   "outputs": [
    {
     "name": "stderr",
     "output_type": "stream",
     "text": [
      "/Users/spencerfogelman/anaconda/lib/python3.5/site-packages/seaborn/axisgrid.py:703: UserWarning: Using the boxplot function without specifying `order` is likely to produce an incorrect plot.\n",
      "  warnings.warn(warning)\n"
     ]
    },
    {
     "data": {
      "image/png": "[encoded data removed]",
      "text/plain": [
       "<matplotlib.figure.Figure at 0x1a14bcd4a8>"
      ]
     },
     "metadata": {},
     "output_type": "display_data"
    }
   ],
   "source": [
    "g = sns.FacetGrid(students_relation_long, col=\"variable\")\n",
    "g = g.map(sns.boxplot, \"Relation\", \"value\")\n",
    "plt.show()"
   ]
  },
  {
   "cell_type": "code",
   "execution_count": 62,
   "metadata": {
    "collapsed": false
   },
   "outputs": [
    {
     "name": "stdout",
     "output_type": "stream",
     "text": [
      "raisedhands\n",
      "Ttest_indResult(statistic=-8.55076704363199, pvalue=1.663972340287496e-16)\n",
      "VisITedResources\n",
      "Ttest_indResult(statistic=-8.442872220285047, pvalue=3.7298741612160346e-16)\n",
      "AnnouncementsView\n",
      "Ttest_indResult(statistic=-7.891382147237614, pvalue=2.0558275488746067e-14)\n",
      "Discussion\n",
      "Ttest_indResult(statistic=-0.584385879020266, pvalue=0.5592364237758201)\n"
     ]
    }
   ],
   "source": [
    "for col in students.loc[:,'raisedhands':'Discussion'].columns:\n",
    "    print(col)\n",
    "    print(stats.ttest_ind(\n",
    "        students[students['Relation'] == 'Father'][col],\n",
    "        students[students['Relation'] == 'Mum'][col]\n",
    "    ))"
   ]
  },
  {
   "cell_type": "markdown",
   "metadata": {},
   "source": [
    "# Categorical Bivariate"
   ]
  },
  {
   "cell_type": "code",
   "execution_count": 63,
   "metadata": {
    "collapsed": false
   },
   "outputs": [
    {
     "data": {
      "image/png": "[encoded data removed]",
      "text/plain": [
       "<matplotlib.figure.Figure at 0x1a1e2bb320>"
      ]
     },
     "metadata": {},
     "output_type": "display_data"
    }
   ],
   "source": [
    "students_cat = students[['gender', 'Relation']]\n",
    "sns.countplot(y='gender', hue='Relation', data=students_cat)\n",
    "plt.show()"
   ]
  },
  {
   "cell_type": "code",
   "execution_count": 64,
   "metadata": {
    "collapsed": false
   },
   "outputs": [
    {
     "name": "stdout",
     "output_type": "stream",
     "text": [
      "Relation  Father  Mum\n",
      "gender               \n",
      "F             81   94\n",
      "M            202  103\n"
     ]
    }
   ],
   "source": [
    "counttable = pd.crosstab(students_cat['gender'], students_cat['Relation'])\n",
    "print(counttable)"
   ]
  },
  {
   "cell_type": "code",
   "execution_count": 65,
   "metadata": {
    "collapsed": false
   },
   "outputs": [
    {
     "name": "stdout",
     "output_type": "stream",
     "text": [
      "Power_divergenceResult(statistic=76.75, pvalue=1.5274971693838403e-16)\n"
     ]
    }
   ],
   "source": [
    "print(stats.chisquare(counttable, axis=None))"
   ]
  },
  {
   "cell_type": "markdown",
   "metadata": {},
   "source": [
    "# Feature Engineering"
   ]
  },
  {
   "cell_type": "code",
   "execution_count": 66,
   "metadata": {
    "collapsed": false
   },
   "outputs": [
    {
     "name": "stdout",
     "output_type": "stream",
     "text": [
      "   gender_F  gender_M  Relation_Father  Relation_Mum\n",
      "0         0         1                1             0\n",
      "1         0         1                1             0\n",
      "2         0         1                1             0\n",
      "3         0         1                1             0\n",
      "4         0         1                1             0\n"
     ]
    }
   ],
   "source": [
    "features = pd.get_dummies(students[['gender', 'Relation']])\n",
    "print(features.head())"
   ]
  },
  {
   "cell_type": "code",
   "execution_count": 67,
   "metadata": {
    "collapsed": true
   },
   "outputs": [],
   "source": [
    "features['Many_Raised_Hands'] = students['Many_Raised_Hands']\n",
    "features['Few_Raised_Hands'] = students['Few_Raised_Hands']"
   ]
  },
  {
   "cell_type": "code",
   "execution_count": 68,
   "metadata": {
    "collapsed": false
   },
   "outputs": [],
   "source": [
    "features['resources_announcements_avg'] = students['resources_announcements_avg']"
   ]
  },
  {
   "cell_type": "code",
   "execution_count": 69,
   "metadata": {
    "collapsed": true
   },
   "outputs": [],
   "source": [
    "features['Discussion'] = students['Discussion']"
   ]
  },
  {
   "cell_type": "code",
   "execution_count": 70,
   "metadata": {
    "collapsed": false
   },
   "outputs": [
    {
     "name": "stdout",
     "output_type": "stream",
     "text": [
      "   gender_F  gender_M  Relation_Father  Relation_Mum  Many_Raised_Hands  \\\n",
      "0         0         1                1             0                  0   \n",
      "1         0         1                1             0                  0   \n",
      "2         0         1                1             0                  0   \n",
      "3         0         1                1             0                  0   \n",
      "4         0         1                1             0                  0   \n",
      "\n",
      "   Few_Raised_Hands  resources_announcements_avg  Discussion  \n",
      "0                 1                    -1.261305   -0.842447  \n",
      "1                 1                    -1.182056   -0.661535  \n",
      "2                 1                    -1.434917   -0.480623  \n",
      "3                 1                    -1.068904   -0.299711  \n",
      "4                 1                    -0.559509    0.243025  \n"
     ]
    }
   ],
   "source": [
    "print(features.head())"
   ]
  },
  {
   "cell_type": "code",
   "execution_count": 71,
   "metadata": {
    "collapsed": true
   },
   "outputs": [],
   "source": [
    "features['Gender_Raised_Hands'] = features['gender_F'] * features['Many_Raised_Hands']"
   ]
  },
  {
   "cell_type": "code",
   "execution_count": 72,
   "metadata": {
    "collapsed": true
   },
   "outputs": [],
   "source": [
    "features['Relation_Discussion'] = features['Relation_Father'] * features['Discussion']"
   ]
  },
  {
   "cell_type": "code",
   "execution_count": 73,
   "metadata": {
    "collapsed": false
   },
   "outputs": [
    {
     "name": "stdout",
     "output_type": "stream",
     "text": [
      "   gender_F  gender_M  Relation_Father  Relation_Mum  Many_Raised_Hands  \\\n",
      "0         0         1                1             0                  0   \n",
      "1         0         1                1             0                  0   \n",
      "2         0         1                1             0                  0   \n",
      "3         0         1                1             0                  0   \n",
      "4         0         1                1             0                  0   \n",
      "\n",
      "   Few_Raised_Hands  resources_announcements_avg  Discussion  \\\n",
      "0                 1                    -1.261305   -0.842447   \n",
      "1                 1                    -1.182056   -0.661535   \n",
      "2                 1                    -1.434917   -0.480623   \n",
      "3                 1                    -1.068904   -0.299711   \n",
      "4                 1                    -0.559509    0.243025   \n",
      "\n",
      "   Gender_Raised_Hands  Relation_Discussion  \n",
      "0                    0            -0.842447  \n",
      "1                    0            -0.661535  \n",
      "2                    0            -0.480623  \n",
      "3                    0            -0.299711  \n",
      "4                    0             0.243025  \n"
     ]
    }
   ],
   "source": [
    "print(features.head())"
   ]
  },
  {
   "cell_type": "code",
   "execution_count": 74,
   "metadata": {
    "collapsed": true
   },
   "outputs": [],
   "source": [
    "features['Class'] = students['Class']"
   ]
  },
  {
   "cell_type": "code",
   "execution_count": null,
   "metadata": {
    "collapsed": true
   },
   "outputs": [],
   "source": []
  }
 ],
 "metadata": {
  "anaconda-cloud": {},
  "kernelspec": {
   "display_name": "Python [default]",
   "language": "python",
   "name": "python3"
  },
  "language_info": {
   "codemirror_mode": {
    "name": "ipython",
    "version": 3
   },
   "file_extension": ".py",
   "mimetype": "text/x-python",
   "name": "python",
   "nbconvert_exporter": "python",
   "pygments_lexer": "ipython3",
   "version": "3.5.2"
  }
 },
 "nbformat": 4,
 "nbformat_minor": 1
}
