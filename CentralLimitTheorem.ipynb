{
 "cells": [
  {
   "cell_type": "code",
   "execution_count": 1,
   "metadata": {
    "collapsed": true
   },
   "outputs": [],
   "source": [
    "import numpy as np\n",
    "import pandas as pd\n",
    "import scipy\n",
    "import matplotlib.pyplot as plt\n",
    "%matplotlib inline"
   ]
  },
  {
   "cell_type": "code",
   "execution_count": 2,
   "metadata": {
    "collapsed": false
   },
   "outputs": [
    {
     "name": "stdout",
     "output_type": "stream",
     "text": [
      "2.04\n",
      "4.86\n",
      "1.32604675634\n",
      "1.60012499512\n"
     ]
    }
   ],
   "source": [
    "pop1 = np.random.binomial(10, 0.2, 10000)\n",
    "pop2 = np.random.binomial(10,0.5, 10000)\n",
    "sample1 = np.random.choice(pop1, 100, replace=True)\n",
    "sample2 = np.random.choice(pop2, 100, replace=True)\n",
    "print(sample1.mean())\n",
    "print(sample2.mean())\n",
    "print(sample1.std())\n",
    "print(sample2.std())"
   ]
  },
  {
   "cell_type": "code",
   "execution_count": 5,
   "metadata": {
    "collapsed": false
   },
   "outputs": [
    {
     "name": "stdout",
     "output_type": "stream",
     "text": [
      "2.105\n",
      "5.026\n",
      "1.29227512551\n",
      "1.59038485908\n"
     ]
    },
    {
     "data": {
      "image/png": "[encoded data removed]",
      "text/plain": [
       "<matplotlib.figure.Figure at 0x11ebd1a90>"
      ]
     },
     "metadata": {},
     "output_type": "display_data"
    }
   ],
   "source": [
    "#Question 1\n",
    "sample1_new = np.random.choice(pop1, 1000, replace=True)\n",
    "sample2_new = np.random.choice(pop2, 1000, replace=True)\n",
    "print(sample1_new.mean())\n",
    "print(sample2_new.mean())\n",
    "print(sample1_new.std())\n",
    "print(sample2_new.std())\n",
    "plt.hist(sample1_new, alpha=0.5, label='sample 1') \n",
    "plt.hist(sample2_new, alpha=0.5, label='sample 2')\n",
    "plt.legend(loc='upper right') \n",
    "plt.show()"
   ]
  },
  {
   "cell_type": "code",
   "execution_count": 14,
   "metadata": {
    "collapsed": false
   },
   "outputs": [
    {
     "name": "stdout",
     "output_type": "stream",
     "text": [
      "10.0341418025\n",
      "9.76476229409\n",
      "0.232301044575\n",
      "0.394702799374\n"
     ]
    },
    {
     "data": {
      "image/png": "[encoded data removed]",
      "text/plain": [
       "<matplotlib.figure.Figure at 0x1204bc7f0>"
      ]
     },
     "metadata": {},
     "output_type": "display_data"
    }
   ],
   "source": [
    "sample1_small = np.random.choice(pop1, 20, replace=True)\n",
    "sample2_small = np.random.choice(pop2, 20, replace=True)\n",
    "print(sample1_small.mean())\n",
    "print(sample2_small.mean())\n",
    "print(sample1_small.std())\n",
    "print(sample2_small.std())\n",
    "plt.hist(sample1_small, alpha=0.5, label='sample 1') \n",
    "plt.hist(sample2_small, alpha=0.5, label='sample 2')\n",
    "plt.legend(loc='upper right') \n",
    "plt.show()\n",
    "#Means change a little, standard deviations change more"
   ]
  },
  {
   "cell_type": "code",
   "execution_count": 12,
   "metadata": {
    "collapsed": false
   },
   "outputs": [
    {
     "name": "stdout",
     "output_type": "stream",
     "text": [
      "Ttest_indResult(statistic=7.9030349008470901, pvalue=2.1228529863721712e-13)\n"
     ]
    }
   ],
   "source": [
    "#Question 2\n",
    "pop1_newA = np.random.binomial(10, 0.3, 10000)\n",
    "pop2 = np.random.binomial(10,0.5, 10000)\n",
    "sample1_newA = np.random.choice(pop1_newA, 100, replace=True)\n",
    "sample2 = np.random.choice(pop2, 100, replace=True)\n",
    "from scipy.stats import ttest_ind\n",
    "print(ttest_ind(sample2, sample1_newA, equal_var=False))"
   ]
  },
  {
   "cell_type": "code",
   "execution_count": 15,
   "metadata": {
    "collapsed": false
   },
   "outputs": [
    {
     "name": "stdout",
     "output_type": "stream",
     "text": [
      "Ttest_indResult(statistic=4.1812006415454857, pvalue=4.4041378706855305e-05)\n"
     ]
    }
   ],
   "source": [
    "pop1_newB = np.random.binomial(10, 0.4, 10000)\n",
    "pop2 = np.random.binomial(10,0.5, 10000)\n",
    "sample1_newB = np.random.choice(pop1_newB, 100, replace=True)\n",
    "sample2 = np.random.choice(pop2, 100, replace=True)\n",
    "from scipy.stats import ttest_ind\n",
    "print(ttest_ind(sample2, sample1_newB, equal_var=False))\n",
    "# 2. The t-value shrinks and the p-value gets larger as the samples becoe more similar"
   ]
  },
  {
   "cell_type": "code",
   "execution_count": 13,
   "metadata": {
    "collapsed": false
   },
   "outputs": [
    {
     "name": "stdout",
     "output_type": "stream",
     "text": [
      "Ttest_indResult(statistic=0.066256601608494392, pvalue=0.94728268820249162)\n"
     ]
    }
   ],
   "source": [
    "#Question 3\n",
    "pop1 = np.random.normal(10, 0.2, 10000)\n",
    "pop2 = np.random.normal(10,0.5, 10000)\n",
    "sample1 = np.random.choice(pop1, 100, replace=True)\n",
    "sample2 = np.random.choice(pop2, 100, replace=True)\n",
    "print(ttest_ind(sample2, sample1, equal_var=False))"
   ]
  },
  {
   "cell_type": "code",
   "execution_count": 16,
   "metadata": {
    "collapsed": true
   },
   "outputs": [],
   "source": [
    "# 3. The Central Limit Theorem says the statistics should still work as long as the sample size is large enough, \n",
    "# no matter what distribution is chosen"
   ]
  },
  {
   "cell_type": "code",
   "execution_count": null,
   "metadata": {
    "collapsed": true
   },
   "outputs": [],
   "source": []
  }
 ],
 "metadata": {
  "anaconda-cloud": {},
  "kernelspec": {
   "display_name": "Python [default]",
   "language": "python",
   "name": "python3"
  },
  "language_info": {
   "codemirror_mode": {
    "name": "ipython",
    "version": 3
   },
   "file_extension": ".py",
   "mimetype": "text/x-python",
   "name": "python",
   "nbconvert_exporter": "python",
   "pygments_lexer": "ipython3",
   "version": "3.5.2"
  }
 },
 "nbformat": 4,
 "nbformat_minor": 1
}
