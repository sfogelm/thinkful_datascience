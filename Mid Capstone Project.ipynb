{
 "cells": [
  {
   "cell_type": "markdown",
   "metadata": {},
   "source": [
    "# Predicting Mental Health in the Tech Industry with Supervised Machine Learning"
   ]
  },
  {
   "cell_type": "markdown",
   "metadata": {},
   "source": [
    "43.8 million adults deal with mental health issues in a given year, and serious mental health conditions cost the US 193 billion dollars every year. 90% of suicide cases involve individuals that had an underlying mental health issue. The recent suicides of Kate Spade and Anthony Bourdain have brought mental health issues back into the spotlight, and help to show that mental health disease does not discriminate against its victims. These are just some statistics that highlight the seriousness of mental health, but there are many other equally alarming statistics that one can find with a simple google search. Being able to predict who may experience mental health issues will be important for business. Happy employees will perform much better than unhappy ones, and being able to alleviate the suffering of employees who may not feel comfortable sharing their health issues will help to alleviate the mental health epidemic. The survey I based my dataset on can be found at https://www.kaggle.com/osmi/mental-health-in-tech-survey#survey.csv. I decided to use survey answers (excluding those that explicity revealed if someone had a mental disorder) to try and predict whether someone had sought treatment for mental health."
   ]
  },
  {
   "cell_type": "code",
   "execution_count": null,
   "metadata": {
    "collapsed": true
   },
   "outputs": [],
   "source": [
    "#imports\n",
    "import pandas as pd\n",
    "import numpy as np\n",
    "import matplotlib.pyplot as plt\n",
    "import seaborn as sns\n",
    "%matplotlib inline"
   ]
  },
  {
   "cell_type": "code",
   "execution_count": 2,
   "metadata": {
    "collapsed": false
   },
   "outputs": [],
   "source": [
    "df = pd.read_csv('/Users/spencerfogelman/Downloads/MentalHealth.csv')"
   ]
  },
  {
   "cell_type": "code",
   "execution_count": 3,
   "metadata": {
    "collapsed": false
   },
   "outputs": [],
   "source": [
    "pd.set_option('display.max_columns', 500)\n",
    "sns.set_style('whitegrid')"
   ]
  },
  {
   "cell_type": "markdown",
   "metadata": {},
   "source": [
    "# Data Cleaning and Exploration"
   ]
  },
  {
   "cell_type": "code",
   "execution_count": 4,
   "metadata": {
    "collapsed": false
   },
   "outputs": [
    {
     "data": {
      "text/html": [
       "<div>\n",
       "<style scoped>\n",
       "    .dataframe tbody tr th:only-of-type {\n",
       "        vertical-align: middle;\n",
       "    }\n",
       "\n",
       "    .dataframe tbody tr th {\n",
       "        vertical-align: top;\n",
       "    }\n",
       "\n",
       "    .dataframe thead th {\n",
       "        text-align: right;\n",
       "    }\n",
       "</style>\n",
       "<table border=\"1\" class=\"dataframe\">\n",
       "  <thead>\n",
       "    <tr style=\"text-align: right;\">\n",
       "      <th></th>\n",
       "      <th>Timestamp</th>\n",
       "      <th>Age</th>\n",
       "      <th>Gender</th>\n",
       "      <th>Country</th>\n",
       "      <th>state</th>\n",
       "      <th>self_employed</th>\n",
       "      <th>family_history</th>\n",
       "      <th>treatment</th>\n",
       "      <th>work_interfere</th>\n",
       "      <th>no_employees</th>\n",
       "      <th>remote_work</th>\n",
       "      <th>tech_company</th>\n",
       "      <th>benefits</th>\n",
       "      <th>care_options</th>\n",
       "      <th>wellness_program</th>\n",
       "      <th>seek_help</th>\n",
       "      <th>anonymity</th>\n",
       "      <th>leave</th>\n",
       "      <th>mental_health_consequence</th>\n",
       "      <th>phys_health_consequence</th>\n",
       "      <th>coworkers</th>\n",
       "      <th>supervisor</th>\n",
       "      <th>mental_health_interview</th>\n",
       "      <th>phys_health_interview</th>\n",
       "      <th>mental_vs_physical</th>\n",
       "      <th>obs_consequence</th>\n",
       "      <th>comments</th>\n",
       "    </tr>\n",
       "  </thead>\n",
       "  <tbody>\n",
       "    <tr>\n",
       "      <th>0</th>\n",
       "      <td>8/27/14 11:29</td>\n",
       "      <td>37</td>\n",
       "      <td>Female</td>\n",
       "      <td>United States</td>\n",
       "      <td>IL</td>\n",
       "      <td>NaN</td>\n",
       "      <td>No</td>\n",
       "      <td>Yes</td>\n",
       "      <td>Often</td>\n",
       "      <td>25-Jun</td>\n",
       "      <td>No</td>\n",
       "      <td>Yes</td>\n",
       "      <td>Yes</td>\n",
       "      <td>Not sure</td>\n",
       "      <td>No</td>\n",
       "      <td>Yes</td>\n",
       "      <td>Yes</td>\n",
       "      <td>Somewhat easy</td>\n",
       "      <td>No</td>\n",
       "      <td>No</td>\n",
       "      <td>Some of them</td>\n",
       "      <td>Yes</td>\n",
       "      <td>No</td>\n",
       "      <td>Maybe</td>\n",
       "      <td>Yes</td>\n",
       "      <td>No</td>\n",
       "      <td>NaN</td>\n",
       "    </tr>\n",
       "    <tr>\n",
       "      <th>1</th>\n",
       "      <td>8/27/14 11:29</td>\n",
       "      <td>44</td>\n",
       "      <td>M</td>\n",
       "      <td>United States</td>\n",
       "      <td>IN</td>\n",
       "      <td>NaN</td>\n",
       "      <td>No</td>\n",
       "      <td>No</td>\n",
       "      <td>Rarely</td>\n",
       "      <td>More than 1000</td>\n",
       "      <td>No</td>\n",
       "      <td>No</td>\n",
       "      <td>Don't know</td>\n",
       "      <td>No</td>\n",
       "      <td>Don't know</td>\n",
       "      <td>Don't know</td>\n",
       "      <td>Don't know</td>\n",
       "      <td>Don't know</td>\n",
       "      <td>Maybe</td>\n",
       "      <td>No</td>\n",
       "      <td>No</td>\n",
       "      <td>No</td>\n",
       "      <td>No</td>\n",
       "      <td>No</td>\n",
       "      <td>Don't know</td>\n",
       "      <td>No</td>\n",
       "      <td>NaN</td>\n",
       "    </tr>\n",
       "    <tr>\n",
       "      <th>2</th>\n",
       "      <td>8/27/14 11:29</td>\n",
       "      <td>32</td>\n",
       "      <td>Male</td>\n",
       "      <td>Canada</td>\n",
       "      <td>NaN</td>\n",
       "      <td>NaN</td>\n",
       "      <td>No</td>\n",
       "      <td>No</td>\n",
       "      <td>Rarely</td>\n",
       "      <td>25-Jun</td>\n",
       "      <td>No</td>\n",
       "      <td>Yes</td>\n",
       "      <td>No</td>\n",
       "      <td>No</td>\n",
       "      <td>No</td>\n",
       "      <td>No</td>\n",
       "      <td>Don't know</td>\n",
       "      <td>Somewhat difficult</td>\n",
       "      <td>No</td>\n",
       "      <td>No</td>\n",
       "      <td>Yes</td>\n",
       "      <td>Yes</td>\n",
       "      <td>Yes</td>\n",
       "      <td>Yes</td>\n",
       "      <td>No</td>\n",
       "      <td>No</td>\n",
       "      <td>NaN</td>\n",
       "    </tr>\n",
       "    <tr>\n",
       "      <th>3</th>\n",
       "      <td>8/27/14 11:29</td>\n",
       "      <td>31</td>\n",
       "      <td>Male</td>\n",
       "      <td>United Kingdom</td>\n",
       "      <td>NaN</td>\n",
       "      <td>NaN</td>\n",
       "      <td>Yes</td>\n",
       "      <td>Yes</td>\n",
       "      <td>Often</td>\n",
       "      <td>26-100</td>\n",
       "      <td>No</td>\n",
       "      <td>Yes</td>\n",
       "      <td>No</td>\n",
       "      <td>Yes</td>\n",
       "      <td>No</td>\n",
       "      <td>No</td>\n",
       "      <td>No</td>\n",
       "      <td>Somewhat difficult</td>\n",
       "      <td>Yes</td>\n",
       "      <td>Yes</td>\n",
       "      <td>Some of them</td>\n",
       "      <td>No</td>\n",
       "      <td>Maybe</td>\n",
       "      <td>Maybe</td>\n",
       "      <td>No</td>\n",
       "      <td>Yes</td>\n",
       "      <td>NaN</td>\n",
       "    </tr>\n",
       "    <tr>\n",
       "      <th>4</th>\n",
       "      <td>8/27/14 11:30</td>\n",
       "      <td>31</td>\n",
       "      <td>Male</td>\n",
       "      <td>United States</td>\n",
       "      <td>TX</td>\n",
       "      <td>NaN</td>\n",
       "      <td>No</td>\n",
       "      <td>No</td>\n",
       "      <td>Never</td>\n",
       "      <td>100-500</td>\n",
       "      <td>Yes</td>\n",
       "      <td>Yes</td>\n",
       "      <td>Yes</td>\n",
       "      <td>No</td>\n",
       "      <td>Don't know</td>\n",
       "      <td>Don't know</td>\n",
       "      <td>Don't know</td>\n",
       "      <td>Don't know</td>\n",
       "      <td>No</td>\n",
       "      <td>No</td>\n",
       "      <td>Some of them</td>\n",
       "      <td>Yes</td>\n",
       "      <td>Yes</td>\n",
       "      <td>Yes</td>\n",
       "      <td>Don't know</td>\n",
       "      <td>No</td>\n",
       "      <td>NaN</td>\n",
       "    </tr>\n",
       "  </tbody>\n",
       "</table>\n",
       "</div>"
      ],
      "text/plain": [
       "       Timestamp  Age  Gender         Country state self_employed  \\\n",
       "0  8/27/14 11:29   37  Female   United States    IL           NaN   \n",
       "1  8/27/14 11:29   44       M   United States    IN           NaN   \n",
       "2  8/27/14 11:29   32    Male          Canada   NaN           NaN   \n",
       "3  8/27/14 11:29   31    Male  United Kingdom   NaN           NaN   \n",
       "4  8/27/14 11:30   31    Male   United States    TX           NaN   \n",
       "\n",
       "  family_history treatment work_interfere    no_employees remote_work  \\\n",
       "0             No       Yes          Often          25-Jun          No   \n",
       "1             No        No         Rarely  More than 1000          No   \n",
       "2             No        No         Rarely          25-Jun          No   \n",
       "3            Yes       Yes          Often          26-100          No   \n",
       "4             No        No          Never         100-500         Yes   \n",
       "\n",
       "  tech_company    benefits care_options wellness_program   seek_help  \\\n",
       "0          Yes         Yes     Not sure               No         Yes   \n",
       "1           No  Don't know           No       Don't know  Don't know   \n",
       "2          Yes          No           No               No          No   \n",
       "3          Yes          No          Yes               No          No   \n",
       "4          Yes         Yes           No       Don't know  Don't know   \n",
       "\n",
       "    anonymity               leave mental_health_consequence  \\\n",
       "0         Yes       Somewhat easy                        No   \n",
       "1  Don't know          Don't know                     Maybe   \n",
       "2  Don't know  Somewhat difficult                        No   \n",
       "3          No  Somewhat difficult                       Yes   \n",
       "4  Don't know          Don't know                        No   \n",
       "\n",
       "  phys_health_consequence     coworkers supervisor mental_health_interview  \\\n",
       "0                      No  Some of them        Yes                      No   \n",
       "1                      No            No         No                      No   \n",
       "2                      No           Yes        Yes                     Yes   \n",
       "3                     Yes  Some of them         No                   Maybe   \n",
       "4                      No  Some of them        Yes                     Yes   \n",
       "\n",
       "  phys_health_interview mental_vs_physical obs_consequence comments  \n",
       "0                 Maybe                Yes              No      NaN  \n",
       "1                    No         Don't know              No      NaN  \n",
       "2                   Yes                 No              No      NaN  \n",
       "3                 Maybe                 No             Yes      NaN  \n",
       "4                   Yes         Don't know              No      NaN  "
      ]
     },
     "execution_count": 4,
     "metadata": {},
     "output_type": "execute_result"
    }
   ],
   "source": [
    "df.head()"
   ]
  },
  {
   "cell_type": "code",
   "execution_count": 5,
   "metadata": {
    "collapsed": false
   },
   "outputs": [
    {
     "data": {
      "text/plain": [
       "(1259, 27)"
      ]
     },
     "execution_count": 5,
     "metadata": {},
     "output_type": "execute_result"
    }
   ],
   "source": [
    "df.shape"
   ]
  },
  {
   "cell_type": "code",
   "execution_count": 6,
   "metadata": {
    "collapsed": false
   },
   "outputs": [
    {
     "data": {
      "text/plain": [
       "Timestamp                       0\n",
       "Age                             0\n",
       "Gender                          0\n",
       "Country                         0\n",
       "state                         515\n",
       "self_employed                  18\n",
       "family_history                  0\n",
       "treatment                       0\n",
       "work_interfere                264\n",
       "no_employees                    0\n",
       "remote_work                     0\n",
       "tech_company                    0\n",
       "benefits                        0\n",
       "care_options                    0\n",
       "wellness_program                0\n",
       "seek_help                       0\n",
       "anonymity                       0\n",
       "leave                           0\n",
       "mental_health_consequence       0\n",
       "phys_health_consequence         0\n",
       "coworkers                       0\n",
       "supervisor                      0\n",
       "mental_health_interview         0\n",
       "phys_health_interview           0\n",
       "mental_vs_physical              0\n",
       "obs_consequence                 0\n",
       "comments                     1095\n",
       "dtype: int64"
      ]
     },
     "execution_count": 6,
     "metadata": {},
     "output_type": "execute_result"
    }
   ],
   "source": [
    "#Which features contain null values?\n",
    "df.isna().sum()"
   ]
  },
  {
   "cell_type": "code",
   "execution_count": 7,
   "metadata": {
    "collapsed": false
   },
   "outputs": [
    {
     "data": {
      "text/plain": [
       "United States             751\n",
       "United Kingdom            185\n",
       "Canada                     72\n",
       "Germany                    45\n",
       "Netherlands                27\n",
       "Ireland                    27\n",
       "Australia                  21\n",
       "France                     13\n",
       "India                      10\n",
       "New Zealand                 8\n",
       "Sweden                      7\n",
       "Switzerland                 7\n",
       "Italy                       7\n",
       "Poland                      7\n",
       "Belgium                     6\n",
       "South Africa                6\n",
       "Brazil                      6\n",
       "Israel                      5\n",
       "Singapore                   4\n",
       "Bulgaria                    4\n",
       "Russia                      3\n",
       "Mexico                      3\n",
       "Finland                     3\n",
       "Austria                     3\n",
       "Colombia                    2\n",
       "Croatia                     2\n",
       "Portugal                    2\n",
       "Denmark                     2\n",
       "Greece                      2\n",
       "Bahamas, The                1\n",
       "Nigeria                     1\n",
       "Spain                       1\n",
       "Japan                       1\n",
       "Thailand                    1\n",
       "Costa Rica                  1\n",
       "Hungary                     1\n",
       "Romania                     1\n",
       "Uruguay                     1\n",
       "Georgia                     1\n",
       "Latvia                      1\n",
       "Norway                      1\n",
       "Moldova                     1\n",
       "China                       1\n",
       "Philippines                 1\n",
       "Bosnia and Herzegovina      1\n",
       "Czech Republic              1\n",
       "Slovenia                    1\n",
       "Zimbabwe                    1\n",
       "Name: Country, dtype: int64"
      ]
     },
     "execution_count": 7,
     "metadata": {},
     "output_type": "execute_result"
    }
   ],
   "source": [
    "#Which country was the survey respondent born in?\n",
    "df['Country'].value_counts()"
   ]
  },
  {
   "cell_type": "code",
   "execution_count": 8,
   "metadata": {
    "collapsed": false
   },
   "outputs": [
    {
     "name": "stdout",
     "output_type": "stream",
     "text": [
      "United States                751\n",
      "Western Europe               333\n",
      "Canada                        72\n",
      "Australia and New Zealand     29\n",
      "Eastern Europe                26\n",
      "Asia                          26\n",
      "Latin America                 14\n",
      "Africa                         8\n",
      "Name: GroupedCountry, dtype: int64\n"
     ]
    }
   ],
   "source": [
    "#Group Countries into regions for data analysis\n",
    "df['GroupedCountry'] = 'United States'\n",
    "\n",
    "df.loc[df['Country'].isin(['Bulgaria', 'Hungary', 'Czech Republic', 'Georgia', 'Bosnia and Herzegovina',\n",
    "                             'Moldova', 'Romania', 'Latvia', 'Greece','Croatia', \n",
    "                          'Austria', 'Poland', 'Slovenia']), 'GroupedCountry'] = 'Eastern Europe'\n",
    "\n",
    "df.loc[df['Country'].isin(['United Kingdom', 'Ireland', 'Spain', 'Portugal', 'France', 'Belgium',\n",
    "                           'Netherlands', 'Switzerland','Italy', 'Germany', 'Denmark', 'Norway'\n",
    "                           , 'Sweden','Finland']), 'GroupedCountry'] = 'Western Europe'\n",
    "\n",
    "df.loc[df['Country'].isin(['Canada']), 'GroupedCountry'] = 'Canada'\n",
    "\n",
    "df.loc[df['Country'].isin(['Australia', 'New Zealand']), 'GroupedCountry'] = 'Australia and New Zealand'\n",
    "\n",
    "df.loc[df['Country'].isin(['Mexico', 'Brazil', 'Costa Rica', 'Bahamas, The',\n",
    "                           'Uruguay', 'Colombia']), 'GroupedCountry'] ='Latin America'\n",
    "\n",
    "df.loc[df['Country'].isin(['Japan', 'India', 'Singapore', 'Philippines',\n",
    "                           'Thailand', 'China', 'Israel', 'Russia']), 'GroupedCountry'] = 'Asia'\n",
    "\n",
    "df.loc[df['Country'].isin(['Zimbabwe', 'Nigeria', 'South Africa']), 'GroupedCountry'] = 'Africa'\n",
    "print(df['GroupedCountry'].value_counts())"
   ]
  },
  {
   "cell_type": "code",
   "execution_count": 9,
   "metadata": {
    "collapsed": false
   },
   "outputs": [],
   "source": [
    "#Regroup countries that had too little values into an Other category. I considered anything less than 50 to be too little.\n",
    "df.loc[df['GroupedCountry'].isin(['Australia and New Zealand', 'Eastern Europe', 'Asia', 'Latin America', 'Africa']),\n",
    "                                  'GroupedCountry'] = 'Other'"
   ]
  },
  {
   "cell_type": "code",
   "execution_count": 10,
   "metadata": {
    "collapsed": false
   },
   "outputs": [
    {
     "name": "stdout",
     "output_type": "stream",
     "text": [
      "United States     751\n",
      "Western Europe    333\n",
      "Other             103\n",
      "Canada             72\n",
      "Name: GroupedCountry, dtype: int64\n"
     ]
    }
   ],
   "source": [
    "print(df['GroupedCountry'].value_counts())"
   ]
  },
  {
   "cell_type": "code",
   "execution_count": 11,
   "metadata": {
    "collapsed": false
   },
   "outputs": [],
   "source": [
    "#Process Timestamp data\n",
    "df['Timestamp'] = pd.to_datetime(df['Timestamp'])\n",
    "\n",
    "df['Month'] = df['Timestamp'].apply(lambda x: x.month)\n",
    "\n",
    "df['Year'] = df['Timestamp'].apply(lambda x: x.year)\n",
    "\n",
    "df['Hour'] = df['Timestamp'].apply(lambda x: x.hour)"
   ]
  },
  {
   "cell_type": "code",
   "execution_count": 12,
   "metadata": {
    "collapsed": false
   },
   "outputs": [
    {
     "data": {
      "image/png": "[encoded data removed]",
      "text/plain": [
       "<matplotlib.figure.Figure at 0x1a14b80da0>"
      ]
     },
     "metadata": {},
     "output_type": "display_data"
    },
    {
     "data": {
      "image/png": "[encoded data removed]",
      "text/plain": [
       "<matplotlib.figure.Figure at 0x1a14b80ef0>"
      ]
     },
     "metadata": {},
     "output_type": "display_data"
    },
    {
     "data": {
      "image/png": "[encoded data removed]",
      "text/plain": [
       "<matplotlib.figure.Figure at 0x1a20a08208>"
      ]
     },
     "metadata": {},
     "output_type": "display_data"
    }
   ],
   "source": [
    "#Visualize Timestamp data, which was when the survey was taken.\n",
    "df['Hour'].hist()\n",
    "plt.xlabel('Hour')\n",
    "plt.show()\n",
    "\n",
    "df['Year'].hist()\n",
    "plt.xlabel('Year')\n",
    "plt.xticks(rotation = 90)\n",
    "plt.show()\n",
    "\n",
    "df['Month'].hist()\n",
    "plt.xlabel('Month')\n",
    "plt.show()"
   ]
  },
  {
   "cell_type": "code",
   "execution_count": 13,
   "metadata": {
    "collapsed": false
   },
   "outputs": [
    {
     "data": {
      "text/plain": [
       "-1726            1\n",
       "-29              1\n",
       "-1               1\n",
       " 5               1\n",
       " 8               1\n",
       " 11              1\n",
       " 18              7\n",
       " 19              9\n",
       " 20              6\n",
       " 21             16\n",
       " 22             21\n",
       " 23             51\n",
       " 24             46\n",
       " 25             61\n",
       " 26             75\n",
       " 27             71\n",
       " 28             68\n",
       " 29             85\n",
       " 30             63\n",
       " 31             67\n",
       " 32             82\n",
       " 33             70\n",
       " 34             65\n",
       " 35             55\n",
       " 36             37\n",
       " 37             43\n",
       " 38             39\n",
       " 39             33\n",
       " 40             33\n",
       " 41             21\n",
       " 42             20\n",
       " 43             28\n",
       " 44             11\n",
       " 45             12\n",
       " 46             12\n",
       " 47              2\n",
       " 48              6\n",
       " 49              4\n",
       " 50              6\n",
       " 51              5\n",
       " 53              1\n",
       " 54              3\n",
       " 55              3\n",
       " 56              4\n",
       " 57              3\n",
       " 58              1\n",
       " 60              2\n",
       " 61              1\n",
       " 62              1\n",
       " 65              1\n",
       " 72              1\n",
       " 329             1\n",
       " 99999999999     1\n",
       "Name: Age, dtype: int64"
      ]
     },
     "execution_count": 13,
     "metadata": {},
     "output_type": "execute_result"
    }
   ],
   "source": [
    "#Process the age data \n",
    "df['Age'].value_counts(dropna=False).sort_index()"
   ]
  },
  {
   "cell_type": "code",
   "execution_count": 14,
   "metadata": {
    "collapsed": false
   },
   "outputs": [],
   "source": [
    "#Convert strange age values to nan\n",
    "df.loc[(df['Age'] > 72) | (df['Age'] < 18), 'Age'] = np.nan"
   ]
  },
  {
   "cell_type": "code",
   "execution_count": 15,
   "metadata": {
    "collapsed": false
   },
   "outputs": [
    {
     "data": {
      "text/plain": [
       " 18.0     7\n",
       " 19.0     9\n",
       " 20.0     6\n",
       " 21.0    16\n",
       " 22.0    21\n",
       " 23.0    51\n",
       " 24.0    46\n",
       " 25.0    61\n",
       " 26.0    75\n",
       " 27.0    71\n",
       " 28.0    68\n",
       " 29.0    85\n",
       " 30.0    63\n",
       " 31.0    67\n",
       " 32.0    82\n",
       " 33.0    70\n",
       " 34.0    65\n",
       " 35.0    55\n",
       " 36.0    37\n",
       " 37.0    43\n",
       " 38.0    39\n",
       " 39.0    33\n",
       " 40.0    33\n",
       " 41.0    21\n",
       " 42.0    20\n",
       " 43.0    28\n",
       " 44.0    11\n",
       " 45.0    12\n",
       " 46.0    12\n",
       " 47.0     2\n",
       " 48.0     6\n",
       " 49.0     4\n",
       " 50.0     6\n",
       " 51.0     5\n",
       " 53.0     1\n",
       " 54.0     3\n",
       " 55.0     3\n",
       " 56.0     4\n",
       " 57.0     3\n",
       " 58.0     1\n",
       " 60.0     2\n",
       " 61.0     1\n",
       " 62.0     1\n",
       " 65.0     1\n",
       " 72.0     1\n",
       "NaN       8\n",
       "Name: Age, dtype: int64"
      ]
     },
     "execution_count": 15,
     "metadata": {},
     "output_type": "execute_result"
    }
   ],
   "source": [
    "df['Age'].value_counts(dropna=False).sort_index()"
   ]
  },
  {
   "cell_type": "code",
   "execution_count": 16,
   "metadata": {
    "collapsed": false
   },
   "outputs": [
    {
     "data": {
      "text/plain": [
       "0"
      ]
     },
     "execution_count": 16,
     "metadata": {},
     "output_type": "execute_result"
    }
   ],
   "source": [
    "#Replace strange values with random samples from the survey\n",
    "samples = df['Age'].sample(n=8, replace=True, random_state=0).values\n",
    "\n",
    "df.loc[df['Age'].isna(), 'Age'] = samples\n",
    "\n",
    "df['Age'].isna().sum()"
   ]
  },
  {
   "cell_type": "code",
   "execution_count": 17,
   "metadata": {
    "collapsed": false
   },
   "outputs": [
    {
     "data": {
      "image/png": "[encoded data removed]",
      "text/plain": [
       "<matplotlib.figure.Figure at 0x1a20a46b00>"
      ]
     },
     "metadata": {},
     "output_type": "display_data"
    }
   ],
   "source": [
    "#Explore cleaned up age variable\n",
    "df['Age'].hist()\n",
    "plt.xlabel('Age')\n",
    "plt.show()"
   ]
  },
  {
   "cell_type": "code",
   "execution_count": 18,
   "metadata": {
    "collapsed": false
   },
   "outputs": [
    {
     "data": {
      "text/plain": [
       "CA    138\n",
       "WA     70\n",
       "NY     57\n",
       "TN     45\n",
       "TX     44\n",
       "OH     30\n",
       "PA     29\n",
       "IL     29\n",
       "OR     29\n",
       "IN     27\n",
       "MI     22\n",
       "MN     21\n",
       "MA     20\n",
       "FL     15\n",
       "VA     14\n",
       "NC     14\n",
       "WI     12\n",
       "GA     12\n",
       "MO     12\n",
       "UT     11\n",
       "CO      9\n",
       "AL      8\n",
       "MD      8\n",
       "AZ      7\n",
       "NJ      6\n",
       "OK      6\n",
       "KY      5\n",
       "SC      5\n",
       "DC      4\n",
       "IA      4\n",
       "CT      4\n",
       "SD      3\n",
       "NV      3\n",
       "VT      3\n",
       "NH      3\n",
       "KS      3\n",
       "WY      2\n",
       "NM      2\n",
       "NE      2\n",
       "RI      1\n",
       "LA      1\n",
       "MS      1\n",
       "ME      1\n",
       "WV      1\n",
       "ID      1\n",
       "Name: state, dtype: int64"
      ]
     },
     "execution_count": 18,
     "metadata": {},
     "output_type": "execute_result"
    }
   ],
   "source": [
    "#If in the US, this was the state the respondent was born in. Anyone not in the US would have a nan value.\n",
    "df['state'].value_counts()"
   ]
  },
  {
   "cell_type": "code",
   "execution_count": 19,
   "metadata": {
    "collapsed": true
   },
   "outputs": [],
   "source": [
    "#Group into areas of the US \n",
    "df['USGroup'] = 'Not in US'\n",
    "\n",
    "df.loc[df['state'] == 'CA', 'USGroup'] = 'California'\n",
    "\n",
    "df.loc[df['state'] == 'NY', 'USGroup'] = 'NewYork'\n",
    "\n",
    "df.loc[df['state'].isin(['ND', 'SD', 'NE', 'KS', 'MN', 'IA', 'MO',\n",
    "                         'WI', 'IL', 'IN', 'MI', 'OH']), 'USGroup'] = 'Midwest'\n",
    "\n",
    "df.loc[df['state'].isin(['ME', 'NH', 'MA', 'CT', 'VT',\n",
    "                         'PA', 'NJ', 'RI']), 'USGroup'] = 'East'\n",
    "\n",
    "df.loc[df['state'].isin(['TX', 'OK', 'AR', 'LA', 'MS',\n",
    "                         'AL', 'TN', 'KY', 'WV', 'VA',\n",
    "                         'DC', 'MD', 'DE', 'NC', 'SC', 'GA', 'FL']), 'USGroup'] = 'South'"
   ]
  },
  {
   "cell_type": "code",
   "execution_count": 20,
   "metadata": {
    "collapsed": false
   },
   "outputs": [
    {
     "data": {
      "text/plain": [
       "Not in US     649\n",
       "South         183\n",
       "Midwest       165\n",
       "California    138\n",
       "East           67\n",
       "NewYork        57\n",
       "Name: USGroup, dtype: int64"
      ]
     },
     "execution_count": 20,
     "metadata": {},
     "output_type": "execute_result"
    }
   ],
   "source": [
    "df['USGroup'].value_counts()"
   ]
  },
  {
   "cell_type": "code",
   "execution_count": 21,
   "metadata": {
    "collapsed": false
   },
   "outputs": [],
   "source": [
    "#Strip extra white space around the gender responses\n",
    "df['Gender'] = df['Gender'].apply(lambda x: x.strip())"
   ]
  },
  {
   "cell_type": "code",
   "execution_count": 22,
   "metadata": {
    "collapsed": false
   },
   "outputs": [
    {
     "data": {
      "text/plain": [
       "Male                                              618\n",
       "male                                              206\n",
       "Female                                            123\n",
       "M                                                 116\n",
       "female                                             62\n",
       "F                                                  38\n",
       "m                                                  34\n",
       "f                                                  15\n",
       "Make                                                4\n",
       "Woman                                               3\n",
       "Man                                                 2\n",
       "Female (trans)                                      2\n",
       "Cis Male                                            2\n",
       "p                                                   1\n",
       "Femake                                              1\n",
       "Mail                                                1\n",
       "Agender                                             1\n",
       "queer                                               1\n",
       "Cis Man                                             1\n",
       "Guy (-ish) ^_^                                      1\n",
       "Neuter                                              1\n",
       "Nah                                                 1\n",
       "Male (CIS)                                          1\n",
       "Female (cis)                                        1\n",
       "Mal                                                 1\n",
       "Trans woman                                         1\n",
       "something kinda male?                               1\n",
       "maile                                               1\n",
       "Malr                                                1\n",
       "fluid                                               1\n",
       "queer/she/they                                      1\n",
       "femail                                              1\n",
       "A little about you                                  1\n",
       "cis-female/femme                                    1\n",
       "Androgyne                                           1\n",
       "woman                                               1\n",
       "Male-ish                                            1\n",
       "non-binary                                          1\n",
       "Trans-female                                        1\n",
       "male leaning androgynous                            1\n",
       "cis male                                            1\n",
       "Genderqueer                                         1\n",
       "ostensibly male, unsure what that really means      1\n",
       "Enby                                                1\n",
       "All                                                 1\n",
       "msle                                                1\n",
       "Cis Female                                          1\n",
       "Name: Gender, dtype: int64"
      ]
     },
     "execution_count": 22,
     "metadata": {},
     "output_type": "execute_result"
    }
   ],
   "source": [
    "df['Gender'].value_counts()"
   ]
  },
  {
   "cell_type": "code",
   "execution_count": 27,
   "metadata": {
    "collapsed": true
   },
   "outputs": [],
   "source": [
    "#Clean up the gender responses\n",
    "df.loc[df['Gender'].isin(['Male', 'male', 'M', 'm', 'Make', 'Man', 'Cis Male', 'Malr'\n",
    "                        ,'Male (CIS)', 'Mail', 'ostensibly male, unsure what that really means'\n",
    "                        , 'male leaning androgynous', 'something kinda male?',\n",
    "                        'Mal', 'Guy (-ish) ^_^', 'maile', 'Male-ish',\n",
    "                         'cis male', 'msle', 'Cis Man']), 'Gender'] = 'Male'\n",
    "\n",
    "df.loc[df['Gender'].isin(['Female', 'female', 'F', 'Woman', 'f', 'femail',\n",
    "                         'Female (cis)', 'Cis Female', 'cis-female/femme',\n",
    "                         'Femake', 'woman']), 'Gender'] = 'Female'\n",
    "\n",
    "df.loc[df['Gender'].isin(['Female (trans)', 'Trans-female', 'Trans woman']), 'Gender'] = 'Trans Female'\n",
    "\n",
    "df.loc[df['Gender'].isin(['queer/she/they', 'All', 'Agender', 'Neuter', 'non-binary', 'queer',\n",
    "                         'fluid', 'Genderqueer', 'Androgyne']), 'Gender'] = 'Queer'\n",
    "\n",
    "df.loc[df['Gender'].isin(['p', 'A little about you', 'Nah', 'Enby']), 'Gender'] = 'Undisclosed'"
   ]
  },
  {
   "cell_type": "code",
   "execution_count": 28,
   "metadata": {
    "collapsed": false
   },
   "outputs": [
    {
     "data": {
      "text/plain": [
       "Male            995\n",
       "Female          247\n",
       "Queer             9\n",
       "Undisclosed       4\n",
       "Trans Female      4\n",
       "Name: Gender, dtype: int64"
      ]
     },
     "execution_count": 28,
     "metadata": {},
     "output_type": "execute_result"
    }
   ],
   "source": [
    "df['Gender'].value_counts()"
   ]
  },
  {
   "cell_type": "code",
   "execution_count": 29,
   "metadata": {
    "collapsed": true
   },
   "outputs": [],
   "source": [
    "#Group categories that contained too little values into an other category\n",
    "df.loc[df['Gender'].isin(['Queer', 'Trans Female', 'Undisclosed']), 'Gender'] = 'Other'"
   ]
  },
  {
   "cell_type": "code",
   "execution_count": 30,
   "metadata": {
    "collapsed": false
   },
   "outputs": [
    {
     "data": {
      "text/plain": [
       "Male      995\n",
       "Female    247\n",
       "Other      17\n",
       "Name: Gender, dtype: int64"
      ]
     },
     "execution_count": 30,
     "metadata": {},
     "output_type": "execute_result"
    }
   ],
   "source": [
    "df['Gender'].value_counts()"
   ]
  },
  {
   "cell_type": "code",
   "execution_count": 31,
   "metadata": {
    "collapsed": false
   },
   "outputs": [
    {
     "data": {
      "text/plain": [
       "No     1095\n",
       "Yes     146\n",
       "NaN      18\n",
       "Name: self_employed, dtype: int64"
      ]
     },
     "execution_count": 31,
     "metadata": {},
     "output_type": "execute_result"
    }
   ],
   "source": [
    "#Is the respondent self employed?\n",
    "df['self_employed'].value_counts(dropna=False)"
   ]
  },
  {
   "cell_type": "code",
   "execution_count": 32,
   "metadata": {
    "collapsed": false
   },
   "outputs": [
    {
     "data": {
      "text/plain": [
       "No     767\n",
       "Yes    492\n",
       "Name: family_history, dtype: int64"
      ]
     },
     "execution_count": 32,
     "metadata": {},
     "output_type": "execute_result"
    }
   ],
   "source": [
    "#Does the respondent have a family history of mental illness?\n",
    "df['family_history'].value_counts(dropna=False)"
   ]
  },
  {
   "cell_type": "code",
   "execution_count": 33,
   "metadata": {
    "collapsed": false
   },
   "outputs": [
    {
     "data": {
      "text/plain": [
       "Yes    637\n",
       "No     622\n",
       "Name: treatment, dtype: int64"
      ]
     },
     "execution_count": 33,
     "metadata": {},
     "output_type": "execute_result"
    }
   ],
   "source": [
    "#Has the respondent sought treatment for mental illness (the feature I am trying to predict)\n",
    "df['treatment'].value_counts(dropna=False)"
   ]
  },
  {
   "cell_type": "code",
   "execution_count": 34,
   "metadata": {
    "collapsed": false
   },
   "outputs": [
    {
     "data": {
      "text/plain": [
       "Sometimes    465\n",
       "NaN          264\n",
       "Never        213\n",
       "Rarely       173\n",
       "Often        144\n",
       "Name: work_interfere, dtype: int64"
      ]
     },
     "execution_count": 34,
     "metadata": {},
     "output_type": "execute_result"
    }
   ],
   "source": [
    "#If the respondent has a mental illness, has it interfered with his work? I decided to exclude this variable.\n",
    "df['work_interfere'].value_counts(dropna=False)"
   ]
  },
  {
   "cell_type": "code",
   "execution_count": 35,
   "metadata": {
    "collapsed": false
   },
   "outputs": [
    {
     "name": "stdout",
     "output_type": "stream",
     "text": [
      "25-Jun            290\n",
      "26-100            289\n",
      "More than 1000    282\n",
      "100-500           176\n",
      "5-Jan             162\n",
      "500-1000           60\n",
      "Name: no_employees, dtype: int64\n",
      "\n",
      "6-25              290\n",
      "26-100            289\n",
      "More than 1000    282\n",
      "100-500           176\n",
      "1-5               162\n",
      "500-1000           60\n",
      "Name: no_employees, dtype: int64\n"
     ]
    }
   ],
   "source": [
    "#How big is the company of the respondant? There was some strange encoding errors that I cleaned up.\n",
    "print(df['no_employees'].value_counts(dropna=False))\n",
    "\n",
    "df.loc[df['no_employees'] == '25-Jun', 'no_employees'] = '6-25'\n",
    "\n",
    "df.loc[df['no_employees'] == '5-Jan', 'no_employees'] = '1-5'\n",
    "print()\n",
    "print(df['no_employees'].value_counts())"
   ]
  },
  {
   "cell_type": "code",
   "execution_count": 36,
   "metadata": {
    "collapsed": false
   },
   "outputs": [
    {
     "data": {
      "text/plain": [
       "No     883\n",
       "Yes    376\n",
       "Name: remote_work, dtype: int64"
      ]
     },
     "execution_count": 36,
     "metadata": {},
     "output_type": "execute_result"
    }
   ],
   "source": [
    "#Does the respondent primarily work remotely?\n",
    "df['remote_work'].value_counts(dropna=False)"
   ]
  },
  {
   "cell_type": "code",
   "execution_count": 37,
   "metadata": {
    "collapsed": false
   },
   "outputs": [
    {
     "data": {
      "text/plain": [
       "Yes    1031\n",
       "No      228\n",
       "Name: tech_company, dtype: int64"
      ]
     },
     "execution_count": 37,
     "metadata": {},
     "output_type": "execute_result"
    }
   ],
   "source": [
    "#Is the respondent's company primarily invovled in tech?\n",
    "df['tech_company'].value_counts(dropna=False)"
   ]
  },
  {
   "cell_type": "code",
   "execution_count": 38,
   "metadata": {
    "collapsed": false
   },
   "outputs": [
    {
     "data": {
      "text/plain": [
       "Yes           477\n",
       "Don't know    408\n",
       "No            374\n",
       "Name: benefits, dtype: int64"
      ]
     },
     "execution_count": 38,
     "metadata": {},
     "output_type": "execute_result"
    }
   ],
   "source": [
    "#Does your employer provide mental health benefits?\n",
    "df['benefits'].value_counts(dropna=False)"
   ]
  },
  {
   "cell_type": "code",
   "execution_count": 39,
   "metadata": {
    "collapsed": false
   },
   "outputs": [
    {
     "data": {
      "text/plain": [
       "No          501\n",
       "Yes         444\n",
       "Not sure    314\n",
       "Name: care_options, dtype: int64"
      ]
     },
     "execution_count": 39,
     "metadata": {},
     "output_type": "execute_result"
    }
   ],
   "source": [
    "#Do you know the care options for mental health your employer provides?\n",
    "df['care_options'].value_counts(dropna=False)"
   ]
  },
  {
   "cell_type": "code",
   "execution_count": 40,
   "metadata": {
    "collapsed": false
   },
   "outputs": [
    {
     "data": {
      "text/plain": [
       "No            842\n",
       "Yes           229\n",
       "Don't know    188\n",
       "Name: wellness_program, dtype: int64"
      ]
     },
     "execution_count": 40,
     "metadata": {},
     "output_type": "execute_result"
    }
   ],
   "source": [
    "#Has your employer ever discussed mental health as part of an employee wellness program?\n",
    "df['wellness_program'].value_counts(dropna=False)"
   ]
  },
  {
   "cell_type": "code",
   "execution_count": 41,
   "metadata": {
    "collapsed": false
   },
   "outputs": [
    {
     "data": {
      "text/plain": [
       "No            646\n",
       "Don't know    363\n",
       "Yes           250\n",
       "Name: seek_help, dtype: int64"
      ]
     },
     "execution_count": 41,
     "metadata": {},
     "output_type": "execute_result"
    }
   ],
   "source": [
    "#Does your employer provide resources to learn more about mental health issues and how to seek help?\n",
    "df['seek_help'].value_counts(dropna=False)"
   ]
  },
  {
   "cell_type": "code",
   "execution_count": 42,
   "metadata": {
    "collapsed": false
   },
   "outputs": [
    {
     "data": {
      "text/plain": [
       "Don't know    819\n",
       "Yes           375\n",
       "No             65\n",
       "Name: anonymity, dtype: int64"
      ]
     },
     "execution_count": 42,
     "metadata": {},
     "output_type": "execute_result"
    }
   ],
   "source": [
    "#Is your anonymity protected if you choose to take advantage of mental health or substance abuse treatment resources?\n",
    "df['anonymity'].value_counts(dropna=False)"
   ]
  },
  {
   "cell_type": "code",
   "execution_count": 43,
   "metadata": {
    "collapsed": false
   },
   "outputs": [
    {
     "data": {
      "text/plain": [
       "Don't know            563\n",
       "Somewhat easy         266\n",
       "Very easy             206\n",
       "Somewhat difficult    126\n",
       "Very difficult         98\n",
       "Name: leave, dtype: int64"
      ]
     },
     "execution_count": 43,
     "metadata": {},
     "output_type": "execute_result"
    }
   ],
   "source": [
    "#How easy is it for you to take medical leave for a mental health condition?\n",
    "df['leave'].value_counts(dropna=False)"
   ]
  },
  {
   "cell_type": "code",
   "execution_count": 44,
   "metadata": {
    "collapsed": false
   },
   "outputs": [
    {
     "data": {
      "text/plain": [
       "No       490\n",
       "Maybe    477\n",
       "Yes      292\n",
       "Name: mental_health_consequence, dtype: int64"
      ]
     },
     "execution_count": 44,
     "metadata": {},
     "output_type": "execute_result"
    }
   ],
   "source": [
    "#Do you think that discussing a mental health issue with your employer would have negative consequences?\n",
    "df['mental_health_consequence'].value_counts(dropna=False)"
   ]
  },
  {
   "cell_type": "code",
   "execution_count": 45,
   "metadata": {
    "collapsed": false
   },
   "outputs": [
    {
     "data": {
      "text/plain": [
       "No       925\n",
       "Maybe    273\n",
       "Yes       61\n",
       "Name: phys_health_consequence, dtype: int64"
      ]
     },
     "execution_count": 45,
     "metadata": {},
     "output_type": "execute_result"
    }
   ],
   "source": [
    "#Do you think that discussing a physical health issue with your employer would have negative consequences?\n",
    "df['phys_health_consequence'].value_counts(dropna=False)"
   ]
  },
  {
   "cell_type": "code",
   "execution_count": 46,
   "metadata": {
    "collapsed": false
   },
   "outputs": [
    {
     "data": {
      "text/plain": [
       "Some of them    774\n",
       "No              260\n",
       "Yes             225\n",
       "Name: coworkers, dtype: int64"
      ]
     },
     "execution_count": 46,
     "metadata": {},
     "output_type": "execute_result"
    }
   ],
   "source": [
    "#Would you be willing to discuss a mental health issue with your coworkers?\n",
    "df['coworkers'].value_counts(dropna=False)"
   ]
  },
  {
   "cell_type": "code",
   "execution_count": 47,
   "metadata": {
    "collapsed": false
   },
   "outputs": [
    {
     "data": {
      "text/plain": [
       "Yes             516\n",
       "No              393\n",
       "Some of them    350\n",
       "Name: supervisor, dtype: int64"
      ]
     },
     "execution_count": 47,
     "metadata": {},
     "output_type": "execute_result"
    }
   ],
   "source": [
    "#Would you be willing to discuss a mental health issue with your direct supervisor(s)?\n",
    "df['supervisor'].value_counts(dropna=False)"
   ]
  },
  {
   "cell_type": "code",
   "execution_count": 48,
   "metadata": {
    "collapsed": false
   },
   "outputs": [
    {
     "data": {
      "text/plain": [
       "No       1008\n",
       "Maybe     207\n",
       "Yes        44\n",
       "Name: mental_health_interview, dtype: int64"
      ]
     },
     "execution_count": 48,
     "metadata": {},
     "output_type": "execute_result"
    }
   ],
   "source": [
    "#Would you bring up a mental health issue with a potential employer in an interview?\n",
    "df['mental_health_interview'].value_counts(dropna=False)"
   ]
  },
  {
   "cell_type": "code",
   "execution_count": 49,
   "metadata": {
    "collapsed": false
   },
   "outputs": [
    {
     "data": {
      "text/plain": [
       "Maybe    557\n",
       "No       500\n",
       "Yes      202\n",
       "Name: phys_health_interview, dtype: int64"
      ]
     },
     "execution_count": 49,
     "metadata": {},
     "output_type": "execute_result"
    }
   ],
   "source": [
    "#Would you bring up a physical health issue with a potential employer in an interview?\n",
    "df['phys_health_interview'].value_counts(dropna=False)"
   ]
  },
  {
   "cell_type": "code",
   "execution_count": 50,
   "metadata": {
    "collapsed": false
   },
   "outputs": [
    {
     "data": {
      "text/plain": [
       "Don't know    576\n",
       "Yes           343\n",
       "No            340\n",
       "Name: mental_vs_physical, dtype: int64"
      ]
     },
     "execution_count": 50,
     "metadata": {},
     "output_type": "execute_result"
    }
   ],
   "source": [
    "#Do you feel that your employer takes mental health as seriously as physical health?\n",
    "df['mental_vs_physical'].value_counts(dropna=False)"
   ]
  },
  {
   "cell_type": "code",
   "execution_count": 51,
   "metadata": {
    "collapsed": false
   },
   "outputs": [
    {
     "data": {
      "text/plain": [
       "No     1075\n",
       "Yes     184\n",
       "Name: obs_consequence, dtype: int64"
      ]
     },
     "execution_count": 51,
     "metadata": {},
     "output_type": "execute_result"
    }
   ],
   "source": [
    "#Have you heard of or observed negative consequences for coworkers with mental health conditions in your workplace?\n",
    "df['obs_consequence'].value_counts(dropna=False)"
   ]
  },
  {
   "cell_type": "markdown",
   "metadata": {},
   "source": [
    "# Feature Engineering"
   ]
  },
  {
   "cell_type": "code",
   "execution_count": 52,
   "metadata": {
    "collapsed": false
   },
   "outputs": [],
   "source": [
    "#Create a feature where the number of times the person did not answer is counted. However, \n",
    "# we have to subtract one when the person is not from the US because they will always have \n",
    "# a null value for the State column\n",
    "def NumNull(x):\n",
    "    nulls = x.isnull().sum()\n",
    "    if x['Country'] != 'United States':\n",
    "        nulls = nulls -1\n",
    "    return nulls\n",
    "\n",
    "df['NumberOfNulls'] = df.apply(NumNull, axis=1)"
   ]
  },
  {
   "cell_type": "code",
   "execution_count": 53,
   "metadata": {
    "collapsed": true
   },
   "outputs": [],
   "source": [
    "#Create a column where we count the number of times each person answered no.\n",
    "def CountNo(x):\n",
    "    count_no = 0\n",
    "    for i in x.values:\n",
    "        if i == 'No':\n",
    "            count_no+=1\n",
    "    return count_no\n",
    "\n",
    "df['NumberofNo'] = df.apply(CountNo, axis=1)"
   ]
  },
  {
   "cell_type": "code",
   "execution_count": 54,
   "metadata": {
    "collapsed": true
   },
   "outputs": [],
   "source": [
    "#Create a column where we count the number of times each person answered yes.\n",
    "def CountYes(x):\n",
    "    count_yes = 0\n",
    "    for i in x.values:\n",
    "        if i == 'Yes':\n",
    "            count_yes+=1\n",
    "    return count_yes\n",
    "\n",
    "df['NumberofYes'] = df.apply(CountYes, axis=1)"
   ]
  },
  {
   "cell_type": "code",
   "execution_count": 55,
   "metadata": {
    "collapsed": true
   },
   "outputs": [],
   "source": [
    "#Create a column where all the person's answers that signfiy they are uncertain about the \n",
    "# companies policies on mental health or how the company will respond to mental health\n",
    "#issues is summed.\n",
    "def FindUncertainty(x):\n",
    "    return x.isin([\"Don't know\", 'Maybe']).sum()\n",
    "\n",
    "df['UncertainResponse'] = df.apply(FindUncertainty, axis=1)"
   ]
  },
  {
   "cell_type": "code",
   "execution_count": 56,
   "metadata": {
    "collapsed": true
   },
   "outputs": [],
   "source": [
    "#Create a column that indicates whether there the person left a comment. There was an option to do this but most people\n",
    "#did not.\n",
    "df['CommentPresent'] = np.where(df['comments'].isna(), 0, 1)"
   ]
  },
  {
   "cell_type": "code",
   "execution_count": 57,
   "metadata": {
    "collapsed": false
   },
   "outputs": [
    {
     "data": {
      "text/html": [
       "<div>\n",
       "<style scoped>\n",
       "    .dataframe tbody tr th:only-of-type {\n",
       "        vertical-align: middle;\n",
       "    }\n",
       "\n",
       "    .dataframe tbody tr th {\n",
       "        vertical-align: top;\n",
       "    }\n",
       "\n",
       "    .dataframe thead th {\n",
       "        text-align: right;\n",
       "    }\n",
       "</style>\n",
       "<table border=\"1\" class=\"dataframe\">\n",
       "  <thead>\n",
       "    <tr style=\"text-align: right;\">\n",
       "      <th></th>\n",
       "      <th>Timestamp</th>\n",
       "      <th>Age</th>\n",
       "      <th>Gender</th>\n",
       "      <th>Country</th>\n",
       "      <th>state</th>\n",
       "      <th>self_employed</th>\n",
       "      <th>family_history</th>\n",
       "      <th>treatment</th>\n",
       "      <th>work_interfere</th>\n",
       "      <th>no_employees</th>\n",
       "      <th>remote_work</th>\n",
       "      <th>tech_company</th>\n",
       "      <th>benefits</th>\n",
       "      <th>care_options</th>\n",
       "      <th>wellness_program</th>\n",
       "      <th>seek_help</th>\n",
       "      <th>anonymity</th>\n",
       "      <th>leave</th>\n",
       "      <th>mental_health_consequence</th>\n",
       "      <th>phys_health_consequence</th>\n",
       "      <th>coworkers</th>\n",
       "      <th>supervisor</th>\n",
       "      <th>mental_health_interview</th>\n",
       "      <th>phys_health_interview</th>\n",
       "      <th>mental_vs_physical</th>\n",
       "      <th>obs_consequence</th>\n",
       "      <th>comments</th>\n",
       "      <th>GroupedCountry</th>\n",
       "      <th>Month</th>\n",
       "      <th>Year</th>\n",
       "      <th>Hour</th>\n",
       "      <th>USGroup</th>\n",
       "      <th>NumberOfNulls</th>\n",
       "      <th>NumberofNo</th>\n",
       "      <th>NumberofYes</th>\n",
       "      <th>UncertainResponse</th>\n",
       "      <th>CommentPresent</th>\n",
       "    </tr>\n",
       "  </thead>\n",
       "  <tbody>\n",
       "    <tr>\n",
       "      <th>0</th>\n",
       "      <td>2014-08-27 11:29:00</td>\n",
       "      <td>37.0</td>\n",
       "      <td>Female</td>\n",
       "      <td>United States</td>\n",
       "      <td>IL</td>\n",
       "      <td>NaN</td>\n",
       "      <td>No</td>\n",
       "      <td>Yes</td>\n",
       "      <td>Often</td>\n",
       "      <td>6-25</td>\n",
       "      <td>No</td>\n",
       "      <td>Yes</td>\n",
       "      <td>Yes</td>\n",
       "      <td>Not sure</td>\n",
       "      <td>No</td>\n",
       "      <td>Yes</td>\n",
       "      <td>Yes</td>\n",
       "      <td>Somewhat easy</td>\n",
       "      <td>No</td>\n",
       "      <td>No</td>\n",
       "      <td>Some of them</td>\n",
       "      <td>Yes</td>\n",
       "      <td>No</td>\n",
       "      <td>Maybe</td>\n",
       "      <td>Yes</td>\n",
       "      <td>No</td>\n",
       "      <td>NaN</td>\n",
       "      <td>United States</td>\n",
       "      <td>8</td>\n",
       "      <td>2014</td>\n",
       "      <td>11</td>\n",
       "      <td>Midwest</td>\n",
       "      <td>2</td>\n",
       "      <td>7</td>\n",
       "      <td>7</td>\n",
       "      <td>1</td>\n",
       "      <td>0</td>\n",
       "    </tr>\n",
       "    <tr>\n",
       "      <th>1</th>\n",
       "      <td>2014-08-27 11:29:00</td>\n",
       "      <td>44.0</td>\n",
       "      <td>Male</td>\n",
       "      <td>United States</td>\n",
       "      <td>IN</td>\n",
       "      <td>NaN</td>\n",
       "      <td>No</td>\n",
       "      <td>No</td>\n",
       "      <td>Rarely</td>\n",
       "      <td>More than 1000</td>\n",
       "      <td>No</td>\n",
       "      <td>No</td>\n",
       "      <td>Don't know</td>\n",
       "      <td>No</td>\n",
       "      <td>Don't know</td>\n",
       "      <td>Don't know</td>\n",
       "      <td>Don't know</td>\n",
       "      <td>Don't know</td>\n",
       "      <td>Maybe</td>\n",
       "      <td>No</td>\n",
       "      <td>No</td>\n",
       "      <td>No</td>\n",
       "      <td>No</td>\n",
       "      <td>No</td>\n",
       "      <td>Don't know</td>\n",
       "      <td>No</td>\n",
       "      <td>NaN</td>\n",
       "      <td>United States</td>\n",
       "      <td>8</td>\n",
       "      <td>2014</td>\n",
       "      <td>11</td>\n",
       "      <td>Midwest</td>\n",
       "      <td>2</td>\n",
       "      <td>11</td>\n",
       "      <td>0</td>\n",
       "      <td>7</td>\n",
       "      <td>0</td>\n",
       "    </tr>\n",
       "    <tr>\n",
       "      <th>2</th>\n",
       "      <td>2014-08-27 11:29:00</td>\n",
       "      <td>32.0</td>\n",
       "      <td>Male</td>\n",
       "      <td>Canada</td>\n",
       "      <td>NaN</td>\n",
       "      <td>NaN</td>\n",
       "      <td>No</td>\n",
       "      <td>No</td>\n",
       "      <td>Rarely</td>\n",
       "      <td>6-25</td>\n",
       "      <td>No</td>\n",
       "      <td>Yes</td>\n",
       "      <td>No</td>\n",
       "      <td>No</td>\n",
       "      <td>No</td>\n",
       "      <td>No</td>\n",
       "      <td>Don't know</td>\n",
       "      <td>Somewhat difficult</td>\n",
       "      <td>No</td>\n",
       "      <td>No</td>\n",
       "      <td>Yes</td>\n",
       "      <td>Yes</td>\n",
       "      <td>Yes</td>\n",
       "      <td>Yes</td>\n",
       "      <td>No</td>\n",
       "      <td>No</td>\n",
       "      <td>NaN</td>\n",
       "      <td>Canada</td>\n",
       "      <td>8</td>\n",
       "      <td>2014</td>\n",
       "      <td>11</td>\n",
       "      <td>Not in US</td>\n",
       "      <td>2</td>\n",
       "      <td>11</td>\n",
       "      <td>5</td>\n",
       "      <td>1</td>\n",
       "      <td>0</td>\n",
       "    </tr>\n",
       "    <tr>\n",
       "      <th>3</th>\n",
       "      <td>2014-08-27 11:29:00</td>\n",
       "      <td>31.0</td>\n",
       "      <td>Male</td>\n",
       "      <td>United Kingdom</td>\n",
       "      <td>NaN</td>\n",
       "      <td>NaN</td>\n",
       "      <td>Yes</td>\n",
       "      <td>Yes</td>\n",
       "      <td>Often</td>\n",
       "      <td>26-100</td>\n",
       "      <td>No</td>\n",
       "      <td>Yes</td>\n",
       "      <td>No</td>\n",
       "      <td>Yes</td>\n",
       "      <td>No</td>\n",
       "      <td>No</td>\n",
       "      <td>No</td>\n",
       "      <td>Somewhat difficult</td>\n",
       "      <td>Yes</td>\n",
       "      <td>Yes</td>\n",
       "      <td>Some of them</td>\n",
       "      <td>No</td>\n",
       "      <td>Maybe</td>\n",
       "      <td>Maybe</td>\n",
       "      <td>No</td>\n",
       "      <td>Yes</td>\n",
       "      <td>NaN</td>\n",
       "      <td>Western Europe</td>\n",
       "      <td>8</td>\n",
       "      <td>2014</td>\n",
       "      <td>11</td>\n",
       "      <td>Not in US</td>\n",
       "      <td>2</td>\n",
       "      <td>7</td>\n",
       "      <td>7</td>\n",
       "      <td>2</td>\n",
       "      <td>0</td>\n",
       "    </tr>\n",
       "    <tr>\n",
       "      <th>4</th>\n",
       "      <td>2014-08-27 11:30:00</td>\n",
       "      <td>31.0</td>\n",
       "      <td>Male</td>\n",
       "      <td>United States</td>\n",
       "      <td>TX</td>\n",
       "      <td>NaN</td>\n",
       "      <td>No</td>\n",
       "      <td>No</td>\n",
       "      <td>Never</td>\n",
       "      <td>100-500</td>\n",
       "      <td>Yes</td>\n",
       "      <td>Yes</td>\n",
       "      <td>Yes</td>\n",
       "      <td>No</td>\n",
       "      <td>Don't know</td>\n",
       "      <td>Don't know</td>\n",
       "      <td>Don't know</td>\n",
       "      <td>Don't know</td>\n",
       "      <td>No</td>\n",
       "      <td>No</td>\n",
       "      <td>Some of them</td>\n",
       "      <td>Yes</td>\n",
       "      <td>Yes</td>\n",
       "      <td>Yes</td>\n",
       "      <td>Don't know</td>\n",
       "      <td>No</td>\n",
       "      <td>NaN</td>\n",
       "      <td>United States</td>\n",
       "      <td>8</td>\n",
       "      <td>2014</td>\n",
       "      <td>11</td>\n",
       "      <td>South</td>\n",
       "      <td>2</td>\n",
       "      <td>6</td>\n",
       "      <td>6</td>\n",
       "      <td>5</td>\n",
       "      <td>0</td>\n",
       "    </tr>\n",
       "  </tbody>\n",
       "</table>\n",
       "</div>"
      ],
      "text/plain": [
       "            Timestamp   Age  Gender         Country state self_employed  \\\n",
       "0 2014-08-27 11:29:00  37.0  Female   United States    IL           NaN   \n",
       "1 2014-08-27 11:29:00  44.0    Male   United States    IN           NaN   \n",
       "2 2014-08-27 11:29:00  32.0    Male          Canada   NaN           NaN   \n",
       "3 2014-08-27 11:29:00  31.0    Male  United Kingdom   NaN           NaN   \n",
       "4 2014-08-27 11:30:00  31.0    Male   United States    TX           NaN   \n",
       "\n",
       "  family_history treatment work_interfere    no_employees remote_work  \\\n",
       "0             No       Yes          Often            6-25          No   \n",
       "1             No        No         Rarely  More than 1000          No   \n",
       "2             No        No         Rarely            6-25          No   \n",
       "3            Yes       Yes          Often          26-100          No   \n",
       "4             No        No          Never         100-500         Yes   \n",
       "\n",
       "  tech_company    benefits care_options wellness_program   seek_help  \\\n",
       "0          Yes         Yes     Not sure               No         Yes   \n",
       "1           No  Don't know           No       Don't know  Don't know   \n",
       "2          Yes          No           No               No          No   \n",
       "3          Yes          No          Yes               No          No   \n",
       "4          Yes         Yes           No       Don't know  Don't know   \n",
       "\n",
       "    anonymity               leave mental_health_consequence  \\\n",
       "0         Yes       Somewhat easy                        No   \n",
       "1  Don't know          Don't know                     Maybe   \n",
       "2  Don't know  Somewhat difficult                        No   \n",
       "3          No  Somewhat difficult                       Yes   \n",
       "4  Don't know          Don't know                        No   \n",
       "\n",
       "  phys_health_consequence     coworkers supervisor mental_health_interview  \\\n",
       "0                      No  Some of them        Yes                      No   \n",
       "1                      No            No         No                      No   \n",
       "2                      No           Yes        Yes                     Yes   \n",
       "3                     Yes  Some of them         No                   Maybe   \n",
       "4                      No  Some of them        Yes                     Yes   \n",
       "\n",
       "  phys_health_interview mental_vs_physical obs_consequence comments  \\\n",
       "0                 Maybe                Yes              No      NaN   \n",
       "1                    No         Don't know              No      NaN   \n",
       "2                   Yes                 No              No      NaN   \n",
       "3                 Maybe                 No             Yes      NaN   \n",
       "4                   Yes         Don't know              No      NaN   \n",
       "\n",
       "   GroupedCountry  Month  Year  Hour    USGroup  NumberOfNulls  NumberofNo  \\\n",
       "0   United States      8  2014    11    Midwest              2           7   \n",
       "1   United States      8  2014    11    Midwest              2          11   \n",
       "2          Canada      8  2014    11  Not in US              2          11   \n",
       "3  Western Europe      8  2014    11  Not in US              2           7   \n",
       "4   United States      8  2014    11      South              2           6   \n",
       "\n",
       "   NumberofYes  UncertainResponse  CommentPresent  \n",
       "0            7                  1               0  \n",
       "1            0                  7               0  \n",
       "2            5                  1               0  \n",
       "3            7                  2               0  \n",
       "4            6                  5               0  "
      ]
     },
     "execution_count": 57,
     "metadata": {},
     "output_type": "execute_result"
    }
   ],
   "source": [
    "df.head()"
   ]
  },
  {
   "cell_type": "markdown",
   "metadata": {},
   "source": [
    "# Data Visualization"
   ]
  },
  {
   "cell_type": "code",
   "execution_count": 121,
   "metadata": {
    "collapsed": false
   },
   "outputs": [
    {
     "name": "stdout",
     "output_type": "stream",
     "text": [
      "[ 0.49724516  0.45226702  0.50636968  0.50163133  0.48038446  0.51234754\n",
      "  0.45773771  0.51639778  0.50400693  0.50215585  0.49256771  0.50174521\n",
      "  0.49718577  0.50211673  0.49984195  0.49163656  0.50279656  0.50127519\n",
      "  0.44977645  0.50071174  0.50964719  0.50395263  0.49013252  0.50729966]\n"
     ]
    },
    {
     "data": {
      "image/png": "[encoded data removed]",
      "text/plain": [
       "<matplotlib.figure.Figure at 0x1a2141c780>"
      ]
     },
     "metadata": {},
     "output_type": "display_data"
    }
   ],
   "source": [
    "#Does time of survey influence mental health responses?\n",
    "dct = {'Yes': 1, 'No': 0}\n",
    "df['treatment_bool'] = df['treatment'].map(dct)\n",
    "std = df.groupby('Hour')['treatment_bool'].std().values\n",
    "print(std)\n",
    "df.groupby('Hour')['treatment_bool'].mean().sort_index().plot(kind='bar')\n",
    "plt.title('Hour')\n",
    "plt.show()\n",
    "#There does not seem to be any trend."
   ]
  },
  {
   "cell_type": "code",
   "execution_count": 142,
   "metadata": {
    "collapsed": false
   },
   "outputs": [
    {
     "name": "stdout",
     "output_type": "stream",
     "text": [
      "[ 0.50331452  0.49382249  0.49821697  0.49765178]\n"
     ]
    },
    {
     "data": {
      "image/png": "[encoded data removed]",
      "text/plain": [
       "<matplotlib.figure.Figure at 0x1a26078710>"
      ]
     },
     "metadata": {},
     "output_type": "display_data"
    }
   ],
   "source": [
    "#How does country influence whether someone will seek treatment for mental health?\n",
    "dev = df.groupby('GroupedCountry')['treatment_bool'].std().values\n",
    "print(dev)\n",
    "df.groupby('GroupedCountry')['treatment_bool'].mean().sort_values().plot(kind='bar')\n",
    "plt.title('Percentage of Respondents Grouped By Nationality That Have Sought Treatment for Mental Health')\n",
    "plt.show()\n",
    "#There seems to be a difference by Region."
   ]
  },
  {
   "cell_type": "code",
   "execution_count": null,
   "metadata": {
    "collapsed": true
   },
   "outputs": [],
   "source": [
    "#This function will take bootstrap samples of size twenty 100 times. It will then compare the mean treatment percentage \n",
    "#between two groups using a ttest. I did not know of a better statistical way to do this because my data were composed of\n",
    "#0s and 1s.\n",
    "def bootstrap_ttest(col, var1, var2):\n",
    "    list1=[]\n",
    "    list2=[]\n",
    "    for i in range(100):\n",
    "        group1 = df[df[col] == var1]['treatment_bool'].sample(20, replace=True).mean()\n",
    "        list1.append(group1)\n",
    "        group2 = df[df[col] == var2]['treatment_bool'].sample(20, replace=True).mean()\n",
    "        list2.append(group2)\n",
    "    return ttest_ind(list1, list2)"
   ]
  },
  {
   "cell_type": "code",
   "execution_count": 150,
   "metadata": {
    "collapsed": false
   },
   "outputs": [
    {
     "name": "stdout",
     "output_type": "stream",
     "text": [
      "Other vs Western Europe: Ttest_indResult(statistic=-2.772443626473192, pvalue=0.0060948552784397293)\n",
      "Western Europe vs Canada: Ttest_indResult(statistic=-3.7534203955223466, pvalue=0.00022916811150438455)\n",
      "Canada vs United States: Ttest_indResult(statistic=-3.6187838058295831, pvalue=0.00037578393571161375)\n"
     ]
    }
   ],
   "source": [
    "print('Other vs Western Europe:', bootstrap_ttest('GroupedCountry', 'Other', 'Western Europe'))\n",
    "print('Western Europe vs Canada:', bootstrap_ttest('GroupedCountry', 'Western Europe', 'Canada'))\n",
    "print('Canada vs United States:', bootstrap_ttest('GroupedCountry', 'Canada', 'United States'))\n",
    "#There seems to be a significant difference in mental health between the areas."
   ]
  },
  {
   "cell_type": "code",
   "execution_count": 60,
   "metadata": {
    "collapsed": false
   },
   "outputs": [
    {
     "data": {
      "image/png": "[encoded data removed]",
      "text/plain": [
       "<matplotlib.figure.Figure at 0x1a20c0b160>"
      ]
     },
     "metadata": {},
     "output_type": "display_data"
    }
   ],
   "source": [
    "#How does gender influence mental health?\n",
    "df.groupby('Gender')['treatment_bool'].mean().sort_values().plot(kind='bar')\n",
    "plt.title('Percentage of Respondents Grouped by Gender That Have Sought Treatment for Mental Health')\n",
    "plt.show()"
   ]
  },
  {
   "cell_type": "code",
   "execution_count": 151,
   "metadata": {
    "collapsed": false
   },
   "outputs": [
    {
     "name": "stdout",
     "output_type": "stream",
     "text": [
      "Male vs Female: Ttest_indResult(statistic=-15.880139965195417, pvalue=3.647029234041832e-37)\n",
      "Female vs Other: Ttest_indResult(statistic=-14.428686544318657, pvalue=1.0049216453835953e-32)\n"
     ]
    }
   ],
   "source": [
    "print('Male vs Female:', bootstrap_ttest('Gender', 'Male', 'Female'))\n",
    "print('Female vs Other:', bootstrap_ttest('Gender', 'Female', 'Other'))\n",
    "#There seems to be a significant difference in mental health between genders."
   ]
  },
  {
   "cell_type": "code",
   "execution_count": 152,
   "metadata": {
    "collapsed": false
   },
   "outputs": [
    {
     "name": "stdout",
     "output_type": "stream",
     "text": [
      "[ 18.  26.  29.  33.  38.  72.]\n"
     ]
    },
    {
     "data": {
      "image/png": "[encoded data removed]",
      "text/plain": [
       "<matplotlib.figure.Figure at 0x105e38208>"
      ]
     },
     "metadata": {},
     "output_type": "display_data"
    }
   ],
   "source": [
    "#How does age influence seeking treatment?\n",
    "#What is a good split on age based on quantiles?\n",
    "_, bins = pd.qcut(df['Age'], 5, retbins=True)\n",
    "print(bins)\n",
    "#I decided instead to split on stages on life.\n",
    "df['AgeGroup'] = pd.cut(df['Age'], bins=[18,24,31,45,72])\n",
    "\n",
    "df.groupby('AgeGroup')['treatment_bool'].mean().sort_index().plot(kind='bar')\n",
    "plt.title('Percentage of Each Age Group That Sought Treatment')\n",
    "plt.show()\n",
    "#There seems to be a worsening in mental health based on age."
   ]
  },
  {
   "cell_type": "code",
   "execution_count": 62,
   "metadata": {
    "collapsed": false
   },
   "outputs": [
    {
     "data": {
      "image/png": "[encoded data removed]",
      "text/plain": [
       "<matplotlib.figure.Figure at 0x1a1520c208>"
      ]
     },
     "metadata": {},
     "output_type": "display_data"
    }
   ],
   "source": [
    "#How does state influence mental health?\n",
    "df.groupby('USGroup')['treatment_bool'].mean().sort_values().plot(kind='bar')\n",
    "plt.title('Percentage of People that Sought Treatment Grouped by Region in the US')\n",
    "plt.show()"
   ]
  },
  {
   "cell_type": "code",
   "execution_count": 157,
   "metadata": {
    "collapsed": false
   },
   "outputs": [
    {
     "name": "stdout",
     "output_type": "stream",
     "text": [
      "South vs East: Ttest_indResult(statistic=0.48150241606057459, pvalue=0.63069119105791838)\n",
      "East vs New York: Ttest_indResult(statistic=-2.5382035961836573, pvalue=0.011911878592929947)\n",
      "New York vs Midwest: Ttest_indResult(statistic=-3.1202022410442822, pvalue=0.0020772340868840545)\n",
      "Midwest vs California: Ttest_indResult(statistic=-1.8497077526311858, pvalue=0.065846041493690055)\n"
     ]
    }
   ],
   "source": [
    "print('South vs East:', bootstrap_ttest('USGroup', 'South', 'East'))\n",
    "print('East vs New York:', bootstrap_ttest('USGroup', 'East', 'NewYork'))\n",
    "print('New York vs Midwest:', bootstrap_ttest('USGroup', 'NewYork', 'Midwest'))\n",
    "print('Midwest vs California:', bootstrap_ttest('USGroup', 'Midwest', 'California'))\n",
    "#Some of the differences are significant while others are not."
   ]
  },
  {
   "cell_type": "markdown",
   "metadata": {},
   "source": [
    "# Predicting Mental Health With Supervised Learning"
   ]
  },
  {
   "cell_type": "code",
   "execution_count": 116,
   "metadata": {
    "collapsed": false
   },
   "outputs": [
    {
     "data": {
      "text/plain": [
       "RandomForestClassifier(bootstrap=True, class_weight=None, criterion='gini',\n",
       "            max_depth=None, max_features='auto', max_leaf_nodes=None,\n",
       "            min_impurity_decrease=0.0, min_impurity_split=None,\n",
       "            min_samples_leaf=1, min_samples_split=2,\n",
       "            min_weight_fraction_leaf=0.0, n_estimators=10, n_jobs=1,\n",
       "            oob_score=False, random_state=None, verbose=0,\n",
       "            warm_start=False)"
      ]
     },
     "execution_count": 116,
     "metadata": {},
     "output_type": "execute_result"
    }
   ],
   "source": [
    "#Use a random forest with a few features of interest and One Hot Encoding to try and predict whether someone has\n",
    "#sought treatment for mental health.\n",
    "import sklearn\n",
    "from sklearn.ensemble import RandomForestClassifier\n",
    "from sklearn.model_selection import train_test_split\n",
    "\n",
    "X= df[['Age', 'Gender', 'GroupedCountry', 'USGroup', 'NumberOfNulls',\n",
    "       'UncertainResponse', 'CommentPresent', 'self_employed', 'family_history', \n",
    "      'no_employees', 'remote_work', 'tech_company', 'NumberofNo', 'NumberofYes']]\n",
    "X = pd.get_dummies(X, drop_first=True)\n",
    "y = df['treatment']\n",
    "X_train, X_test, y_train, y_test = train_test_split(X, y, test_size=0.3, random_state=0)\n",
    "\n",
    "clf = RandomForestClassifier()\n",
    "\n",
    "clf.fit(X_train, y_train)"
   ]
  },
  {
   "cell_type": "code",
   "execution_count": 117,
   "metadata": {
    "collapsed": false
   },
   "outputs": [
    {
     "name": "stdout",
     "output_type": "stream",
     "text": [
      "Train 0.989784335982\n",
      "Test 0.740740740741\n"
     ]
    }
   ],
   "source": [
    "#Print the train and test scores. We see that the score for our test sample was a little low and that there is some \n",
    "#overfitting.\n",
    "print('Train', clf.score(X_train, y_train))\n",
    "print('Test', clf.score(X_test, y_test))"
   ]
  },
  {
   "cell_type": "code",
   "execution_count": 118,
   "metadata": {
    "collapsed": false
   },
   "outputs": [
    {
     "data": {
      "text/html": [
       "<div>\n",
       "<style scoped>\n",
       "    .dataframe tbody tr th:only-of-type {\n",
       "        vertical-align: middle;\n",
       "    }\n",
       "\n",
       "    .dataframe tbody tr th {\n",
       "        vertical-align: top;\n",
       "    }\n",
       "\n",
       "    .dataframe thead th {\n",
       "        text-align: right;\n",
       "    }\n",
       "</style>\n",
       "<table border=\"1\" class=\"dataframe\">\n",
       "  <thead>\n",
       "    <tr style=\"text-align: right;\">\n",
       "      <th></th>\n",
       "      <th>importance</th>\n",
       "      <th>names</th>\n",
       "    </tr>\n",
       "  </thead>\n",
       "  <tbody>\n",
       "    <tr>\n",
       "      <th>5</th>\n",
       "      <td>0.172842</td>\n",
       "      <td>NumberofYes</td>\n",
       "    </tr>\n",
       "    <tr>\n",
       "      <th>1</th>\n",
       "      <td>0.153181</td>\n",
       "      <td>NumberOfNulls</td>\n",
       "    </tr>\n",
       "    <tr>\n",
       "      <th>4</th>\n",
       "      <td>0.125013</td>\n",
       "      <td>NumberofNo</td>\n",
       "    </tr>\n",
       "    <tr>\n",
       "      <th>0</th>\n",
       "      <td>0.110948</td>\n",
       "      <td>Age</td>\n",
       "    </tr>\n",
       "    <tr>\n",
       "      <th>2</th>\n",
       "      <td>0.083592</td>\n",
       "      <td>UncertainResponse</td>\n",
       "    </tr>\n",
       "    <tr>\n",
       "      <th>17</th>\n",
       "      <td>0.077221</td>\n",
       "      <td>family_history_Yes</td>\n",
       "    </tr>\n",
       "    <tr>\n",
       "      <th>24</th>\n",
       "      <td>0.033454</td>\n",
       "      <td>tech_company_Yes</td>\n",
       "    </tr>\n",
       "    <tr>\n",
       "      <th>6</th>\n",
       "      <td>0.028213</td>\n",
       "      <td>Gender_Male</td>\n",
       "    </tr>\n",
       "    <tr>\n",
       "      <th>23</th>\n",
       "      <td>0.020962</td>\n",
       "      <td>remote_work_Yes</td>\n",
       "    </tr>\n",
       "    <tr>\n",
       "      <th>14</th>\n",
       "      <td>0.018463</td>\n",
       "      <td>USGroup_Not in US</td>\n",
       "    </tr>\n",
       "    <tr>\n",
       "      <th>22</th>\n",
       "      <td>0.018165</td>\n",
       "      <td>no_employees_More than 1000</td>\n",
       "    </tr>\n",
       "    <tr>\n",
       "      <th>21</th>\n",
       "      <td>0.016269</td>\n",
       "      <td>no_employees_6-25</td>\n",
       "    </tr>\n",
       "    <tr>\n",
       "      <th>19</th>\n",
       "      <td>0.015682</td>\n",
       "      <td>no_employees_26-100</td>\n",
       "    </tr>\n",
       "    <tr>\n",
       "      <th>18</th>\n",
       "      <td>0.015326</td>\n",
       "      <td>no_employees_100-500</td>\n",
       "    </tr>\n",
       "    <tr>\n",
       "      <th>15</th>\n",
       "      <td>0.014257</td>\n",
       "      <td>USGroup_South</td>\n",
       "    </tr>\n",
       "    <tr>\n",
       "      <th>3</th>\n",
       "      <td>0.014039</td>\n",
       "      <td>CommentPresent</td>\n",
       "    </tr>\n",
       "    <tr>\n",
       "      <th>16</th>\n",
       "      <td>0.012993</td>\n",
       "      <td>self_employed_Yes</td>\n",
       "    </tr>\n",
       "    <tr>\n",
       "      <th>9</th>\n",
       "      <td>0.012220</td>\n",
       "      <td>GroupedCountry_United States</td>\n",
       "    </tr>\n",
       "    <tr>\n",
       "      <th>12</th>\n",
       "      <td>0.011389</td>\n",
       "      <td>USGroup_Midwest</td>\n",
       "    </tr>\n",
       "    <tr>\n",
       "      <th>8</th>\n",
       "      <td>0.010566</td>\n",
       "      <td>GroupedCountry_Other</td>\n",
       "    </tr>\n",
       "    <tr>\n",
       "      <th>10</th>\n",
       "      <td>0.010170</td>\n",
       "      <td>GroupedCountry_Western Europe</td>\n",
       "    </tr>\n",
       "    <tr>\n",
       "      <th>13</th>\n",
       "      <td>0.008106</td>\n",
       "      <td>USGroup_NewYork</td>\n",
       "    </tr>\n",
       "    <tr>\n",
       "      <th>11</th>\n",
       "      <td>0.007654</td>\n",
       "      <td>USGroup_East</td>\n",
       "    </tr>\n",
       "    <tr>\n",
       "      <th>20</th>\n",
       "      <td>0.005989</td>\n",
       "      <td>no_employees_500-1000</td>\n",
       "    </tr>\n",
       "    <tr>\n",
       "      <th>7</th>\n",
       "      <td>0.003285</td>\n",
       "      <td>Gender_Other</td>\n",
       "    </tr>\n",
       "  </tbody>\n",
       "</table>\n",
       "</div>"
      ],
      "text/plain": [
       "    importance                          names\n",
       "5     0.172842                    NumberofYes\n",
       "1     0.153181                  NumberOfNulls\n",
       "4     0.125013                     NumberofNo\n",
       "0     0.110948                            Age\n",
       "2     0.083592              UncertainResponse\n",
       "17    0.077221             family_history_Yes\n",
       "24    0.033454               tech_company_Yes\n",
       "6     0.028213                    Gender_Male\n",
       "23    0.020962                remote_work_Yes\n",
       "14    0.018463              USGroup_Not in US\n",
       "22    0.018165    no_employees_More than 1000\n",
       "21    0.016269              no_employees_6-25\n",
       "19    0.015682            no_employees_26-100\n",
       "18    0.015326           no_employees_100-500\n",
       "15    0.014257                  USGroup_South\n",
       "3     0.014039                 CommentPresent\n",
       "16    0.012993              self_employed_Yes\n",
       "9     0.012220   GroupedCountry_United States\n",
       "12    0.011389                USGroup_Midwest\n",
       "8     0.010566           GroupedCountry_Other\n",
       "10    0.010170  GroupedCountry_Western Europe\n",
       "13    0.008106                USGroup_NewYork\n",
       "11    0.007654                   USGroup_East\n",
       "20    0.005989          no_employees_500-1000\n",
       "7     0.003285                   Gender_Other"
      ]
     },
     "execution_count": 118,
     "metadata": {},
     "output_type": "execute_result"
    }
   ],
   "source": [
    "#Look at which features were most important in trying to make predictions.\n",
    "importance = clf.feature_importances_\n",
    "features = pd.DataFrame()\n",
    "features['importance'] = importance\n",
    "features['names'] = X.columns\n",
    "features.sort_values(by='importance', ascending=False)"
   ]
  },
  {
   "cell_type": "code",
   "execution_count": 66,
   "metadata": {
    "collapsed": true
   },
   "outputs": [],
   "source": [
    "from sklearn.model_selection import RandomizedSearchCV\n",
    "import math"
   ]
  },
  {
   "cell_type": "code",
   "execution_count": 102,
   "metadata": {
    "collapsed": false
   },
   "outputs": [],
   "source": [
    "#Convert categorical variables into numbers instead of using One Hot Encoding, to try to see if performance \n",
    "#increases. Also add more variables to try to increase performance.\n",
    "for var in ['Gender', 'GroupedCountry', 'USGroup', 'self_employed', 'family_history', \n",
    "      'no_employees', 'remote_work', 'tech_company', 'obs_consequence','mental_vs_physical','mental_health_interview',\n",
    "           'phys_health_interview', 'supervisor', 'coworkers', 'phys_health_consequence', 'mental_health_consequence',\n",
    "           'benefits', 'care_options',\n",
    "       'wellness_program', 'seek_help', 'anonymity', 'leave',\n",
    "       'mental_health_consequence', 'phys_health_consequence']:\n",
    "    lst = [(value, index) for index, value in enumerate(df[var].unique())]\n",
    "    d = dict(lst)\n",
    "    df[var + 'New'] = df[var].map(d)\n",
    "       "
   ]
  },
  {
   "cell_type": "code",
   "execution_count": 103,
   "metadata": {
    "collapsed": false
   },
   "outputs": [
    {
     "data": {
      "text/html": [
       "<div>\n",
       "<style scoped>\n",
       "    .dataframe tbody tr th:only-of-type {\n",
       "        vertical-align: middle;\n",
       "    }\n",
       "\n",
       "    .dataframe tbody tr th {\n",
       "        vertical-align: top;\n",
       "    }\n",
       "\n",
       "    .dataframe thead th {\n",
       "        text-align: right;\n",
       "    }\n",
       "</style>\n",
       "<table border=\"1\" class=\"dataframe\">\n",
       "  <thead>\n",
       "    <tr style=\"text-align: right;\">\n",
       "      <th></th>\n",
       "      <th>Timestamp</th>\n",
       "      <th>Age</th>\n",
       "      <th>Gender</th>\n",
       "      <th>Country</th>\n",
       "      <th>state</th>\n",
       "      <th>self_employed</th>\n",
       "      <th>family_history</th>\n",
       "      <th>treatment</th>\n",
       "      <th>work_interfere</th>\n",
       "      <th>no_employees</th>\n",
       "      <th>remote_work</th>\n",
       "      <th>tech_company</th>\n",
       "      <th>benefits</th>\n",
       "      <th>care_options</th>\n",
       "      <th>wellness_program</th>\n",
       "      <th>seek_help</th>\n",
       "      <th>anonymity</th>\n",
       "      <th>leave</th>\n",
       "      <th>mental_health_consequence</th>\n",
       "      <th>phys_health_consequence</th>\n",
       "      <th>coworkers</th>\n",
       "      <th>supervisor</th>\n",
       "      <th>mental_health_interview</th>\n",
       "      <th>phys_health_interview</th>\n",
       "      <th>mental_vs_physical</th>\n",
       "      <th>obs_consequence</th>\n",
       "      <th>comments</th>\n",
       "      <th>GroupedCountry</th>\n",
       "      <th>Month</th>\n",
       "      <th>Year</th>\n",
       "      <th>Hour</th>\n",
       "      <th>USGroup</th>\n",
       "      <th>NumberOfNulls</th>\n",
       "      <th>NumberofNo</th>\n",
       "      <th>NumberofYes</th>\n",
       "      <th>UncertainResponse</th>\n",
       "      <th>CommentPresent</th>\n",
       "      <th>treatment_bool</th>\n",
       "      <th>AgeGroup</th>\n",
       "      <th>GenderNew</th>\n",
       "      <th>GroupedCountryNew</th>\n",
       "      <th>USGroupNew</th>\n",
       "      <th>NumberOfNullsNew</th>\n",
       "      <th>UncertainResponseNew</th>\n",
       "      <th>self_employedNew</th>\n",
       "      <th>family_historyNew</th>\n",
       "      <th>no_employeesNew</th>\n",
       "      <th>remote_workNew</th>\n",
       "      <th>tech_companyNew</th>\n",
       "      <th>obs_consequenceNew</th>\n",
       "      <th>mental_vs_physicalNew</th>\n",
       "      <th>mental_health_interviewNew</th>\n",
       "      <th>phys_health_interviewNew</th>\n",
       "      <th>supervisorNew</th>\n",
       "      <th>coworkersNew</th>\n",
       "      <th>phys_health_consequenceNew</th>\n",
       "      <th>mental_health_consequenceNew</th>\n",
       "      <th>benefitsNew</th>\n",
       "      <th>care_optionsNew</th>\n",
       "      <th>wellness_programNew</th>\n",
       "      <th>seek_helpNew</th>\n",
       "      <th>anonymityNew</th>\n",
       "      <th>leaveNew</th>\n",
       "    </tr>\n",
       "  </thead>\n",
       "  <tbody>\n",
       "    <tr>\n",
       "      <th>0</th>\n",
       "      <td>2014-08-27 11:29:00</td>\n",
       "      <td>37.0</td>\n",
       "      <td>Female</td>\n",
       "      <td>United States</td>\n",
       "      <td>IL</td>\n",
       "      <td>NaN</td>\n",
       "      <td>No</td>\n",
       "      <td>Yes</td>\n",
       "      <td>Often</td>\n",
       "      <td>6-25</td>\n",
       "      <td>No</td>\n",
       "      <td>Yes</td>\n",
       "      <td>Yes</td>\n",
       "      <td>Not sure</td>\n",
       "      <td>No</td>\n",
       "      <td>Yes</td>\n",
       "      <td>Yes</td>\n",
       "      <td>Somewhat easy</td>\n",
       "      <td>No</td>\n",
       "      <td>No</td>\n",
       "      <td>Some of them</td>\n",
       "      <td>Yes</td>\n",
       "      <td>No</td>\n",
       "      <td>Maybe</td>\n",
       "      <td>Yes</td>\n",
       "      <td>No</td>\n",
       "      <td>NaN</td>\n",
       "      <td>United States</td>\n",
       "      <td>8</td>\n",
       "      <td>2014</td>\n",
       "      <td>11</td>\n",
       "      <td>Midwest</td>\n",
       "      <td>2</td>\n",
       "      <td>7</td>\n",
       "      <td>7</td>\n",
       "      <td>1</td>\n",
       "      <td>0</td>\n",
       "      <td>1</td>\n",
       "      <td>(35, 40]</td>\n",
       "      <td>0</td>\n",
       "      <td>0</td>\n",
       "      <td>0</td>\n",
       "      <td>0</td>\n",
       "      <td>0</td>\n",
       "      <td>0</td>\n",
       "      <td>0</td>\n",
       "      <td>0</td>\n",
       "      <td>0</td>\n",
       "      <td>0</td>\n",
       "      <td>0</td>\n",
       "      <td>0</td>\n",
       "      <td>0</td>\n",
       "      <td>0</td>\n",
       "      <td>0</td>\n",
       "      <td>0</td>\n",
       "      <td>0</td>\n",
       "      <td>0</td>\n",
       "      <td>0</td>\n",
       "      <td>0</td>\n",
       "      <td>0</td>\n",
       "      <td>0</td>\n",
       "      <td>0</td>\n",
       "      <td>0</td>\n",
       "    </tr>\n",
       "    <tr>\n",
       "      <th>1</th>\n",
       "      <td>2014-08-27 11:29:00</td>\n",
       "      <td>44.0</td>\n",
       "      <td>Male</td>\n",
       "      <td>United States</td>\n",
       "      <td>IN</td>\n",
       "      <td>NaN</td>\n",
       "      <td>No</td>\n",
       "      <td>No</td>\n",
       "      <td>Rarely</td>\n",
       "      <td>More than 1000</td>\n",
       "      <td>No</td>\n",
       "      <td>No</td>\n",
       "      <td>Don't know</td>\n",
       "      <td>No</td>\n",
       "      <td>Don't know</td>\n",
       "      <td>Don't know</td>\n",
       "      <td>Don't know</td>\n",
       "      <td>Don't know</td>\n",
       "      <td>Maybe</td>\n",
       "      <td>No</td>\n",
       "      <td>No</td>\n",
       "      <td>No</td>\n",
       "      <td>No</td>\n",
       "      <td>No</td>\n",
       "      <td>Don't know</td>\n",
       "      <td>No</td>\n",
       "      <td>NaN</td>\n",
       "      <td>United States</td>\n",
       "      <td>8</td>\n",
       "      <td>2014</td>\n",
       "      <td>11</td>\n",
       "      <td>Midwest</td>\n",
       "      <td>2</td>\n",
       "      <td>11</td>\n",
       "      <td>0</td>\n",
       "      <td>7</td>\n",
       "      <td>0</td>\n",
       "      <td>0</td>\n",
       "      <td>(40, 45]</td>\n",
       "      <td>1</td>\n",
       "      <td>0</td>\n",
       "      <td>0</td>\n",
       "      <td>0</td>\n",
       "      <td>1</td>\n",
       "      <td>0</td>\n",
       "      <td>0</td>\n",
       "      <td>1</td>\n",
       "      <td>0</td>\n",
       "      <td>1</td>\n",
       "      <td>0</td>\n",
       "      <td>1</td>\n",
       "      <td>0</td>\n",
       "      <td>1</td>\n",
       "      <td>1</td>\n",
       "      <td>1</td>\n",
       "      <td>0</td>\n",
       "      <td>1</td>\n",
       "      <td>1</td>\n",
       "      <td>1</td>\n",
       "      <td>1</td>\n",
       "      <td>1</td>\n",
       "      <td>1</td>\n",
       "      <td>1</td>\n",
       "    </tr>\n",
       "    <tr>\n",
       "      <th>2</th>\n",
       "      <td>2014-08-27 11:29:00</td>\n",
       "      <td>32.0</td>\n",
       "      <td>Male</td>\n",
       "      <td>Canada</td>\n",
       "      <td>NaN</td>\n",
       "      <td>NaN</td>\n",
       "      <td>No</td>\n",
       "      <td>No</td>\n",
       "      <td>Rarely</td>\n",
       "      <td>6-25</td>\n",
       "      <td>No</td>\n",
       "      <td>Yes</td>\n",
       "      <td>No</td>\n",
       "      <td>No</td>\n",
       "      <td>No</td>\n",
       "      <td>No</td>\n",
       "      <td>Don't know</td>\n",
       "      <td>Somewhat difficult</td>\n",
       "      <td>No</td>\n",
       "      <td>No</td>\n",
       "      <td>Yes</td>\n",
       "      <td>Yes</td>\n",
       "      <td>Yes</td>\n",
       "      <td>Yes</td>\n",
       "      <td>No</td>\n",
       "      <td>No</td>\n",
       "      <td>NaN</td>\n",
       "      <td>Canada</td>\n",
       "      <td>8</td>\n",
       "      <td>2014</td>\n",
       "      <td>11</td>\n",
       "      <td>Not in US</td>\n",
       "      <td>2</td>\n",
       "      <td>11</td>\n",
       "      <td>5</td>\n",
       "      <td>1</td>\n",
       "      <td>0</td>\n",
       "      <td>0</td>\n",
       "      <td>(30, 35]</td>\n",
       "      <td>1</td>\n",
       "      <td>1</td>\n",
       "      <td>1</td>\n",
       "      <td>0</td>\n",
       "      <td>0</td>\n",
       "      <td>0</td>\n",
       "      <td>0</td>\n",
       "      <td>0</td>\n",
       "      <td>0</td>\n",
       "      <td>0</td>\n",
       "      <td>0</td>\n",
       "      <td>2</td>\n",
       "      <td>1</td>\n",
       "      <td>2</td>\n",
       "      <td>0</td>\n",
       "      <td>2</td>\n",
       "      <td>0</td>\n",
       "      <td>0</td>\n",
       "      <td>2</td>\n",
       "      <td>1</td>\n",
       "      <td>0</td>\n",
       "      <td>2</td>\n",
       "      <td>1</td>\n",
       "      <td>2</td>\n",
       "    </tr>\n",
       "    <tr>\n",
       "      <th>3</th>\n",
       "      <td>2014-08-27 11:29:00</td>\n",
       "      <td>31.0</td>\n",
       "      <td>Male</td>\n",
       "      <td>United Kingdom</td>\n",
       "      <td>NaN</td>\n",
       "      <td>NaN</td>\n",
       "      <td>Yes</td>\n",
       "      <td>Yes</td>\n",
       "      <td>Often</td>\n",
       "      <td>26-100</td>\n",
       "      <td>No</td>\n",
       "      <td>Yes</td>\n",
       "      <td>No</td>\n",
       "      <td>Yes</td>\n",
       "      <td>No</td>\n",
       "      <td>No</td>\n",
       "      <td>No</td>\n",
       "      <td>Somewhat difficult</td>\n",
       "      <td>Yes</td>\n",
       "      <td>Yes</td>\n",
       "      <td>Some of them</td>\n",
       "      <td>No</td>\n",
       "      <td>Maybe</td>\n",
       "      <td>Maybe</td>\n",
       "      <td>No</td>\n",
       "      <td>Yes</td>\n",
       "      <td>NaN</td>\n",
       "      <td>Western Europe</td>\n",
       "      <td>8</td>\n",
       "      <td>2014</td>\n",
       "      <td>11</td>\n",
       "      <td>Not in US</td>\n",
       "      <td>2</td>\n",
       "      <td>7</td>\n",
       "      <td>7</td>\n",
       "      <td>2</td>\n",
       "      <td>0</td>\n",
       "      <td>1</td>\n",
       "      <td>(30, 35]</td>\n",
       "      <td>1</td>\n",
       "      <td>2</td>\n",
       "      <td>1</td>\n",
       "      <td>0</td>\n",
       "      <td>2</td>\n",
       "      <td>0</td>\n",
       "      <td>1</td>\n",
       "      <td>2</td>\n",
       "      <td>0</td>\n",
       "      <td>0</td>\n",
       "      <td>1</td>\n",
       "      <td>2</td>\n",
       "      <td>2</td>\n",
       "      <td>0</td>\n",
       "      <td>1</td>\n",
       "      <td>0</td>\n",
       "      <td>1</td>\n",
       "      <td>2</td>\n",
       "      <td>2</td>\n",
       "      <td>2</td>\n",
       "      <td>0</td>\n",
       "      <td>2</td>\n",
       "      <td>2</td>\n",
       "      <td>2</td>\n",
       "    </tr>\n",
       "    <tr>\n",
       "      <th>4</th>\n",
       "      <td>2014-08-27 11:30:00</td>\n",
       "      <td>31.0</td>\n",
       "      <td>Male</td>\n",
       "      <td>United States</td>\n",
       "      <td>TX</td>\n",
       "      <td>NaN</td>\n",
       "      <td>No</td>\n",
       "      <td>No</td>\n",
       "      <td>Never</td>\n",
       "      <td>100-500</td>\n",
       "      <td>Yes</td>\n",
       "      <td>Yes</td>\n",
       "      <td>Yes</td>\n",
       "      <td>No</td>\n",
       "      <td>Don't know</td>\n",
       "      <td>Don't know</td>\n",
       "      <td>Don't know</td>\n",
       "      <td>Don't know</td>\n",
       "      <td>No</td>\n",
       "      <td>No</td>\n",
       "      <td>Some of them</td>\n",
       "      <td>Yes</td>\n",
       "      <td>Yes</td>\n",
       "      <td>Yes</td>\n",
       "      <td>Don't know</td>\n",
       "      <td>No</td>\n",
       "      <td>NaN</td>\n",
       "      <td>United States</td>\n",
       "      <td>8</td>\n",
       "      <td>2014</td>\n",
       "      <td>11</td>\n",
       "      <td>South</td>\n",
       "      <td>2</td>\n",
       "      <td>6</td>\n",
       "      <td>6</td>\n",
       "      <td>5</td>\n",
       "      <td>0</td>\n",
       "      <td>0</td>\n",
       "      <td>(30, 35]</td>\n",
       "      <td>1</td>\n",
       "      <td>0</td>\n",
       "      <td>2</td>\n",
       "      <td>0</td>\n",
       "      <td>3</td>\n",
       "      <td>0</td>\n",
       "      <td>0</td>\n",
       "      <td>3</td>\n",
       "      <td>1</td>\n",
       "      <td>0</td>\n",
       "      <td>0</td>\n",
       "      <td>1</td>\n",
       "      <td>1</td>\n",
       "      <td>2</td>\n",
       "      <td>0</td>\n",
       "      <td>0</td>\n",
       "      <td>0</td>\n",
       "      <td>0</td>\n",
       "      <td>0</td>\n",
       "      <td>1</td>\n",
       "      <td>1</td>\n",
       "      <td>1</td>\n",
       "      <td>1</td>\n",
       "      <td>1</td>\n",
       "    </tr>\n",
       "  </tbody>\n",
       "</table>\n",
       "</div>"
      ],
      "text/plain": [
       "            Timestamp   Age  Gender         Country state self_employed  \\\n",
       "0 2014-08-27 11:29:00  37.0  Female   United States    IL           NaN   \n",
       "1 2014-08-27 11:29:00  44.0    Male   United States    IN           NaN   \n",
       "2 2014-08-27 11:29:00  32.0    Male          Canada   NaN           NaN   \n",
       "3 2014-08-27 11:29:00  31.0    Male  United Kingdom   NaN           NaN   \n",
       "4 2014-08-27 11:30:00  31.0    Male   United States    TX           NaN   \n",
       "\n",
       "  family_history treatment work_interfere    no_employees remote_work  \\\n",
       "0             No       Yes          Often            6-25          No   \n",
       "1             No        No         Rarely  More than 1000          No   \n",
       "2             No        No         Rarely            6-25          No   \n",
       "3            Yes       Yes          Often          26-100          No   \n",
       "4             No        No          Never         100-500         Yes   \n",
       "\n",
       "  tech_company    benefits care_options wellness_program   seek_help  \\\n",
       "0          Yes         Yes     Not sure               No         Yes   \n",
       "1           No  Don't know           No       Don't know  Don't know   \n",
       "2          Yes          No           No               No          No   \n",
       "3          Yes          No          Yes               No          No   \n",
       "4          Yes         Yes           No       Don't know  Don't know   \n",
       "\n",
       "    anonymity               leave mental_health_consequence  \\\n",
       "0         Yes       Somewhat easy                        No   \n",
       "1  Don't know          Don't know                     Maybe   \n",
       "2  Don't know  Somewhat difficult                        No   \n",
       "3          No  Somewhat difficult                       Yes   \n",
       "4  Don't know          Don't know                        No   \n",
       "\n",
       "  phys_health_consequence     coworkers supervisor mental_health_interview  \\\n",
       "0                      No  Some of them        Yes                      No   \n",
       "1                      No            No         No                      No   \n",
       "2                      No           Yes        Yes                     Yes   \n",
       "3                     Yes  Some of them         No                   Maybe   \n",
       "4                      No  Some of them        Yes                     Yes   \n",
       "\n",
       "  phys_health_interview mental_vs_physical obs_consequence comments  \\\n",
       "0                 Maybe                Yes              No      NaN   \n",
       "1                    No         Don't know              No      NaN   \n",
       "2                   Yes                 No              No      NaN   \n",
       "3                 Maybe                 No             Yes      NaN   \n",
       "4                   Yes         Don't know              No      NaN   \n",
       "\n",
       "   GroupedCountry  Month  Year  Hour    USGroup  NumberOfNulls  NumberofNo  \\\n",
       "0   United States      8  2014    11    Midwest              2           7   \n",
       "1   United States      8  2014    11    Midwest              2          11   \n",
       "2          Canada      8  2014    11  Not in US              2          11   \n",
       "3  Western Europe      8  2014    11  Not in US              2           7   \n",
       "4   United States      8  2014    11      South              2           6   \n",
       "\n",
       "   NumberofYes  UncertainResponse  CommentPresent  treatment_bool  AgeGroup  \\\n",
       "0            7                  1               0               1  (35, 40]   \n",
       "1            0                  7               0               0  (40, 45]   \n",
       "2            5                  1               0               0  (30, 35]   \n",
       "3            7                  2               0               1  (30, 35]   \n",
       "4            6                  5               0               0  (30, 35]   \n",
       "\n",
       "   GenderNew  GroupedCountryNew  USGroupNew  NumberOfNullsNew  \\\n",
       "0          0                  0           0                 0   \n",
       "1          1                  0           0                 0   \n",
       "2          1                  1           1                 0   \n",
       "3          1                  2           1                 0   \n",
       "4          1                  0           2                 0   \n",
       "\n",
       "   UncertainResponseNew  self_employedNew  family_historyNew  no_employeesNew  \\\n",
       "0                     0                 0                  0                0   \n",
       "1                     1                 0                  0                1   \n",
       "2                     0                 0                  0                0   \n",
       "3                     2                 0                  1                2   \n",
       "4                     3                 0                  0                3   \n",
       "\n",
       "   remote_workNew  tech_companyNew  obs_consequenceNew  mental_vs_physicalNew  \\\n",
       "0               0                0                   0                      0   \n",
       "1               0                1                   0                      1   \n",
       "2               0                0                   0                      2   \n",
       "3               0                0                   1                      2   \n",
       "4               1                0                   0                      1   \n",
       "\n",
       "   mental_health_interviewNew  phys_health_interviewNew  supervisorNew  \\\n",
       "0                           0                         0              0   \n",
       "1                           0                         1              1   \n",
       "2                           1                         2              0   \n",
       "3                           2                         0              1   \n",
       "4                           1                         2              0   \n",
       "\n",
       "   coworkersNew  phys_health_consequenceNew  mental_health_consequenceNew  \\\n",
       "0             0                           0                             0   \n",
       "1             1                           0                             1   \n",
       "2             2                           0                             0   \n",
       "3             0                           1                             2   \n",
       "4             0                           0                             0   \n",
       "\n",
       "   benefitsNew  care_optionsNew  wellness_programNew  seek_helpNew  \\\n",
       "0            0                0                    0             0   \n",
       "1            1                1                    1             1   \n",
       "2            2                1                    0             2   \n",
       "3            2                2                    0             2   \n",
       "4            0                1                    1             1   \n",
       "\n",
       "   anonymityNew  leaveNew  \n",
       "0             0         0  \n",
       "1             1         1  \n",
       "2             1         2  \n",
       "3             2         2  \n",
       "4             1         1  "
      ]
     },
     "execution_count": 103,
     "metadata": {},
     "output_type": "execute_result"
    }
   ],
   "source": [
    "df.head()"
   ]
  },
  {
   "cell_type": "code",
   "execution_count": 107,
   "metadata": {
    "collapsed": false
   },
   "outputs": [
    {
     "data": {
      "text/plain": [
       "RandomForestClassifier(bootstrap=True, class_weight=None, criterion='gini',\n",
       "            max_depth=None, max_features='auto', max_leaf_nodes=None,\n",
       "            min_impurity_decrease=0.0, min_impurity_split=None,\n",
       "            min_samples_leaf=1, min_samples_split=2,\n",
       "            min_weight_fraction_leaf=0.0, n_estimators=10, n_jobs=1,\n",
       "            oob_score=False, random_state=None, verbose=0,\n",
       "            warm_start=False)"
      ]
     },
     "execution_count": 107,
     "metadata": {},
     "output_type": "execute_result"
    }
   ],
   "source": [
    "#Refit and score using RandomForest.\n",
    "X = df[['Age', 'CommentPresent', 'NumberOfNulls', 'NumberofNo','NumberofYes', 'UncertainResponse',\n",
    "       'GenderNew', 'GroupedCountryNew', 'USGroupNew',\n",
    "       'NumberOfNullsNew', 'UncertainResponseNew', 'self_employedNew',\n",
    "       'family_historyNew', 'no_employeesNew', 'remote_workNew',\n",
    "       'tech_companyNew', 'obs_consequenceNew', 'mental_vs_physicalNew', 'mental_health_interviewNew',\n",
    "       'phys_health_interviewNew', 'supervisorNew', 'coworkersNew', 'phys_health_consequenceNew',\n",
    "       'mental_health_consequenceNew', 'benefitsNew', 'care_optionsNew',\n",
    "       'wellness_programNew', 'seek_helpNew', 'anonymityNew', 'leaveNew']]\n",
    "\n",
    "X_train, X_test, y_train, y_test = train_test_split(X, y, test_size=0.3, random_state=0)\n",
    "\n",
    "clf = RandomForestClassifier()\n",
    "\n",
    "clf.fit(X_train, y_train)"
   ]
  },
  {
   "cell_type": "code",
   "execution_count": 108,
   "metadata": {
    "collapsed": false
   },
   "outputs": [
    {
     "name": "stdout",
     "output_type": "stream",
     "text": [
      "Train 0.981838819523\n",
      "Test 0.772486772487\n"
     ]
    }
   ],
   "source": [
    "#We see that the score went up slightlty but there is still overfitting.\n",
    "print('Train', clf.score(X_train, y_train))\n",
    "print('Test', clf.score(X_test, y_test))"
   ]
  },
  {
   "cell_type": "code",
   "execution_count": 109,
   "metadata": {
    "collapsed": false
   },
   "outputs": [
    {
     "data": {
      "text/html": [
       "<div>\n",
       "<style scoped>\n",
       "    .dataframe tbody tr th:only-of-type {\n",
       "        vertical-align: middle;\n",
       "    }\n",
       "\n",
       "    .dataframe tbody tr th {\n",
       "        vertical-align: top;\n",
       "    }\n",
       "\n",
       "    .dataframe thead th {\n",
       "        text-align: right;\n",
       "    }\n",
       "</style>\n",
       "<table border=\"1\" class=\"dataframe\">\n",
       "  <thead>\n",
       "    <tr style=\"text-align: right;\">\n",
       "      <th></th>\n",
       "      <th>importance</th>\n",
       "      <th>names</th>\n",
       "    </tr>\n",
       "  </thead>\n",
       "  <tbody>\n",
       "    <tr>\n",
       "      <th>4</th>\n",
       "      <td>0.150031</td>\n",
       "      <td>NumberofYes</td>\n",
       "    </tr>\n",
       "    <tr>\n",
       "      <th>9</th>\n",
       "      <td>0.095999</td>\n",
       "      <td>NumberOfNullsNew</td>\n",
       "    </tr>\n",
       "    <tr>\n",
       "      <th>12</th>\n",
       "      <td>0.086435</td>\n",
       "      <td>family_historyNew</td>\n",
       "    </tr>\n",
       "    <tr>\n",
       "      <th>2</th>\n",
       "      <td>0.072513</td>\n",
       "      <td>NumberOfNulls</td>\n",
       "    </tr>\n",
       "    <tr>\n",
       "      <th>3</th>\n",
       "      <td>0.068003</td>\n",
       "      <td>NumberofNo</td>\n",
       "    </tr>\n",
       "    <tr>\n",
       "      <th>0</th>\n",
       "      <td>0.062390</td>\n",
       "      <td>Age</td>\n",
       "    </tr>\n",
       "    <tr>\n",
       "      <th>13</th>\n",
       "      <td>0.036786</td>\n",
       "      <td>no_employeesNew</td>\n",
       "    </tr>\n",
       "    <tr>\n",
       "      <th>10</th>\n",
       "      <td>0.032701</td>\n",
       "      <td>UncertainResponseNew</td>\n",
       "    </tr>\n",
       "    <tr>\n",
       "      <th>5</th>\n",
       "      <td>0.029331</td>\n",
       "      <td>UncertainResponse</td>\n",
       "    </tr>\n",
       "    <tr>\n",
       "      <th>25</th>\n",
       "      <td>0.028093</td>\n",
       "      <td>care_optionsNew</td>\n",
       "    </tr>\n",
       "    <tr>\n",
       "      <th>29</th>\n",
       "      <td>0.026459</td>\n",
       "      <td>leaveNew</td>\n",
       "    </tr>\n",
       "    <tr>\n",
       "      <th>8</th>\n",
       "      <td>0.024250</td>\n",
       "      <td>USGroupNew</td>\n",
       "    </tr>\n",
       "    <tr>\n",
       "      <th>20</th>\n",
       "      <td>0.023699</td>\n",
       "      <td>supervisorNew</td>\n",
       "    </tr>\n",
       "    <tr>\n",
       "      <th>23</th>\n",
       "      <td>0.023127</td>\n",
       "      <td>mental_health_consequenceNew</td>\n",
       "    </tr>\n",
       "    <tr>\n",
       "      <th>17</th>\n",
       "      <td>0.020697</td>\n",
       "      <td>mental_vs_physicalNew</td>\n",
       "    </tr>\n",
       "    <tr>\n",
       "      <th>24</th>\n",
       "      <td>0.020658</td>\n",
       "      <td>benefitsNew</td>\n",
       "    </tr>\n",
       "    <tr>\n",
       "      <th>6</th>\n",
       "      <td>0.020347</td>\n",
       "      <td>GenderNew</td>\n",
       "    </tr>\n",
       "    <tr>\n",
       "      <th>7</th>\n",
       "      <td>0.018306</td>\n",
       "      <td>GroupedCountryNew</td>\n",
       "    </tr>\n",
       "    <tr>\n",
       "      <th>21</th>\n",
       "      <td>0.017369</td>\n",
       "      <td>coworkersNew</td>\n",
       "    </tr>\n",
       "    <tr>\n",
       "      <th>26</th>\n",
       "      <td>0.017224</td>\n",
       "      <td>wellness_programNew</td>\n",
       "    </tr>\n",
       "    <tr>\n",
       "      <th>22</th>\n",
       "      <td>0.015717</td>\n",
       "      <td>phys_health_consequenceNew</td>\n",
       "    </tr>\n",
       "    <tr>\n",
       "      <th>19</th>\n",
       "      <td>0.015304</td>\n",
       "      <td>phys_health_interviewNew</td>\n",
       "    </tr>\n",
       "    <tr>\n",
       "      <th>27</th>\n",
       "      <td>0.014723</td>\n",
       "      <td>seek_helpNew</td>\n",
       "    </tr>\n",
       "    <tr>\n",
       "      <th>18</th>\n",
       "      <td>0.014534</td>\n",
       "      <td>mental_health_interviewNew</td>\n",
       "    </tr>\n",
       "    <tr>\n",
       "      <th>28</th>\n",
       "      <td>0.014086</td>\n",
       "      <td>anonymityNew</td>\n",
       "    </tr>\n",
       "    <tr>\n",
       "      <th>11</th>\n",
       "      <td>0.014046</td>\n",
       "      <td>self_employedNew</td>\n",
       "    </tr>\n",
       "    <tr>\n",
       "      <th>14</th>\n",
       "      <td>0.012032</td>\n",
       "      <td>remote_workNew</td>\n",
       "    </tr>\n",
       "    <tr>\n",
       "      <th>15</th>\n",
       "      <td>0.011924</td>\n",
       "      <td>tech_companyNew</td>\n",
       "    </tr>\n",
       "    <tr>\n",
       "      <th>16</th>\n",
       "      <td>0.008123</td>\n",
       "      <td>obs_consequenceNew</td>\n",
       "    </tr>\n",
       "    <tr>\n",
       "      <th>1</th>\n",
       "      <td>0.005093</td>\n",
       "      <td>CommentPresent</td>\n",
       "    </tr>\n",
       "  </tbody>\n",
       "</table>\n",
       "</div>"
      ],
      "text/plain": [
       "    importance                         names\n",
       "4     0.150031                   NumberofYes\n",
       "9     0.095999              NumberOfNullsNew\n",
       "12    0.086435             family_historyNew\n",
       "2     0.072513                 NumberOfNulls\n",
       "3     0.068003                    NumberofNo\n",
       "0     0.062390                           Age\n",
       "13    0.036786               no_employeesNew\n",
       "10    0.032701          UncertainResponseNew\n",
       "5     0.029331             UncertainResponse\n",
       "25    0.028093               care_optionsNew\n",
       "29    0.026459                      leaveNew\n",
       "8     0.024250                    USGroupNew\n",
       "20    0.023699                 supervisorNew\n",
       "23    0.023127  mental_health_consequenceNew\n",
       "17    0.020697         mental_vs_physicalNew\n",
       "24    0.020658                   benefitsNew\n",
       "6     0.020347                     GenderNew\n",
       "7     0.018306             GroupedCountryNew\n",
       "21    0.017369                  coworkersNew\n",
       "26    0.017224           wellness_programNew\n",
       "22    0.015717    phys_health_consequenceNew\n",
       "19    0.015304      phys_health_interviewNew\n",
       "27    0.014723                  seek_helpNew\n",
       "18    0.014534    mental_health_interviewNew\n",
       "28    0.014086                  anonymityNew\n",
       "11    0.014046              self_employedNew\n",
       "14    0.012032                remote_workNew\n",
       "15    0.011924               tech_companyNew\n",
       "16    0.008123            obs_consequenceNew\n",
       "1     0.005093                CommentPresent"
      ]
     },
     "execution_count": 109,
     "metadata": {},
     "output_type": "execute_result"
    }
   ],
   "source": [
    "#Look at the feature importance in making our predictions.\n",
    "importance = clf.feature_importances_\n",
    "features = pd.DataFrame()\n",
    "features['importance'] = importance\n",
    "features['names'] = X.columns\n",
    "features.sort_values(by='importance', ascending=False)"
   ]
  },
  {
   "cell_type": "code",
   "execution_count": 112,
   "metadata": {
    "collapsed": false
   },
   "outputs": [
    {
     "name": "stdout",
     "output_type": "stream",
     "text": [
      "Fitting 3 folds for each of 100 candidates, totalling 300 fits\n"
     ]
    },
    {
     "name": "stderr",
     "output_type": "stream",
     "text": [
      "[Parallel(n_jobs=1)]: Done 300 out of 300 | elapsed:  9.4min finished\n"
     ]
    },
    {
     "data": {
      "text/plain": [
       "RandomizedSearchCV(cv=3, error_score='raise',\n",
       "          estimator=RandomForestClassifier(bootstrap=True, class_weight=None, criterion='gini',\n",
       "            max_depth=None, max_features='auto', max_leaf_nodes=None,\n",
       "            min_impurity_decrease=0.0, min_impurity_split=None,\n",
       "            min_samples_leaf=1, min_samples_split=2,\n",
       "            min_weight_fraction_leaf=0.0, n_estimators=10, n_jobs=1,\n",
       "            oob_score=False, random_state=None, verbose=0,\n",
       "            warm_start=False),\n",
       "          fit_params=None, iid=True, n_iter=100, n_jobs=1,\n",
       "          param_distributions={'min_samples_leaf': [1, 2, 4], 'max_depth': [10, 20, 30, 40, 50, 60, 70, 80, 90, 100, 110, None], 'bootstrap': [True, False], 'n_estimators': [200, 400, 600, 800, 1000, 1200, 1400, 1600, 1800, 2000], 'max_features': ['auto', 'sqrt'], 'min_samples_split': [2, 5, 10]},\n",
       "          pre_dispatch='2*n_jobs', random_state=42, refit=True,\n",
       "          return_train_score='warn', scoring=None, verbose=1)"
      ]
     },
     "execution_count": 112,
     "metadata": {},
     "output_type": "execute_result"
    }
   ],
   "source": [
    "from sklearn.model_selection import RandomizedSearchCV\n",
    "import math\n",
    "\n",
    "#Create random lists of parameters to try and tune our random forest for better performance instead of using the \n",
    "#defaults\n",
    "n_estimators = [math.floor(x) for x in np.linspace(start = 200, stop = 2000, num = 10)]\n",
    "\n",
    "max_features = ['auto', 'sqrt']\n",
    "\n",
    "max_depth = [math.floor(x) for x in np.linspace(10, 110, num = 11)]\n",
    "max_depth.append(None)\n",
    "\n",
    "min_samples_split = [2, 5, 10]\n",
    "\n",
    "min_samples_leaf = [1, 2, 4]\n",
    "\n",
    "bootstrap = [True, False]\n",
    "\n",
    "random_grid = {'n_estimators': n_estimators,\n",
    "               'max_features': max_features,\n",
    "               'max_depth': max_depth,\n",
    "               'min_samples_split': min_samples_split,\n",
    "               'min_samples_leaf': min_samples_leaf,\n",
    "               'bootstrap': bootstrap}\n",
    "\n",
    "clf = RandomForestClassifier()\n",
    "clf_random = RandomizedSearchCV(estimator = clf, \n",
    "                               param_distributions = random_grid, \n",
    "                               n_iter = 100, cv = 3, verbose=1, random_state=42)\n",
    "\n",
    "clf_random.fit(X_train, y_train)"
   ]
  },
  {
   "cell_type": "code",
   "execution_count": 113,
   "metadata": {
    "collapsed": false
   },
   "outputs": [
    {
     "name": "stdout",
     "output_type": "stream",
     "text": [
      "0.988649262202\n",
      "0.793650793651\n"
     ]
    }
   ],
   "source": [
    "#Grab the best parameters that were found using hyperparameter tuning and refit with random forest. We see our score \n",
    "#improved a little but there is still overfitting.\n",
    "params = clf_random.best_params_\n",
    "clf = RandomForestClassifier(**params)\n",
    "clf.fit(X_train, y_train)\n",
    "print(clf.score(X_train, y_train))\n",
    "print(clf.score(X_test, y_test))"
   ]
  },
  {
   "cell_type": "code",
   "execution_count": 114,
   "metadata": {
    "collapsed": false
   },
   "outputs": [
    {
     "data": {
      "text/html": [
       "<div>\n",
       "<style scoped>\n",
       "    .dataframe tbody tr th:only-of-type {\n",
       "        vertical-align: middle;\n",
       "    }\n",
       "\n",
       "    .dataframe tbody tr th {\n",
       "        vertical-align: top;\n",
       "    }\n",
       "\n",
       "    .dataframe thead th {\n",
       "        text-align: right;\n",
       "    }\n",
       "</style>\n",
       "<table border=\"1\" class=\"dataframe\">\n",
       "  <thead>\n",
       "    <tr style=\"text-align: right;\">\n",
       "      <th></th>\n",
       "      <th>importance</th>\n",
       "      <th>names</th>\n",
       "    </tr>\n",
       "  </thead>\n",
       "  <tbody>\n",
       "    <tr>\n",
       "      <th>4</th>\n",
       "      <td>0.144037</td>\n",
       "      <td>NumberofYes</td>\n",
       "    </tr>\n",
       "    <tr>\n",
       "      <th>2</th>\n",
       "      <td>0.130335</td>\n",
       "      <td>NumberOfNulls</td>\n",
       "    </tr>\n",
       "    <tr>\n",
       "      <th>9</th>\n",
       "      <td>0.111724</td>\n",
       "      <td>NumberOfNullsNew</td>\n",
       "    </tr>\n",
       "    <tr>\n",
       "      <th>3</th>\n",
       "      <td>0.091430</td>\n",
       "      <td>NumberofNo</td>\n",
       "    </tr>\n",
       "    <tr>\n",
       "      <th>12</th>\n",
       "      <td>0.078601</td>\n",
       "      <td>family_historyNew</td>\n",
       "    </tr>\n",
       "    <tr>\n",
       "      <th>0</th>\n",
       "      <td>0.046286</td>\n",
       "      <td>Age</td>\n",
       "    </tr>\n",
       "    <tr>\n",
       "      <th>25</th>\n",
       "      <td>0.029399</td>\n",
       "      <td>care_optionsNew</td>\n",
       "    </tr>\n",
       "    <tr>\n",
       "      <th>5</th>\n",
       "      <td>0.026599</td>\n",
       "      <td>UncertainResponse</td>\n",
       "    </tr>\n",
       "    <tr>\n",
       "      <th>13</th>\n",
       "      <td>0.022825</td>\n",
       "      <td>no_employeesNew</td>\n",
       "    </tr>\n",
       "    <tr>\n",
       "      <th>10</th>\n",
       "      <td>0.021481</td>\n",
       "      <td>UncertainResponseNew</td>\n",
       "    </tr>\n",
       "    <tr>\n",
       "      <th>27</th>\n",
       "      <td>0.021119</td>\n",
       "      <td>seek_helpNew</td>\n",
       "    </tr>\n",
       "    <tr>\n",
       "      <th>6</th>\n",
       "      <td>0.020859</td>\n",
       "      <td>GenderNew</td>\n",
       "    </tr>\n",
       "    <tr>\n",
       "      <th>8</th>\n",
       "      <td>0.020333</td>\n",
       "      <td>USGroupNew</td>\n",
       "    </tr>\n",
       "    <tr>\n",
       "      <th>17</th>\n",
       "      <td>0.019709</td>\n",
       "      <td>mental_vs_physicalNew</td>\n",
       "    </tr>\n",
       "    <tr>\n",
       "      <th>24</th>\n",
       "      <td>0.018477</td>\n",
       "      <td>benefitsNew</td>\n",
       "    </tr>\n",
       "    <tr>\n",
       "      <th>29</th>\n",
       "      <td>0.018078</td>\n",
       "      <td>leaveNew</td>\n",
       "    </tr>\n",
       "    <tr>\n",
       "      <th>26</th>\n",
       "      <td>0.017850</td>\n",
       "      <td>wellness_programNew</td>\n",
       "    </tr>\n",
       "    <tr>\n",
       "      <th>20</th>\n",
       "      <td>0.016867</td>\n",
       "      <td>supervisorNew</td>\n",
       "    </tr>\n",
       "    <tr>\n",
       "      <th>18</th>\n",
       "      <td>0.016117</td>\n",
       "      <td>mental_health_interviewNew</td>\n",
       "    </tr>\n",
       "    <tr>\n",
       "      <th>23</th>\n",
       "      <td>0.015261</td>\n",
       "      <td>mental_health_consequenceNew</td>\n",
       "    </tr>\n",
       "    <tr>\n",
       "      <th>16</th>\n",
       "      <td>0.014597</td>\n",
       "      <td>obs_consequenceNew</td>\n",
       "    </tr>\n",
       "    <tr>\n",
       "      <th>7</th>\n",
       "      <td>0.013345</td>\n",
       "      <td>GroupedCountryNew</td>\n",
       "    </tr>\n",
       "    <tr>\n",
       "      <th>19</th>\n",
       "      <td>0.012928</td>\n",
       "      <td>phys_health_interviewNew</td>\n",
       "    </tr>\n",
       "    <tr>\n",
       "      <th>11</th>\n",
       "      <td>0.012540</td>\n",
       "      <td>self_employedNew</td>\n",
       "    </tr>\n",
       "    <tr>\n",
       "      <th>15</th>\n",
       "      <td>0.011235</td>\n",
       "      <td>tech_companyNew</td>\n",
       "    </tr>\n",
       "    <tr>\n",
       "      <th>14</th>\n",
       "      <td>0.011060</td>\n",
       "      <td>remote_workNew</td>\n",
       "    </tr>\n",
       "    <tr>\n",
       "      <th>21</th>\n",
       "      <td>0.010915</td>\n",
       "      <td>coworkersNew</td>\n",
       "    </tr>\n",
       "    <tr>\n",
       "      <th>28</th>\n",
       "      <td>0.010057</td>\n",
       "      <td>anonymityNew</td>\n",
       "    </tr>\n",
       "    <tr>\n",
       "      <th>22</th>\n",
       "      <td>0.009771</td>\n",
       "      <td>phys_health_consequenceNew</td>\n",
       "    </tr>\n",
       "    <tr>\n",
       "      <th>1</th>\n",
       "      <td>0.006163</td>\n",
       "      <td>CommentPresent</td>\n",
       "    </tr>\n",
       "  </tbody>\n",
       "</table>\n",
       "</div>"
      ],
      "text/plain": [
       "    importance                         names\n",
       "4     0.144037                   NumberofYes\n",
       "2     0.130335                 NumberOfNulls\n",
       "9     0.111724              NumberOfNullsNew\n",
       "3     0.091430                    NumberofNo\n",
       "12    0.078601             family_historyNew\n",
       "0     0.046286                           Age\n",
       "25    0.029399               care_optionsNew\n",
       "5     0.026599             UncertainResponse\n",
       "13    0.022825               no_employeesNew\n",
       "10    0.021481          UncertainResponseNew\n",
       "27    0.021119                  seek_helpNew\n",
       "6     0.020859                     GenderNew\n",
       "8     0.020333                    USGroupNew\n",
       "17    0.019709         mental_vs_physicalNew\n",
       "24    0.018477                   benefitsNew\n",
       "29    0.018078                      leaveNew\n",
       "26    0.017850           wellness_programNew\n",
       "20    0.016867                 supervisorNew\n",
       "18    0.016117    mental_health_interviewNew\n",
       "23    0.015261  mental_health_consequenceNew\n",
       "16    0.014597            obs_consequenceNew\n",
       "7     0.013345             GroupedCountryNew\n",
       "19    0.012928      phys_health_interviewNew\n",
       "11    0.012540              self_employedNew\n",
       "15    0.011235               tech_companyNew\n",
       "14    0.011060                remote_workNew\n",
       "21    0.010915                  coworkersNew\n",
       "28    0.010057                  anonymityNew\n",
       "22    0.009771    phys_health_consequenceNew\n",
       "1     0.006163                CommentPresent"
      ]
     },
     "execution_count": 114,
     "metadata": {},
     "output_type": "execute_result"
    }
   ],
   "source": [
    "#Look at the feature importance of our new model.\n",
    "importance = clf.feature_importances_\n",
    "features = pd.DataFrame()\n",
    "features['importance'] = importance\n",
    "features['names'] = X.columns\n",
    "features.sort_values(by='importance', ascending=False)"
   ]
  },
  {
   "cell_type": "code",
   "execution_count": 137,
   "metadata": {
    "collapsed": false
   },
   "outputs": [
    {
     "name": "stdout",
     "output_type": "stream",
     "text": [
      "0.804767309875\n",
      "0.785714285714\n",
      "0.872871736663\n",
      "0.769841269841\n"
     ]
    }
   ],
   "source": [
    "#Try different models\n",
    "from sklearn.linear_model import LogisticRegression\n",
    "lr = LogisticRegression()\n",
    "lr.fit(X_train, y_train)\n",
    "print(lr.score(X_train, y_train))\n",
    "print(lr.score(X_test, y_test))\n",
    "\n",
    "from sklearn import ensemble\n",
    "clf = ensemble.GradientBoostingClassifier()\n",
    "clf.fit(X_train, y_train)\n",
    "print(clf.score(X_train, y_train))\n",
    "print(clf.score(X_test, y_test))"
   ]
  },
  {
   "cell_type": "markdown",
   "metadata": {},
   "source": [
    "# Conclusion"
   ]
  },
  {
   "cell_type": "markdown",
   "metadata": {},
   "source": [
    "We see that our model got up to 80 percent accuracy in predicting whether or not someone had mental health issues. Because this survey was not meant to used for this type of prediciton, there are many questions that were left out that could have provided more information. Also, there were only 1259 respondents, which is not a huge amount of observations to work with for a supervised machine lerning problem. Mental health is very difficult to try and predict because of how undiscriminating it is, so I am not surprised I could not get my model up to 90 percent. However, I believe that 80 percent is still a good start and if the survey was given to more people and more information was provided, such as education, ethnicity, hours of sleep per night, etc., the predictive power could have been greater."
   ]
  },
  {
   "cell_type": "code",
   "execution_count": null,
   "metadata": {
    "collapsed": true
   },
   "outputs": [],
   "source": []
  }
 ],
 "metadata": {
  "anaconda-cloud": {},
  "kernelspec": {
   "display_name": "Python [conda env:anaconda]",
   "language": "python",
   "name": "conda-env-anaconda-py"
  },
  "language_info": {
   "codemirror_mode": {
    "name": "ipython",
    "version": 3
   },
   "file_extension": ".py",
   "mimetype": "text/x-python",
   "name": "python",
   "nbconvert_exporter": "python",
   "pygments_lexer": "ipython3",
   "version": "3.5.2"
  }
 },
 "nbformat": 4,
 "nbformat_minor": 1
}
