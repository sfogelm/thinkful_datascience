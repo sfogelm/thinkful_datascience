{
 "cells": [
  {
   "cell_type": "code",
   "execution_count": 1,
   "metadata": {
    "collapsed": true
   },
   "outputs": [],
   "source": [
    "import numpy as np\n",
    "import pandas as pd\n",
    "import matplotlib.pyplot as plt\n",
    "%matplotlib inline"
   ]
  },
  {
   "cell_type": "code",
   "execution_count": 2,
   "metadata": {
    "collapsed": false
   },
   "outputs": [
    {
     "name": "stderr",
     "output_type": "stream",
     "text": [
      "/Users/spencerfogelman/anaconda/lib/python3.5/site-packages/IPython/core/interactiveshell.py:2717: DtypeWarning: Columns (0,19,55) have mixed types. Specify dtype option on import or set low_memory=False.\n",
      "  interactivity=interactivity, compiler=compiler, result=result)\n"
     ]
    }
   ],
   "source": [
    "# Replace the path with the correct path for your data.\n",
    "y2015 = pd.read_csv(\n",
    "    'https://www.dropbox.com/s/0so14yudedjmm5m/LoanStats3d.csv?dl=1',\n",
    "    skipinitialspace=True,\n",
    "    header=1\n",
    ")"
   ]
  },
  {
   "cell_type": "code",
   "execution_count": 3,
   "metadata": {
    "collapsed": false
   },
   "outputs": [
    {
     "data": {
      "text/html": [
       "<div>\n",
       "<style scoped>\n",
       "    .dataframe tbody tr th:only-of-type {\n",
       "        vertical-align: middle;\n",
       "    }\n",
       "\n",
       "    .dataframe tbody tr th {\n",
       "        vertical-align: top;\n",
       "    }\n",
       "\n",
       "    .dataframe thead th {\n",
       "        text-align: right;\n",
       "    }\n",
       "</style>\n",
       "<table border=\"1\" class=\"dataframe\">\n",
       "  <thead>\n",
       "    <tr style=\"text-align: right;\">\n",
       "      <th></th>\n",
       "      <th>id</th>\n",
       "      <th>member_id</th>\n",
       "      <th>loan_amnt</th>\n",
       "      <th>funded_amnt</th>\n",
       "      <th>funded_amnt_inv</th>\n",
       "      <th>term</th>\n",
       "      <th>int_rate</th>\n",
       "      <th>installment</th>\n",
       "      <th>grade</th>\n",
       "      <th>sub_grade</th>\n",
       "      <th>...</th>\n",
       "      <th>num_tl_90g_dpd_24m</th>\n",
       "      <th>num_tl_op_past_12m</th>\n",
       "      <th>pct_tl_nvr_dlq</th>\n",
       "      <th>percent_bc_gt_75</th>\n",
       "      <th>pub_rec_bankruptcies</th>\n",
       "      <th>tax_liens</th>\n",
       "      <th>tot_hi_cred_lim</th>\n",
       "      <th>total_bal_ex_mort</th>\n",
       "      <th>total_bc_limit</th>\n",
       "      <th>total_il_high_credit_limit</th>\n",
       "    </tr>\n",
       "  </thead>\n",
       "  <tbody>\n",
       "    <tr>\n",
       "      <th>0</th>\n",
       "      <td>68009401</td>\n",
       "      <td>72868139.0</td>\n",
       "      <td>16000.0</td>\n",
       "      <td>16000.0</td>\n",
       "      <td>16000.0</td>\n",
       "      <td>60 months</td>\n",
       "      <td>14.85%</td>\n",
       "      <td>379.39</td>\n",
       "      <td>C</td>\n",
       "      <td>C5</td>\n",
       "      <td>...</td>\n",
       "      <td>0.0</td>\n",
       "      <td>2.0</td>\n",
       "      <td>78.9</td>\n",
       "      <td>0.0</td>\n",
       "      <td>0.0</td>\n",
       "      <td>2.0</td>\n",
       "      <td>298100.0</td>\n",
       "      <td>31329.0</td>\n",
       "      <td>281300.0</td>\n",
       "      <td>13400.0</td>\n",
       "    </tr>\n",
       "    <tr>\n",
       "      <th>1</th>\n",
       "      <td>68354783</td>\n",
       "      <td>73244544.0</td>\n",
       "      <td>9600.0</td>\n",
       "      <td>9600.0</td>\n",
       "      <td>9600.0</td>\n",
       "      <td>36 months</td>\n",
       "      <td>7.49%</td>\n",
       "      <td>298.58</td>\n",
       "      <td>A</td>\n",
       "      <td>A4</td>\n",
       "      <td>...</td>\n",
       "      <td>0.0</td>\n",
       "      <td>2.0</td>\n",
       "      <td>100.0</td>\n",
       "      <td>66.7</td>\n",
       "      <td>0.0</td>\n",
       "      <td>0.0</td>\n",
       "      <td>88635.0</td>\n",
       "      <td>55387.0</td>\n",
       "      <td>12500.0</td>\n",
       "      <td>75635.0</td>\n",
       "    </tr>\n",
       "    <tr>\n",
       "      <th>2</th>\n",
       "      <td>68466916</td>\n",
       "      <td>73356753.0</td>\n",
       "      <td>25000.0</td>\n",
       "      <td>25000.0</td>\n",
       "      <td>25000.0</td>\n",
       "      <td>36 months</td>\n",
       "      <td>7.49%</td>\n",
       "      <td>777.55</td>\n",
       "      <td>A</td>\n",
       "      <td>A4</td>\n",
       "      <td>...</td>\n",
       "      <td>0.0</td>\n",
       "      <td>0.0</td>\n",
       "      <td>100.0</td>\n",
       "      <td>20.0</td>\n",
       "      <td>0.0</td>\n",
       "      <td>0.0</td>\n",
       "      <td>373572.0</td>\n",
       "      <td>68056.0</td>\n",
       "      <td>38400.0</td>\n",
       "      <td>82117.0</td>\n",
       "    </tr>\n",
       "    <tr>\n",
       "      <th>3</th>\n",
       "      <td>68466961</td>\n",
       "      <td>73356799.0</td>\n",
       "      <td>28000.0</td>\n",
       "      <td>28000.0</td>\n",
       "      <td>28000.0</td>\n",
       "      <td>36 months</td>\n",
       "      <td>6.49%</td>\n",
       "      <td>858.05</td>\n",
       "      <td>A</td>\n",
       "      <td>A2</td>\n",
       "      <td>...</td>\n",
       "      <td>0.0</td>\n",
       "      <td>0.0</td>\n",
       "      <td>91.7</td>\n",
       "      <td>22.2</td>\n",
       "      <td>0.0</td>\n",
       "      <td>0.0</td>\n",
       "      <td>304003.0</td>\n",
       "      <td>74920.0</td>\n",
       "      <td>41500.0</td>\n",
       "      <td>42503.0</td>\n",
       "    </tr>\n",
       "    <tr>\n",
       "      <th>4</th>\n",
       "      <td>68495092</td>\n",
       "      <td>73384866.0</td>\n",
       "      <td>8650.0</td>\n",
       "      <td>8650.0</td>\n",
       "      <td>8650.0</td>\n",
       "      <td>36 months</td>\n",
       "      <td>19.89%</td>\n",
       "      <td>320.99</td>\n",
       "      <td>E</td>\n",
       "      <td>E3</td>\n",
       "      <td>...</td>\n",
       "      <td>0.0</td>\n",
       "      <td>12.0</td>\n",
       "      <td>100.0</td>\n",
       "      <td>50.0</td>\n",
       "      <td>1.0</td>\n",
       "      <td>0.0</td>\n",
       "      <td>38998.0</td>\n",
       "      <td>18926.0</td>\n",
       "      <td>2750.0</td>\n",
       "      <td>18248.0</td>\n",
       "    </tr>\n",
       "  </tbody>\n",
       "</table>\n",
       "<p>5 rows × 111 columns</p>\n",
       "</div>"
      ],
      "text/plain": [
       "         id   member_id  loan_amnt  funded_amnt  funded_amnt_inv        term  \\\n",
       "0  68009401  72868139.0    16000.0      16000.0          16000.0   60 months   \n",
       "1  68354783  73244544.0     9600.0       9600.0           9600.0   36 months   \n",
       "2  68466916  73356753.0    25000.0      25000.0          25000.0   36 months   \n",
       "3  68466961  73356799.0    28000.0      28000.0          28000.0   36 months   \n",
       "4  68495092  73384866.0     8650.0       8650.0           8650.0   36 months   \n",
       "\n",
       "  int_rate  installment grade sub_grade            ...              \\\n",
       "0   14.85%       379.39     C        C5            ...               \n",
       "1    7.49%       298.58     A        A4            ...               \n",
       "2    7.49%       777.55     A        A4            ...               \n",
       "3    6.49%       858.05     A        A2            ...               \n",
       "4   19.89%       320.99     E        E3            ...               \n",
       "\n",
       "  num_tl_90g_dpd_24m num_tl_op_past_12m pct_tl_nvr_dlq  percent_bc_gt_75  \\\n",
       "0                0.0                2.0           78.9               0.0   \n",
       "1                0.0                2.0          100.0              66.7   \n",
       "2                0.0                0.0          100.0              20.0   \n",
       "3                0.0                0.0           91.7              22.2   \n",
       "4                0.0               12.0          100.0              50.0   \n",
       "\n",
       "  pub_rec_bankruptcies tax_liens tot_hi_cred_lim total_bal_ex_mort  \\\n",
       "0                  0.0       2.0        298100.0           31329.0   \n",
       "1                  0.0       0.0         88635.0           55387.0   \n",
       "2                  0.0       0.0        373572.0           68056.0   \n",
       "3                  0.0       0.0        304003.0           74920.0   \n",
       "4                  1.0       0.0         38998.0           18926.0   \n",
       "\n",
       "  total_bc_limit total_il_high_credit_limit  \n",
       "0       281300.0                    13400.0  \n",
       "1        12500.0                    75635.0  \n",
       "2        38400.0                    82117.0  \n",
       "3        41500.0                    42503.0  \n",
       "4         2750.0                    18248.0  \n",
       "\n",
       "[5 rows x 111 columns]"
      ]
     },
     "execution_count": 3,
     "metadata": {},
     "output_type": "execute_result"
    }
   ],
   "source": [
    "y2015.head()"
   ]
  },
  {
   "cell_type": "code",
   "execution_count": 4,
   "metadata": {
    "collapsed": false
   },
   "outputs": [
    {
     "data": {
      "text/plain": [
       "id                                 object\n",
       "member_id                         float64\n",
       "loan_amnt                         float64\n",
       "funded_amnt                       float64\n",
       "funded_amnt_inv                   float64\n",
       "term                               object\n",
       "int_rate                           object\n",
       "installment                       float64\n",
       "grade                              object\n",
       "sub_grade                          object\n",
       "emp_title                          object\n",
       "emp_length                         object\n",
       "home_ownership                     object\n",
       "annual_inc                        float64\n",
       "verification_status                object\n",
       "issue_d                            object\n",
       "loan_status                        object\n",
       "pymnt_plan                         object\n",
       "url                                object\n",
       "desc                               object\n",
       "purpose                            object\n",
       "title                              object\n",
       "zip_code                           object\n",
       "addr_state                         object\n",
       "dti                               float64\n",
       "delinq_2yrs                       float64\n",
       "earliest_cr_line                   object\n",
       "inq_last_6mths                    float64\n",
       "mths_since_last_delinq            float64\n",
       "mths_since_last_record            float64\n",
       "open_acc                          float64\n",
       "pub_rec                           float64\n",
       "revol_bal                         float64\n",
       "revol_util                         object\n",
       "total_acc                         float64\n",
       "initial_list_status                object\n",
       "out_prncp                         float64\n",
       "out_prncp_inv                     float64\n",
       "total_pymnt                       float64\n",
       "total_pymnt_inv                   float64\n",
       "total_rec_prncp                   float64\n",
       "total_rec_int                     float64\n",
       "total_rec_late_fee                float64\n",
       "recoveries                        float64\n",
       "collection_recovery_fee           float64\n",
       "last_pymnt_d                       object\n",
       "last_pymnt_amnt                   float64\n",
       "next_pymnt_d                       object\n",
       "last_credit_pull_d                 object\n",
       "collections_12_mths_ex_med        float64\n",
       "mths_since_last_major_derog       float64\n",
       "policy_code                       float64\n",
       "application_type                   object\n",
       "annual_inc_joint                  float64\n",
       "dti_joint                         float64\n",
       "verification_status_joint          object\n",
       "acc_now_delinq                    float64\n",
       "tot_coll_amt                      float64\n",
       "tot_cur_bal                       float64\n",
       "open_acc_6m                       float64\n",
       "open_il_6m                        float64\n",
       "open_il_12m                       float64\n",
       "open_il_24m                       float64\n",
       "mths_since_rcnt_il                float64\n",
       "total_bal_il                      float64\n",
       "il_util                           float64\n",
       "open_rv_12m                       float64\n",
       "open_rv_24m                       float64\n",
       "max_bal_bc                        float64\n",
       "all_util                          float64\n",
       "total_rev_hi_lim                  float64\n",
       "inq_fi                            float64\n",
       "total_cu_tl                       float64\n",
       "inq_last_12m                      float64\n",
       "acc_open_past_24mths              float64\n",
       "avg_cur_bal                       float64\n",
       "bc_open_to_buy                    float64\n",
       "bc_util                           float64\n",
       "chargeoff_within_12_mths          float64\n",
       "delinq_amnt                       float64\n",
       "mo_sin_old_il_acct                float64\n",
       "mo_sin_old_rev_tl_op              float64\n",
       "mo_sin_rcnt_rev_tl_op             float64\n",
       "mo_sin_rcnt_tl                    float64\n",
       "mort_acc                          float64\n",
       "mths_since_recent_bc              float64\n",
       "mths_since_recent_bc_dlq          float64\n",
       "mths_since_recent_inq             float64\n",
       "mths_since_recent_revol_delinq    float64\n",
       "num_accts_ever_120_pd             float64\n",
       "num_actv_bc_tl                    float64\n",
       "num_actv_rev_tl                   float64\n",
       "num_bc_sats                       float64\n",
       "num_bc_tl                         float64\n",
       "num_il_tl                         float64\n",
       "num_op_rev_tl                     float64\n",
       "num_rev_accts                     float64\n",
       "num_rev_tl_bal_gt_0               float64\n",
       "num_sats                          float64\n",
       "num_tl_120dpd_2m                  float64\n",
       "num_tl_30dpd                      float64\n",
       "num_tl_90g_dpd_24m                float64\n",
       "num_tl_op_past_12m                float64\n",
       "pct_tl_nvr_dlq                    float64\n",
       "percent_bc_gt_75                  float64\n",
       "pub_rec_bankruptcies              float64\n",
       "tax_liens                         float64\n",
       "tot_hi_cred_lim                   float64\n",
       "total_bal_ex_mort                 float64\n",
       "total_bc_limit                    float64\n",
       "total_il_high_credit_limit        float64\n",
       "dtype: object"
      ]
     },
     "execution_count": 4,
     "metadata": {},
     "output_type": "execute_result"
    }
   ],
   "source": [
    "pd.set_option('display.max_rows', 500)\n",
    "y2015.dtypes"
   ]
  },
  {
   "cell_type": "code",
   "execution_count": 5,
   "metadata": {
    "collapsed": false
   },
   "outputs": [],
   "source": [
    "import datetime"
   ]
  },
  {
   "cell_type": "code",
   "execution_count": 6,
   "metadata": {
    "collapsed": false
   },
   "outputs": [
    {
     "data": {
      "text/plain": [
       "datetime.datetime(2018, 8, 5, 21, 59, 51, 865861)"
      ]
     },
     "execution_count": 6,
     "metadata": {},
     "output_type": "execute_result"
    }
   ],
   "source": [
    "datetime.datetime.now()"
   ]
  },
  {
   "cell_type": "code",
   "execution_count": 7,
   "metadata": {
    "collapsed": true
   },
   "outputs": [],
   "source": [
    "y2015['last_pymnt_d'] = pd.to_datetime(y2015['last_pymnt_d'])"
   ]
  },
  {
   "cell_type": "code",
   "execution_count": 8,
   "metadata": {
    "collapsed": false
   },
   "outputs": [],
   "source": [
    "y2015['time_elapsed'] = datetime.datetime.now() - y2015['last_pymnt_d']"
   ]
  },
  {
   "cell_type": "code",
   "execution_count": 9,
   "metadata": {
    "collapsed": false
   },
   "outputs": [],
   "source": [
    "y2015['time_elapsed'] = y2015['time_elapsed'].apply(lambda x: x.days)"
   ]
  },
  {
   "cell_type": "code",
   "execution_count": 10,
   "metadata": {
    "collapsed": false
   },
   "outputs": [],
   "source": [
    "y2015['last_credit_pull_d'] = pd.to_datetime(y2015['last_credit_pull_d'])"
   ]
  },
  {
   "cell_type": "code",
   "execution_count": 11,
   "metadata": {
    "collapsed": true
   },
   "outputs": [],
   "source": [
    "y2015['last_credit_pull_elapsed'] = datetime.datetime.now() - y2015['last_credit_pull_d']"
   ]
  },
  {
   "cell_type": "code",
   "execution_count": 12,
   "metadata": {
    "collapsed": true
   },
   "outputs": [],
   "source": [
    "y2015['last_credit_pull_elapsed'] = y2015['last_credit_pull_elapsed'].apply(lambda x: x.days)"
   ]
  },
  {
   "cell_type": "code",
   "execution_count": 13,
   "metadata": {
    "collapsed": true
   },
   "outputs": [],
   "source": [
    "y2015['next_pymnt_d'] = pd.to_datetime(y2015['next_pymnt_d'])"
   ]
  },
  {
   "cell_type": "code",
   "execution_count": 14,
   "metadata": {
    "collapsed": true
   },
   "outputs": [],
   "source": [
    "y2015['next_pymnt_elapsed'] = datetime.datetime.now() - y2015['next_pymnt_d']"
   ]
  },
  {
   "cell_type": "code",
   "execution_count": 15,
   "metadata": {
    "collapsed": true
   },
   "outputs": [],
   "source": [
    "y2015['next_pymnt_elapsed'] = y2015['next_pymnt_elapsed'].apply(lambda x: x.days)"
   ]
  },
  {
   "cell_type": "code",
   "execution_count": 16,
   "metadata": {
    "collapsed": true
   },
   "outputs": [],
   "source": [
    "y2015.drop(['last_pymnt_d', 'last_credit_pull_d', 'next_pymnt_d'], axis=1, inplace=True)"
   ]
  },
  {
   "cell_type": "code",
   "execution_count": 17,
   "metadata": {
    "collapsed": true
   },
   "outputs": [],
   "source": [
    "y2015['time_elapsed'] = pd.to_numeric(y2015['time_elapsed'])\n",
    "y2015['last_credit_pull_elapsed']  = pd.to_numeric(y2015['last_credit_pull_elapsed'] )\n",
    "y2015['next_pymnt_elapsed'] = pd.to_numeric(y2015['next_pymnt_elapsed'])"
   ]
  },
  {
   "cell_type": "code",
   "execution_count": 18,
   "metadata": {
    "collapsed": false
   },
   "outputs": [
    {
     "data": {
      "text/plain": [
       "float64    88\n",
       "object     23\n",
       "dtype: int64"
      ]
     },
     "execution_count": 18,
     "metadata": {},
     "output_type": "execute_result"
    }
   ],
   "source": [
    "y2015.dtypes.value_counts()"
   ]
  },
  {
   "cell_type": "code",
   "execution_count": 19,
   "metadata": {
    "collapsed": false
   },
   "outputs": [
    {
     "name": "stdout",
     "output_type": "stream",
     "text": [
      "id\n",
      "421097\n",
      "term\n",
      "2\n",
      "int_rate\n",
      "110\n",
      "grade\n",
      "7\n",
      "sub_grade\n",
      "35\n",
      "emp_title\n",
      "120812\n",
      "emp_length\n",
      "11\n",
      "home_ownership\n",
      "4\n",
      "verification_status\n",
      "3\n",
      "issue_d\n",
      "12\n",
      "loan_status\n",
      "7\n",
      "pymnt_plan\n",
      "1\n",
      "url\n",
      "421095\n",
      "desc\n",
      "34\n",
      "purpose\n",
      "14\n",
      "title\n",
      "27\n",
      "zip_code\n",
      "914\n",
      "addr_state\n",
      "49\n",
      "earliest_cr_line\n",
      "668\n",
      "revol_util\n",
      "1211\n",
      "initial_list_status\n",
      "2\n",
      "application_type\n",
      "2\n",
      "verification_status_joint\n",
      "3\n"
     ]
    }
   ],
   "source": [
    "categorical = y2015.select_dtypes(include=['object']).columns\n",
    "for i in categorical:\n",
    "    column = y2015[i]\n",
    "    print(i)\n",
    "    print(column.nunique())"
   ]
  },
  {
   "cell_type": "code",
   "execution_count": 20,
   "metadata": {
    "collapsed": false
   },
   "outputs": [],
   "source": [
    "y2015.drop(['id', 'url', 'emp_title', 'zip_code', 'earliest_cr_line', 'revol_util', 'sub_grade', 'addr_state', 'desc' ],axis=1, inplace=True)"
   ]
  },
  {
   "cell_type": "code",
   "execution_count": 21,
   "metadata": {
    "collapsed": false
   },
   "outputs": [
    {
     "data": {
      "text/html": [
       "<div>\n",
       "<style scoped>\n",
       "    .dataframe tbody tr th:only-of-type {\n",
       "        vertical-align: middle;\n",
       "    }\n",
       "\n",
       "    .dataframe tbody tr th {\n",
       "        vertical-align: top;\n",
       "    }\n",
       "\n",
       "    .dataframe thead th {\n",
       "        text-align: right;\n",
       "    }\n",
       "</style>\n",
       "<table border=\"1\" class=\"dataframe\">\n",
       "  <thead>\n",
       "    <tr style=\"text-align: right;\">\n",
       "      <th></th>\n",
       "      <th>member_id</th>\n",
       "      <th>loan_amnt</th>\n",
       "      <th>funded_amnt</th>\n",
       "      <th>funded_amnt_inv</th>\n",
       "      <th>term</th>\n",
       "      <th>int_rate</th>\n",
       "      <th>installment</th>\n",
       "      <th>grade</th>\n",
       "      <th>emp_length</th>\n",
       "      <th>home_ownership</th>\n",
       "      <th>...</th>\n",
       "      <th>percent_bc_gt_75</th>\n",
       "      <th>pub_rec_bankruptcies</th>\n",
       "      <th>tax_liens</th>\n",
       "      <th>tot_hi_cred_lim</th>\n",
       "      <th>total_bal_ex_mort</th>\n",
       "      <th>total_bc_limit</th>\n",
       "      <th>total_il_high_credit_limit</th>\n",
       "      <th>time_elapsed</th>\n",
       "      <th>last_credit_pull_elapsed</th>\n",
       "      <th>next_pymnt_elapsed</th>\n",
       "    </tr>\n",
       "  </thead>\n",
       "  <tbody>\n",
       "    <tr>\n",
       "      <th>421092</th>\n",
       "      <td>38982739.0</td>\n",
       "      <td>13000.0</td>\n",
       "      <td>13000.0</td>\n",
       "      <td>13000.0</td>\n",
       "      <td>60 months</td>\n",
       "      <td>15.99%</td>\n",
       "      <td>316.07</td>\n",
       "      <td>D</td>\n",
       "      <td>5 years</td>\n",
       "      <td>RENT</td>\n",
       "      <td>...</td>\n",
       "      <td>50.0</td>\n",
       "      <td>1.0</td>\n",
       "      <td>0.0</td>\n",
       "      <td>51239.0</td>\n",
       "      <td>34178.0</td>\n",
       "      <td>10600.0</td>\n",
       "      <td>33239.0</td>\n",
       "      <td>826.0</td>\n",
       "      <td>612.0</td>\n",
       "      <td>NaN</td>\n",
       "    </tr>\n",
       "    <tr>\n",
       "      <th>421093</th>\n",
       "      <td>39222577.0</td>\n",
       "      <td>12000.0</td>\n",
       "      <td>12000.0</td>\n",
       "      <td>12000.0</td>\n",
       "      <td>60 months</td>\n",
       "      <td>19.99%</td>\n",
       "      <td>317.86</td>\n",
       "      <td>E</td>\n",
       "      <td>1 year</td>\n",
       "      <td>RENT</td>\n",
       "      <td>...</td>\n",
       "      <td>66.7</td>\n",
       "      <td>0.0</td>\n",
       "      <td>0.0</td>\n",
       "      <td>96919.0</td>\n",
       "      <td>58418.0</td>\n",
       "      <td>9700.0</td>\n",
       "      <td>69919.0</td>\n",
       "      <td>947.0</td>\n",
       "      <td>673.0</td>\n",
       "      <td>NaN</td>\n",
       "    </tr>\n",
       "    <tr>\n",
       "      <th>421094</th>\n",
       "      <td>38982659.0</td>\n",
       "      <td>20000.0</td>\n",
       "      <td>20000.0</td>\n",
       "      <td>20000.0</td>\n",
       "      <td>36 months</td>\n",
       "      <td>11.99%</td>\n",
       "      <td>664.20</td>\n",
       "      <td>B</td>\n",
       "      <td>10+ years</td>\n",
       "      <td>RENT</td>\n",
       "      <td>...</td>\n",
       "      <td>50.0</td>\n",
       "      <td>0.0</td>\n",
       "      <td>1.0</td>\n",
       "      <td>43740.0</td>\n",
       "      <td>33307.0</td>\n",
       "      <td>41700.0</td>\n",
       "      <td>0.0</td>\n",
       "      <td>581.0</td>\n",
       "      <td>581.0</td>\n",
       "      <td>550.0</td>\n",
       "    </tr>\n",
       "    <tr>\n",
       "      <th>421095</th>\n",
       "      <td>NaN</td>\n",
       "      <td>NaN</td>\n",
       "      <td>NaN</td>\n",
       "      <td>NaN</td>\n",
       "      <td>NaN</td>\n",
       "      <td>NaN</td>\n",
       "      <td>NaN</td>\n",
       "      <td>NaN</td>\n",
       "      <td>NaN</td>\n",
       "      <td>NaN</td>\n",
       "      <td>...</td>\n",
       "      <td>NaN</td>\n",
       "      <td>NaN</td>\n",
       "      <td>NaN</td>\n",
       "      <td>NaN</td>\n",
       "      <td>NaN</td>\n",
       "      <td>NaN</td>\n",
       "      <td>NaN</td>\n",
       "      <td>NaN</td>\n",
       "      <td>NaN</td>\n",
       "      <td>NaN</td>\n",
       "    </tr>\n",
       "    <tr>\n",
       "      <th>421096</th>\n",
       "      <td>NaN</td>\n",
       "      <td>NaN</td>\n",
       "      <td>NaN</td>\n",
       "      <td>NaN</td>\n",
       "      <td>NaN</td>\n",
       "      <td>NaN</td>\n",
       "      <td>NaN</td>\n",
       "      <td>NaN</td>\n",
       "      <td>NaN</td>\n",
       "      <td>NaN</td>\n",
       "      <td>...</td>\n",
       "      <td>NaN</td>\n",
       "      <td>NaN</td>\n",
       "      <td>NaN</td>\n",
       "      <td>NaN</td>\n",
       "      <td>NaN</td>\n",
       "      <td>NaN</td>\n",
       "      <td>NaN</td>\n",
       "      <td>NaN</td>\n",
       "      <td>NaN</td>\n",
       "      <td>NaN</td>\n",
       "    </tr>\n",
       "  </tbody>\n",
       "</table>\n",
       "<p>5 rows × 102 columns</p>\n",
       "</div>"
      ],
      "text/plain": [
       "         member_id  loan_amnt  funded_amnt  funded_amnt_inv        term  \\\n",
       "421092  38982739.0    13000.0      13000.0          13000.0   60 months   \n",
       "421093  39222577.0    12000.0      12000.0          12000.0   60 months   \n",
       "421094  38982659.0    20000.0      20000.0          20000.0   36 months   \n",
       "421095         NaN        NaN          NaN              NaN         NaN   \n",
       "421096         NaN        NaN          NaN              NaN         NaN   \n",
       "\n",
       "       int_rate  installment grade emp_length home_ownership  \\\n",
       "421092   15.99%       316.07     D    5 years           RENT   \n",
       "421093   19.99%       317.86     E     1 year           RENT   \n",
       "421094   11.99%       664.20     B  10+ years           RENT   \n",
       "421095      NaN          NaN   NaN        NaN            NaN   \n",
       "421096      NaN          NaN   NaN        NaN            NaN   \n",
       "\n",
       "               ...          percent_bc_gt_75 pub_rec_bankruptcies tax_liens  \\\n",
       "421092         ...                      50.0                  1.0       0.0   \n",
       "421093         ...                      66.7                  0.0       0.0   \n",
       "421094         ...                      50.0                  0.0       1.0   \n",
       "421095         ...                       NaN                  NaN       NaN   \n",
       "421096         ...                       NaN                  NaN       NaN   \n",
       "\n",
       "       tot_hi_cred_lim total_bal_ex_mort total_bc_limit  \\\n",
       "421092         51239.0           34178.0        10600.0   \n",
       "421093         96919.0           58418.0         9700.0   \n",
       "421094         43740.0           33307.0        41700.0   \n",
       "421095             NaN               NaN            NaN   \n",
       "421096             NaN               NaN            NaN   \n",
       "\n",
       "       total_il_high_credit_limit  time_elapsed  last_credit_pull_elapsed  \\\n",
       "421092                    33239.0         826.0                     612.0   \n",
       "421093                    69919.0         947.0                     673.0   \n",
       "421094                        0.0         581.0                     581.0   \n",
       "421095                        NaN           NaN                       NaN   \n",
       "421096                        NaN           NaN                       NaN   \n",
       "\n",
       "        next_pymnt_elapsed  \n",
       "421092                 NaN  \n",
       "421093                 NaN  \n",
       "421094               550.0  \n",
       "421095                 NaN  \n",
       "421096                 NaN  \n",
       "\n",
       "[5 rows x 102 columns]"
      ]
     },
     "execution_count": 21,
     "metadata": {},
     "output_type": "execute_result"
    }
   ],
   "source": [
    "y2015.tail()"
   ]
  },
  {
   "cell_type": "code",
   "execution_count": 22,
   "metadata": {
    "collapsed": true
   },
   "outputs": [],
   "source": [
    "y2015 = y2015[:-2]"
   ]
  },
  {
   "cell_type": "code",
   "execution_count": null,
   "metadata": {
    "collapsed": true
   },
   "outputs": [],
   "source": []
  },
  {
   "cell_type": "code",
   "execution_count": 23,
   "metadata": {
    "collapsed": false
   },
   "outputs": [],
   "source": [
    "from sklearn import ensemble\n",
    "from sklearn.model_selection import cross_val_score\n",
    "from sklearn.model_selection import train_test_split\n",
    "rfc = ensemble.RandomForestClassifier()\n",
    "X = y2015.drop('loan_status', 1)\n",
    "X = pd.get_dummies(X)\n",
    "X = X.dropna(axis=1)\n",
    "y = y2015['loan_status']\n",
    "X_train, X_test, y_train, y_test = train_test_split(X, y, test_size=0.3, random_state=42)\n"
   ]
  },
  {
   "cell_type": "code",
   "execution_count": 24,
   "metadata": {
    "collapsed": false
   },
   "outputs": [
    {
     "data": {
      "text/html": [
       "<div>\n",
       "<style scoped>\n",
       "    .dataframe tbody tr th:only-of-type {\n",
       "        vertical-align: middle;\n",
       "    }\n",
       "\n",
       "    .dataframe tbody tr th {\n",
       "        vertical-align: top;\n",
       "    }\n",
       "\n",
       "    .dataframe thead th {\n",
       "        text-align: right;\n",
       "    }\n",
       "</style>\n",
       "<table border=\"1\" class=\"dataframe\">\n",
       "  <thead>\n",
       "    <tr style=\"text-align: right;\">\n",
       "      <th></th>\n",
       "      <th>member_id</th>\n",
       "      <th>loan_amnt</th>\n",
       "      <th>funded_amnt</th>\n",
       "      <th>funded_amnt_inv</th>\n",
       "      <th>installment</th>\n",
       "      <th>annual_inc</th>\n",
       "      <th>dti</th>\n",
       "      <th>delinq_2yrs</th>\n",
       "      <th>inq_last_6mths</th>\n",
       "      <th>open_acc</th>\n",
       "      <th>...</th>\n",
       "      <th>title_new day</th>\n",
       "      <th>title_new kitchen for momma!</th>\n",
       "      <th>title_odymeds</th>\n",
       "      <th>initial_list_status_f</th>\n",
       "      <th>initial_list_status_w</th>\n",
       "      <th>application_type_INDIVIDUAL</th>\n",
       "      <th>application_type_JOINT</th>\n",
       "      <th>verification_status_joint_Not Verified</th>\n",
       "      <th>verification_status_joint_Source Verified</th>\n",
       "      <th>verification_status_joint_Verified</th>\n",
       "    </tr>\n",
       "  </thead>\n",
       "  <tbody>\n",
       "    <tr>\n",
       "      <th>334333</th>\n",
       "      <td>47103338.0</td>\n",
       "      <td>3650.0</td>\n",
       "      <td>3650.0</td>\n",
       "      <td>3650.0</td>\n",
       "      <td>112.57</td>\n",
       "      <td>40000.0</td>\n",
       "      <td>11.82</td>\n",
       "      <td>1.0</td>\n",
       "      <td>0.0</td>\n",
       "      <td>7.0</td>\n",
       "      <td>...</td>\n",
       "      <td>0</td>\n",
       "      <td>0</td>\n",
       "      <td>0</td>\n",
       "      <td>0</td>\n",
       "      <td>1</td>\n",
       "      <td>1</td>\n",
       "      <td>0</td>\n",
       "      <td>0</td>\n",
       "      <td>0</td>\n",
       "      <td>0</td>\n",
       "    </tr>\n",
       "    <tr>\n",
       "      <th>193993</th>\n",
       "      <td>60303845.0</td>\n",
       "      <td>15000.0</td>\n",
       "      <td>15000.0</td>\n",
       "      <td>15000.0</td>\n",
       "      <td>457.97</td>\n",
       "      <td>95000.0</td>\n",
       "      <td>7.60</td>\n",
       "      <td>0.0</td>\n",
       "      <td>0.0</td>\n",
       "      <td>9.0</td>\n",
       "      <td>...</td>\n",
       "      <td>0</td>\n",
       "      <td>0</td>\n",
       "      <td>0</td>\n",
       "      <td>0</td>\n",
       "      <td>1</td>\n",
       "      <td>1</td>\n",
       "      <td>0</td>\n",
       "      <td>0</td>\n",
       "      <td>0</td>\n",
       "      <td>0</td>\n",
       "    </tr>\n",
       "    <tr>\n",
       "      <th>277101</th>\n",
       "      <td>52922398.0</td>\n",
       "      <td>16000.0</td>\n",
       "      <td>16000.0</td>\n",
       "      <td>16000.0</td>\n",
       "      <td>372.21</td>\n",
       "      <td>70000.0</td>\n",
       "      <td>20.88</td>\n",
       "      <td>0.0</td>\n",
       "      <td>2.0</td>\n",
       "      <td>12.0</td>\n",
       "      <td>...</td>\n",
       "      <td>0</td>\n",
       "      <td>0</td>\n",
       "      <td>0</td>\n",
       "      <td>0</td>\n",
       "      <td>1</td>\n",
       "      <td>1</td>\n",
       "      <td>0</td>\n",
       "      <td>0</td>\n",
       "      <td>0</td>\n",
       "      <td>0</td>\n",
       "    </tr>\n",
       "    <tr>\n",
       "      <th>241159</th>\n",
       "      <td>56650955.0</td>\n",
       "      <td>35000.0</td>\n",
       "      <td>35000.0</td>\n",
       "      <td>35000.0</td>\n",
       "      <td>802.29</td>\n",
       "      <td>92268.0</td>\n",
       "      <td>27.21</td>\n",
       "      <td>0.0</td>\n",
       "      <td>0.0</td>\n",
       "      <td>6.0</td>\n",
       "      <td>...</td>\n",
       "      <td>0</td>\n",
       "      <td>0</td>\n",
       "      <td>0</td>\n",
       "      <td>0</td>\n",
       "      <td>1</td>\n",
       "      <td>1</td>\n",
       "      <td>0</td>\n",
       "      <td>0</td>\n",
       "      <td>0</td>\n",
       "      <td>0</td>\n",
       "    </tr>\n",
       "    <tr>\n",
       "      <th>372714</th>\n",
       "      <td>44026021.0</td>\n",
       "      <td>18000.0</td>\n",
       "      <td>18000.0</td>\n",
       "      <td>18000.0</td>\n",
       "      <td>382.36</td>\n",
       "      <td>300000.0</td>\n",
       "      <td>3.71</td>\n",
       "      <td>0.0</td>\n",
       "      <td>0.0</td>\n",
       "      <td>9.0</td>\n",
       "      <td>...</td>\n",
       "      <td>0</td>\n",
       "      <td>0</td>\n",
       "      <td>0</td>\n",
       "      <td>0</td>\n",
       "      <td>1</td>\n",
       "      <td>1</td>\n",
       "      <td>0</td>\n",
       "      <td>0</td>\n",
       "      <td>0</td>\n",
       "      <td>0</td>\n",
       "    </tr>\n",
       "  </tbody>\n",
       "</table>\n",
       "<p>5 rows × 254 columns</p>\n",
       "</div>"
      ],
      "text/plain": [
       "         member_id  loan_amnt  funded_amnt  funded_amnt_inv  installment  \\\n",
       "334333  47103338.0     3650.0       3650.0           3650.0       112.57   \n",
       "193993  60303845.0    15000.0      15000.0          15000.0       457.97   \n",
       "277101  52922398.0    16000.0      16000.0          16000.0       372.21   \n",
       "241159  56650955.0    35000.0      35000.0          35000.0       802.29   \n",
       "372714  44026021.0    18000.0      18000.0          18000.0       382.36   \n",
       "\n",
       "        annual_inc    dti  delinq_2yrs  inq_last_6mths  open_acc  \\\n",
       "334333     40000.0  11.82          1.0             0.0       7.0   \n",
       "193993     95000.0   7.60          0.0             0.0       9.0   \n",
       "277101     70000.0  20.88          0.0             2.0      12.0   \n",
       "241159     92268.0  27.21          0.0             0.0       6.0   \n",
       "372714    300000.0   3.71          0.0             0.0       9.0   \n",
       "\n",
       "                       ...                  title_new day  \\\n",
       "334333                 ...                              0   \n",
       "193993                 ...                              0   \n",
       "277101                 ...                              0   \n",
       "241159                 ...                              0   \n",
       "372714                 ...                              0   \n",
       "\n",
       "        title_new kitchen for momma!  title_odymeds  initial_list_status_f  \\\n",
       "334333                             0              0                      0   \n",
       "193993                             0              0                      0   \n",
       "277101                             0              0                      0   \n",
       "241159                             0              0                      0   \n",
       "372714                             0              0                      0   \n",
       "\n",
       "        initial_list_status_w  application_type_INDIVIDUAL  \\\n",
       "334333                      1                            1   \n",
       "193993                      1                            1   \n",
       "277101                      1                            1   \n",
       "241159                      1                            1   \n",
       "372714                      1                            1   \n",
       "\n",
       "        application_type_JOINT  verification_status_joint_Not Verified  \\\n",
       "334333                       0                                       0   \n",
       "193993                       0                                       0   \n",
       "277101                       0                                       0   \n",
       "241159                       0                                       0   \n",
       "372714                       0                                       0   \n",
       "\n",
       "        verification_status_joint_Source Verified  \\\n",
       "334333                                          0   \n",
       "193993                                          0   \n",
       "277101                                          0   \n",
       "241159                                          0   \n",
       "372714                                          0   \n",
       "\n",
       "        verification_status_joint_Verified  \n",
       "334333                                   0  \n",
       "193993                                   0  \n",
       "277101                                   0  \n",
       "241159                                   0  \n",
       "372714                                   0  \n",
       "\n",
       "[5 rows x 254 columns]"
      ]
     },
     "execution_count": 24,
     "metadata": {},
     "output_type": "execute_result"
    }
   ],
   "source": [
    "X_train.head()"
   ]
  },
  {
   "cell_type": "code",
   "execution_count": 25,
   "metadata": {
    "collapsed": false
   },
   "outputs": [
    {
     "data": {
      "text/plain": [
       "RandomForestClassifier(bootstrap=True, class_weight=None, criterion='gini',\n",
       "            max_depth=None, max_features='auto', max_leaf_nodes=None,\n",
       "            min_impurity_decrease=0.0, min_impurity_split=None,\n",
       "            min_samples_leaf=1, min_samples_split=2,\n",
       "            min_weight_fraction_leaf=0.0, n_estimators=10, n_jobs=1,\n",
       "            oob_score=False, random_state=None, verbose=0,\n",
       "            warm_start=False)"
      ]
     },
     "execution_count": 25,
     "metadata": {},
     "output_type": "execute_result"
    }
   ],
   "source": [
    "rfc.fit(X_train, y_train)"
   ]
  },
  {
   "cell_type": "code",
   "execution_count": 26,
   "metadata": {
    "collapsed": false
   },
   "outputs": [
    {
     "name": "stdout",
     "output_type": "stream",
     "text": [
      "0.993282807379\n",
      "0.960943251352\n"
     ]
    }
   ],
   "source": [
    "print(rfc.score(X_train, y_train))\n",
    "print(rfc.score(X_test, y_test))"
   ]
  },
  {
   "cell_type": "code",
   "execution_count": 27,
   "metadata": {
    "collapsed": false
   },
   "outputs": [
    {
     "data": {
      "image/png": "[encoded data removed]",
      "text/plain": [
       "<matplotlib.figure.Figure at 0x152386cf8>"
      ]
     },
     "metadata": {},
     "output_type": "display_data"
    }
   ],
   "source": [
    "features = X.columns.values\n",
    "importances = rfc.feature_importances_\n",
    "indices = np.argsort(importances)\n",
    "plt.title('Feature Importances')\n",
    "plt.barh(range(len(indices)), importances[indices], color='b', align='center')\n",
    "plt.yticks(range(len(indices)), [features[i] for i in indices])\n",
    "plt.xlabel('Relative Importance')\n",
    "plt.show()"
   ]
  },
  {
   "cell_type": "code",
   "execution_count": 28,
   "metadata": {
    "collapsed": false
   },
   "outputs": [],
   "source": [
    "importances_df = pd.DataFrame(importances)"
   ]
  },
  {
   "cell_type": "code",
   "execution_count": 29,
   "metadata": {
    "collapsed": true
   },
   "outputs": [],
   "source": [
    "importances_df['name'] = X.columns.values"
   ]
  },
  {
   "cell_type": "code",
   "execution_count": 30,
   "metadata": {
    "collapsed": false
   },
   "outputs": [],
   "source": [
    "importances_df.columns = ['importance', 'name']"
   ]
  },
  {
   "cell_type": "code",
   "execution_count": 31,
   "metadata": {
    "collapsed": false
   },
   "outputs": [],
   "source": [
    "importances_keep = importances_df[importances_df['importance'] > 0.01]"
   ]
  },
  {
   "cell_type": "code",
   "execution_count": 32,
   "metadata": {
    "collapsed": false
   },
   "outputs": [
    {
     "data": {
      "text/html": [
       "<div>\n",
       "<style scoped>\n",
       "    .dataframe tbody tr th:only-of-type {\n",
       "        vertical-align: middle;\n",
       "    }\n",
       "\n",
       "    .dataframe tbody tr th {\n",
       "        vertical-align: top;\n",
       "    }\n",
       "\n",
       "    .dataframe thead th {\n",
       "        text-align: right;\n",
       "    }\n",
       "</style>\n",
       "<table border=\"1\" class=\"dataframe\">\n",
       "  <thead>\n",
       "    <tr style=\"text-align: right;\">\n",
       "      <th></th>\n",
       "      <th>importance</th>\n",
       "      <th>name</th>\n",
       "    </tr>\n",
       "  </thead>\n",
       "  <tbody>\n",
       "    <tr>\n",
       "      <th>3</th>\n",
       "      <td>0.014929</td>\n",
       "      <td>funded_amnt_inv</td>\n",
       "    </tr>\n",
       "    <tr>\n",
       "      <th>18</th>\n",
       "      <td>0.015252</td>\n",
       "      <td>total_rec_int</td>\n",
       "    </tr>\n",
       "    <tr>\n",
       "      <th>1</th>\n",
       "      <td>0.016273</td>\n",
       "      <td>loan_amnt</td>\n",
       "    </tr>\n",
       "    <tr>\n",
       "      <th>21</th>\n",
       "      <td>0.019492</td>\n",
       "      <td>collection_recovery_fee</td>\n",
       "    </tr>\n",
       "    <tr>\n",
       "      <th>4</th>\n",
       "      <td>0.019939</td>\n",
       "      <td>installment</td>\n",
       "    </tr>\n",
       "    <tr>\n",
       "      <th>20</th>\n",
       "      <td>0.020302</td>\n",
       "      <td>recoveries</td>\n",
       "    </tr>\n",
       "    <tr>\n",
       "      <th>16</th>\n",
       "      <td>0.037130</td>\n",
       "      <td>total_pymnt_inv</td>\n",
       "    </tr>\n",
       "    <tr>\n",
       "      <th>15</th>\n",
       "      <td>0.041828</td>\n",
       "      <td>total_pymnt</td>\n",
       "    </tr>\n",
       "    <tr>\n",
       "      <th>17</th>\n",
       "      <td>0.108530</td>\n",
       "      <td>total_rec_prncp</td>\n",
       "    </tr>\n",
       "    <tr>\n",
       "      <th>22</th>\n",
       "      <td>0.139269</td>\n",
       "      <td>last_pymnt_amnt</td>\n",
       "    </tr>\n",
       "    <tr>\n",
       "      <th>13</th>\n",
       "      <td>0.193808</td>\n",
       "      <td>out_prncp</td>\n",
       "    </tr>\n",
       "    <tr>\n",
       "      <th>14</th>\n",
       "      <td>0.212857</td>\n",
       "      <td>out_prncp_inv</td>\n",
       "    </tr>\n",
       "  </tbody>\n",
       "</table>\n",
       "</div>"
      ],
      "text/plain": [
       "    importance                     name\n",
       "3     0.014929          funded_amnt_inv\n",
       "18    0.015252            total_rec_int\n",
       "1     0.016273                loan_amnt\n",
       "21    0.019492  collection_recovery_fee\n",
       "4     0.019939              installment\n",
       "20    0.020302               recoveries\n",
       "16    0.037130          total_pymnt_inv\n",
       "15    0.041828              total_pymnt\n",
       "17    0.108530          total_rec_prncp\n",
       "22    0.139269          last_pymnt_amnt\n",
       "13    0.193808                out_prncp\n",
       "14    0.212857            out_prncp_inv"
      ]
     },
     "execution_count": 32,
     "metadata": {},
     "output_type": "execute_result"
    }
   ],
   "source": [
    "importances_keep.sort_values('importance')"
   ]
  },
  {
   "cell_type": "code",
   "execution_count": 33,
   "metadata": {
    "collapsed": false
   },
   "outputs": [],
   "source": [
    "names = importances_keep['name'].values"
   ]
  },
  {
   "cell_type": "code",
   "execution_count": 34,
   "metadata": {
    "collapsed": true
   },
   "outputs": [],
   "source": [
    "rfc = ensemble.RandomForestClassifier()\n",
    "X = X[names]\n",
    "X_train, X_test, y_train, y_test = train_test_split(X, y, test_size=0.3, random_state=42)\n"
   ]
  },
  {
   "cell_type": "code",
   "execution_count": 35,
   "metadata": {
    "collapsed": false
   },
   "outputs": [
    {
     "data": {
      "text/plain": [
       "RandomForestClassifier(bootstrap=True, class_weight=None, criterion='gini',\n",
       "            max_depth=None, max_features='auto', max_leaf_nodes=None,\n",
       "            min_impurity_decrease=0.0, min_impurity_split=None,\n",
       "            min_samples_leaf=1, min_samples_split=2,\n",
       "            min_weight_fraction_leaf=0.0, n_estimators=10, n_jobs=1,\n",
       "            oob_score=False, random_state=None, verbose=0,\n",
       "            warm_start=False)"
      ]
     },
     "execution_count": 35,
     "metadata": {},
     "output_type": "execute_result"
    }
   ],
   "source": [
    "rfc.fit(X_train, y_train)"
   ]
  },
  {
   "cell_type": "code",
   "execution_count": 36,
   "metadata": {
    "collapsed": false
   },
   "outputs": [
    {
     "name": "stdout",
     "output_type": "stream",
     "text": [
      "0.988638445411\n",
      "0.961093652289\n"
     ]
    }
   ],
   "source": [
    "print(rfc.score(X_train, y_train))\n",
    "print(rfc.score(X_test, y_test))"
   ]
  },
  {
   "cell_type": "code",
   "execution_count": 50,
   "metadata": {
    "collapsed": false
   },
   "outputs": [
    {
     "name": "stdout",
     "output_type": "stream",
     "text": [
      "0.988784323837\n",
      "0.961196558193\n",
      "CPU times: user 18.5 s, sys: 563 ms, total: 19 s\n",
      "Wall time: 23.6 s\n"
     ]
    }
   ],
   "source": [
    "%%time\n",
    "time1 = datetime.datetime.now()\n",
    "rfc = ensemble.RandomForestClassifier()\n",
    "rfc.fit(X_train, y_train)\n",
    "print(rfc.score(X_train, y_train))\n",
    "print(rfc.score(X_test, y_test))\n",
    "time2 = datetime.datetime.now()"
   ]
  },
  {
   "cell_type": "code",
   "execution_count": 48,
   "metadata": {
    "collapsed": false
   },
   "outputs": [
    {
     "data": {
      "text/plain": [
       "86388"
      ]
     },
     "execution_count": 48,
     "metadata": {},
     "output_type": "execute_result"
    }
   ],
   "source": [
    "(time1 - time2).seconds"
   ]
  },
  {
   "cell_type": "code",
   "execution_count": 44,
   "metadata": {
    "collapsed": true
   },
   "outputs": [],
   "source": [
    "from sklearn import tree\n",
    "decision_tree = tree.DecisionTreeClassifier()"
   ]
  },
  {
   "cell_type": "code",
   "execution_count": 45,
   "metadata": {
    "collapsed": false
   },
   "outputs": [
    {
     "name": "stdout",
     "output_type": "stream",
     "text": [
      "0.99446340487\n",
      "0.942689327075\n"
     ]
    }
   ],
   "source": [
    "time1 = datetime.datetime.now()\n",
    "decision_tree.fit(X_train, y_train)\n",
    "print(decision_tree.score(X_train, y_train))\n",
    "print(decision_tree.score(X_test, y_test))\n",
    "time2 = datetime.datetime.now()"
   ]
  },
  {
   "cell_type": "code",
   "execution_count": 46,
   "metadata": {
    "collapsed": false
   },
   "outputs": [
    {
     "data": {
      "text/plain": [
       "86393"
      ]
     },
     "execution_count": 46,
     "metadata": {},
     "output_type": "execute_result"
    }
   ],
   "source": [
    "(time1 - time2).seconds"
   ]
  },
  {
   "cell_type": "code",
   "execution_count": null,
   "metadata": {
    "collapsed": true
   },
   "outputs": [],
   "source": []
  }
 ],
 "metadata": {
  "anaconda-cloud": {},
  "kernelspec": {
   "display_name": "Python [conda env:anaconda]",
   "language": "python",
   "name": "conda-env-anaconda-py"
  },
  "language_info": {
   "codemirror_mode": {
    "name": "ipython",
    "version": 3
   },
   "file_extension": ".py",
   "mimetype": "text/x-python",
   "name": "python",
   "nbconvert_exporter": "python",
   "pygments_lexer": "ipython3",
   "version": "3.5.2"
  }
 },
 "nbformat": 4,
 "nbformat_minor": 1
}
