{
 "cells": [
  {
   "cell_type": "code",
   "execution_count": 2,
   "metadata": {
    "collapsed": true
   },
   "outputs": [],
   "source": [
    "%matplotlib inline\n",
    "import pandas as pd\n",
    "import numpy as np\n",
    "import seaborn as sns\n",
    "from matplotlib import pyplot as plt\n",
    "from scipy import stats"
   ]
  },
  {
   "cell_type": "code",
   "execution_count": 3,
   "metadata": {
    "collapsed": false
   },
   "outputs": [],
   "source": [
    "#Read in the data set.\n",
    "clothing = pd.read_csv('/Users/spencerfogelman/Downloads/Womens Clothing E-Commerce Reviews.csv', index_col=0)"
   ]
  },
  {
   "cell_type": "code",
   "execution_count": 4,
   "metadata": {
    "collapsed": false
   },
   "outputs": [
    {
     "data": {
      "text/html": [
       "<div>\n",
       "<table border=\"1\" class=\"dataframe\">\n",
       "  <thead>\n",
       "    <tr style=\"text-align: right;\">\n",
       "      <th></th>\n",
       "      <th>Clothing ID</th>\n",
       "      <th>Age</th>\n",
       "      <th>Title</th>\n",
       "      <th>Review Text</th>\n",
       "      <th>Rating</th>\n",
       "      <th>Recommended IND</th>\n",
       "      <th>Positive Feedback Count</th>\n",
       "      <th>Division Name</th>\n",
       "      <th>Department Name</th>\n",
       "      <th>Class Name</th>\n",
       "    </tr>\n",
       "  </thead>\n",
       "  <tbody>\n",
       "    <tr>\n",
       "      <th>0</th>\n",
       "      <td>767</td>\n",
       "      <td>33</td>\n",
       "      <td>NaN</td>\n",
       "      <td>Absolutely wonderful - silky and sexy and comf...</td>\n",
       "      <td>4</td>\n",
       "      <td>1</td>\n",
       "      <td>0</td>\n",
       "      <td>Initmates</td>\n",
       "      <td>Intimate</td>\n",
       "      <td>Intimates</td>\n",
       "    </tr>\n",
       "    <tr>\n",
       "      <th>1</th>\n",
       "      <td>1080</td>\n",
       "      <td>34</td>\n",
       "      <td>NaN</td>\n",
       "      <td>Love this dress!  it's sooo pretty.  i happene...</td>\n",
       "      <td>5</td>\n",
       "      <td>1</td>\n",
       "      <td>4</td>\n",
       "      <td>General</td>\n",
       "      <td>Dresses</td>\n",
       "      <td>Dresses</td>\n",
       "    </tr>\n",
       "    <tr>\n",
       "      <th>2</th>\n",
       "      <td>1077</td>\n",
       "      <td>60</td>\n",
       "      <td>Some major design flaws</td>\n",
       "      <td>I had such high hopes for this dress and reall...</td>\n",
       "      <td>3</td>\n",
       "      <td>0</td>\n",
       "      <td>0</td>\n",
       "      <td>General</td>\n",
       "      <td>Dresses</td>\n",
       "      <td>Dresses</td>\n",
       "    </tr>\n",
       "    <tr>\n",
       "      <th>3</th>\n",
       "      <td>1049</td>\n",
       "      <td>50</td>\n",
       "      <td>My favorite buy!</td>\n",
       "      <td>I love, love, love this jumpsuit. it's fun, fl...</td>\n",
       "      <td>5</td>\n",
       "      <td>1</td>\n",
       "      <td>0</td>\n",
       "      <td>General Petite</td>\n",
       "      <td>Bottoms</td>\n",
       "      <td>Pants</td>\n",
       "    </tr>\n",
       "    <tr>\n",
       "      <th>4</th>\n",
       "      <td>847</td>\n",
       "      <td>47</td>\n",
       "      <td>Flattering shirt</td>\n",
       "      <td>This shirt is very flattering to all due to th...</td>\n",
       "      <td>5</td>\n",
       "      <td>1</td>\n",
       "      <td>6</td>\n",
       "      <td>General</td>\n",
       "      <td>Tops</td>\n",
       "      <td>Blouses</td>\n",
       "    </tr>\n",
       "  </tbody>\n",
       "</table>\n",
       "</div>"
      ],
      "text/plain": [
       "   Clothing ID  Age                    Title  \\\n",
       "0          767   33                      NaN   \n",
       "1         1080   34                      NaN   \n",
       "2         1077   60  Some major design flaws   \n",
       "3         1049   50         My favorite buy!   \n",
       "4          847   47         Flattering shirt   \n",
       "\n",
       "                                         Review Text  Rating  Recommended IND  \\\n",
       "0  Absolutely wonderful - silky and sexy and comf...       4                1   \n",
       "1  Love this dress!  it's sooo pretty.  i happene...       5                1   \n",
       "2  I had such high hopes for this dress and reall...       3                0   \n",
       "3  I love, love, love this jumpsuit. it's fun, fl...       5                1   \n",
       "4  This shirt is very flattering to all due to th...       5                1   \n",
       "\n",
       "   Positive Feedback Count   Division Name Department Name Class Name  \n",
       "0                        0       Initmates        Intimate  Intimates  \n",
       "1                        4         General         Dresses    Dresses  \n",
       "2                        0         General         Dresses    Dresses  \n",
       "3                        0  General Petite         Bottoms      Pants  \n",
       "4                        6         General            Tops    Blouses  "
      ]
     },
     "execution_count": 4,
     "metadata": {},
     "output_type": "execute_result"
    }
   ],
   "source": [
    "#Explore the data\n",
    "clothing.head()"
   ]
  },
  {
   "cell_type": "code",
   "execution_count": 5,
   "metadata": {
    "collapsed": false
   },
   "outputs": [
    {
     "data": {
      "text/plain": [
       "(23486, 10)"
      ]
     },
     "execution_count": 5,
     "metadata": {},
     "output_type": "execute_result"
    }
   ],
   "source": [
    "#Explore the number of rows and columns\n",
    "clothing.shape"
   ]
  },
  {
   "cell_type": "code",
   "execution_count": 6,
   "metadata": {
    "collapsed": false
   },
   "outputs": [
    {
     "name": "stdout",
     "output_type": "stream",
     "text": [
      "<class 'pandas.core.frame.DataFrame'>\n",
      "Int64Index: 23486 entries, 0 to 23485\n",
      "Data columns (total 10 columns):\n",
      "Clothing ID                23486 non-null int64\n",
      "Age                        23486 non-null int64\n",
      "Title                      19676 non-null object\n",
      "Review Text                22641 non-null object\n",
      "Rating                     23486 non-null int64\n",
      "Recommended IND            23486 non-null int64\n",
      "Positive Feedback Count    23486 non-null int64\n",
      "Division Name              23472 non-null object\n",
      "Department Name            23472 non-null object\n",
      "Class Name                 23472 non-null object\n",
      "dtypes: int64(5), object(5)\n",
      "memory usage: 2.0+ MB\n"
     ]
    }
   ],
   "source": [
    "#Explore the column data types, and see if there are any null values.\n",
    "clothing.info()"
   ]
  },
  {
   "cell_type": "code",
   "execution_count": 40,
   "metadata": {
    "collapsed": false
   },
   "outputs": [
    {
     "data": {
      "text/plain": [
       "Tops        10468\n",
       "Dresses      6319\n",
       "Bottoms      3797\n",
       "Intimate     1734\n",
       "Jackets      1032\n",
       "Trend         119\n",
       "NaN            14\n",
       "Name: Department Name, dtype: int64"
      ]
     },
     "execution_count": 40,
     "metadata": {},
     "output_type": "execute_result"
    }
   ],
   "source": [
    "#Find the frequency of reviews by department.\n",
    "clothing['Department Name'].value_counts(dropna=False)"
   ]
  },
  {
   "cell_type": "markdown",
   "metadata": {},
   "source": [
    "The Trend Department seems to not be very popular based on the low number of overall reviews."
   ]
  },
  {
   "cell_type": "code",
   "execution_count": 41,
   "metadata": {
    "collapsed": false
   },
   "outputs": [
    {
     "data": {
      "text/plain": [
       "Dresses       6319\n",
       "Knits         4843\n",
       "Blouses       3097\n",
       "Sweaters      1428\n",
       "Pants         1388\n",
       "Jeans         1147\n",
       "Fine gauge    1100\n",
       "Skirts         945\n",
       "Jackets        704\n",
       "Lounge         691\n",
       "Swim           350\n",
       "Outerwear      328\n",
       "Shorts         317\n",
       "Sleep          228\n",
       "Legwear        165\n",
       "Intimates      154\n",
       "Layering       146\n",
       "Trend          119\n",
       "NaN             14\n",
       "Name: Class Name, dtype: int64"
      ]
     },
     "execution_count": 41,
     "metadata": {},
     "output_type": "execute_result"
    }
   ],
   "source": [
    "#Find the frequency of reviews by class.\n",
    "clothing['Class Name'].value_counts(dropna=False)"
   ]
  },
  {
   "cell_type": "markdown",
   "metadata": {},
   "source": [
    "Again, the trend class of clothing does not seem very popular. The last two categories have too little reviews to work with, so they should be dropped."
   ]
  },
  {
   "cell_type": "code",
   "execution_count": 9,
   "metadata": {
    "collapsed": false
   },
   "outputs": [],
   "source": [
    "#Remove categories with too few reviews.\n",
    "clothing = clothing[~clothing['Class Name'].isin(['Casual bottoms', 'Chemises'])]\n"
   ]
  },
  {
   "cell_type": "code",
   "execution_count": 42,
   "metadata": {
    "collapsed": false
   },
   "outputs": [
    {
     "data": {
      "image/png": "[encoded data removed]",
      "text/plain": [
       "<matplotlib.figure.Figure at 0x120515d30>"
      ]
     },
     "metadata": {},
     "output_type": "display_data"
    }
   ],
   "source": [
    "#Group the data by class name and look at the distribution of the ratings on a five point scale.\n",
    "sns.boxplot(x='Class Name', y='Rating', data=clothing)\n",
    "plt.xticks(rotation=90)\n",
    "plt.show()"
   ]
  },
  {
   "cell_type": "code",
   "execution_count": 11,
   "metadata": {
    "collapsed": false
   },
   "outputs": [
    {
     "data": {
      "text/plain": [
       "Class Name\n",
       "Blouses       5\n",
       "Dresses       5\n",
       "Fine gauge    5\n",
       "Intimates     5\n",
       "Jackets       5\n",
       "Jeans         5\n",
       "Knits         5\n",
       "Layering      5\n",
       "Legwear       5\n",
       "Lounge        5\n",
       "Outerwear     5\n",
       "Pants         5\n",
       "Shorts        5\n",
       "Skirts        5\n",
       "Sleep         5\n",
       "Sweaters      5\n",
       "Swim          5\n",
       "Trend         4\n",
       "Name: Rating, dtype: int64"
      ]
     },
     "execution_count": 11,
     "metadata": {},
     "output_type": "execute_result"
    }
   ],
   "source": [
    "#Group the data by Class name and explore the median ratings of each.\n",
    "clothing.groupby('Class Name')['Rating'].median()"
   ]
  },
  {
   "cell_type": "markdown",
   "metadata": {},
   "source": [
    "    The medians are extremely high for a 5 point scale. It seems that people who like the clothing are more likely to leave reviews. However, because this is the only data we have, we will continue to work with the data. The trend department is the only department that does not have a 5.0 median rating. The e-commerce website should work on marketing to improve the trend department."
   ]
  },
  {
   "cell_type": "code",
   "execution_count": 43,
   "metadata": {
    "collapsed": false
   },
   "outputs": [
    {
     "data": {
      "text/plain": [
       "Class Name\n",
       "Layering      0.883562\n",
       "Jeans         0.881430\n",
       "Legwear       0.860606\n",
       "Lounge        0.859624\n",
       "Intimates     0.857143\n",
       "Sleep         0.855263\n",
       "Skirts        0.845503\n",
       "Jackets       0.845170\n",
       "Shorts        0.839117\n",
       "Fine gauge    0.837273\n",
       "Pants         0.832853\n",
       "Knits         0.817675\n",
       "Outerwear     0.817073\n",
       "Blouses       0.810139\n",
       "Dresses       0.808197\n",
       "Swim          0.805714\n",
       "Sweaters      0.800420\n",
       "Trend         0.739496\n",
       "Name: Recommended IND, dtype: float64"
      ]
     },
     "execution_count": 43,
     "metadata": {},
     "output_type": "execute_result"
    }
   ],
   "source": [
    "#Find the proportion of people who recommended each clothing item.\n",
    "clothing.groupby('Class Name')['Recommended IND'].mean().sort_values(ascending=False)"
   ]
  },
  {
   "cell_type": "markdown",
   "metadata": {},
   "source": [
    "The trend department is also the least likely to be recommended."
   ]
  },
  {
   "cell_type": "code",
   "execution_count": 14,
   "metadata": {
    "collapsed": false
   },
   "outputs": [
    {
     "data": {
      "text/plain": [
       "(34.2, 50.4]      11090\n",
       "(17.919, 34.2]     6065\n",
       "(50.4, 66.6]       5444\n",
       "(66.6, 82.8]        803\n",
       "(82.8, 99]           81\n",
       "Name: Age Range, dtype: int64"
      ]
     },
     "execution_count": 14,
     "metadata": {},
     "output_type": "execute_result"
    }
   ],
   "source": [
    "#Create a categorical variable from age range.\n",
    "clothing['Age Range'] = pd.cut(clothing['Age'], bins=5)\n",
    "clothing['Age Range'].value_counts()"
   ]
  },
  {
   "cell_type": "markdown",
   "metadata": {},
   "source": [
    "Here we can see that there is a differing median rating based on age. We also see that there some age groups shop more at the store than others."
   ]
  },
  {
   "cell_type": "code",
   "execution_count": 44,
   "metadata": {
    "collapsed": false
   },
   "outputs": [
    {
     "data": {
      "text/plain": [
       "Department Name  Age Range     \n",
       "Bottoms          (17.919, 34.2]    5.0\n",
       "                 (34.2, 50.4]      5.0\n",
       "                 (50.4, 66.6]      5.0\n",
       "                 (66.6, 82.8]      5.0\n",
       "                 (82.8, 99]        5.0\n",
       "Dresses          (17.919, 34.2]    5.0\n",
       "                 (34.2, 50.4]      5.0\n",
       "                 (50.4, 66.6]      5.0\n",
       "                 (66.6, 82.8]      5.0\n",
       "                 (82.8, 99]        5.0\n",
       "Intimate         (17.919, 34.2]    5.0\n",
       "                 (34.2, 50.4]      5.0\n",
       "                 (50.4, 66.6]      5.0\n",
       "                 (66.6, 82.8]      5.0\n",
       "                 (82.8, 99]        5.0\n",
       "Jackets          (17.919, 34.2]    5.0\n",
       "                 (34.2, 50.4]      5.0\n",
       "                 (50.4, 66.6]      5.0\n",
       "                 (66.6, 82.8]      5.0\n",
       "                 (82.8, 99]        5.0\n",
       "Tops             (17.919, 34.2]    5.0\n",
       "                 (34.2, 50.4]      5.0\n",
       "                 (50.4, 66.6]      5.0\n",
       "                 (66.6, 82.8]      5.0\n",
       "                 (82.8, 99]        5.0\n",
       "Trend            (17.919, 34.2]    4.0\n",
       "                 (34.2, 50.4]      5.0\n",
       "                 (50.4, 66.6]      4.0\n",
       "                 (66.6, 82.8]      3.5\n",
       "                 (82.8, 99]        5.0\n",
       "Name: Rating, dtype: float64"
      ]
     },
     "execution_count": 44,
     "metadata": {},
     "output_type": "execute_result"
    }
   ],
   "source": [
    "#Find the median value of each rating for each age range.\n",
    "clothing.groupby(['Department Name', 'Age Range'])['Rating'].median()"
   ]
  },
  {
   "cell_type": "code",
   "execution_count": 38,
   "metadata": {
    "collapsed": false
   },
   "outputs": [
    {
     "name": "stdout",
     "output_type": "stream",
     "text": [
      "['(34.2, 50.4]', '(17.919, 34.2]', '(50.4, 66.6]', '(66.6, 82.8]', '(82.8, 99]']\n",
      "['(34.2, 50.4]', '(50.4, 66.6]', '(66.6, 82.8]', '(82.8, 99]']\n"
     ]
    }
   ],
   "source": [
    "#Create list of age ranges to iterate over for t tests.\n",
    "clothing_ages = clothing.groupby(['Department Name', 'Age Range'])['Rating'].median()\n",
    "age_range = list(clothing['Age Range'].value_counts().index)\n",
    "print(age_range)\n",
    "age_range.remove('(17.919, 34.2]')\n",
    "print(age_range)"
   ]
  },
  {
   "cell_type": "code",
   "execution_count": 50,
   "metadata": {
    "collapsed": false
   },
   "outputs": [
    {
     "name": "stdout",
     "output_type": "stream",
     "text": [
      "(34.2, 50.4]\n",
      "Ttest_indResult(statistic=-1.0184794630685332, pvalue=0.3115203955752372)\n",
      "(50.4, 66.6]\n",
      "Ttest_indResult(statistic=0.61295630323805994, pvalue=0.54252667786750441)\n",
      "(66.6, 82.8]\n",
      "Ttest_indResult(statistic=0.213072644789806, pvalue=0.83332517710492571)\n",
      "(82.8, 99]\n",
      "Ttest_indResult(statistic=nan, pvalue=nan)\n"
     ]
    },
    {
     "name": "stderr",
     "output_type": "stream",
     "text": [
      "/Users/spencerfogelman/anaconda/lib/python3.5/site-packages/numpy/core/_methods.py:82: RuntimeWarning: Degrees of freedom <= 0 for slice\n",
      "  warnings.warn(\"Degrees of freedom <= 0 for slice\", RuntimeWarning)\n"
     ]
    }
   ],
   "source": [
    "#Perform t tests to see if the medians are significantly different for the different age groups.\n",
    "group1 = clothing[(clothing['Department Name'] == 'Trend') & (clothing['Age Range'] == '(17.919, 34.2]')] \n",
    "for i in range(len(age_range)):\n",
    "    print(age_range[i])\n",
    "    print(stats.ttest_ind(group1['Rating'], clothing[(clothing['Department Name'] == 'Trend') & (clothing['Age Range'] == age_range[i])]['Rating']))"
   ]
  },
  {
   "cell_type": "markdown",
   "metadata": {},
   "source": [
    "The medians are not signicantly different but for the purpose of this project I will continue my analysis."
   ]
  },
  {
   "cell_type": "code",
   "execution_count": 52,
   "metadata": {
    "collapsed": false
   },
   "outputs": [
    {
     "data": {
      "image/png": "[encoded data removed]",
      "text/plain": [
       "<matplotlib.figure.Figure at 0x1207829e8>"
      ]
     },
     "metadata": {},
     "output_type": "display_data"
    }
   ],
   "source": [
    "#Visualize the median distribution with a boxplot.\n",
    "sns.boxplot(x='Department Name', y='Rating', hue='Age Range', data=clothing)\n",
    "plt.xticks(rotation=90)\n",
    "plt.legend(loc='lower center')\n",
    "plt.show()"
   ]
  },
  {
   "cell_type": "markdown",
   "metadata": {},
   "source": [
    "Here we can see that the two age groups we should focus our marketing on are 17 to 34 and 50 to 82. We also know that our marketing should prioritize the 17 to 34 year olds because they represent a much larger proportion of the customer base."
   ]
  },
  {
   "cell_type": "markdown",
   "metadata": {
    "collapsed": true
   },
   "source": [
    "# Business Plan\n"
   ]
  },
  {
   "cell_type": "markdown",
   "metadata": {
    "collapsed": true
   },
   "source": [
    "    My business plan involves increasing the popularity and the sales of the Trend Department. This department has the lowest number of reviews by far out of all of the departments, from which it can be inferred it also has the lowest popularity. It also is the only class of clothing that does not have a median of 5 for its popularity rating. While the ratings do seem to be strangly high, signaling that there is probably a popularity bias (those who write reviews tend to like clothing more than the general population), I decided to overlook this and continue with my experiment since the number of actual reviews could still be a measure of popularity, and it is very low for the Trend Department. After looking at the age breakdown, we see that the only age groups that did not have a median of 5 stars for reviews were 17 to 34 year olds and 50 to 82 year olds. Since 17 to 34 year olds represent the second largest percentage of customers for the ecommerce website, I would focus my advertising plan on them.\n",
    "    My first goal would be to increase the number of people looking at the trend page on the ecommerce website. I decided that email would be my choice of communication. I would already have access to people's emails since it is an ecommerce website and ordering online requries an email for confirmation. In my email I would give out an discount code for items exclusively in the Trend Department. My first experiment would be to create a control group and an experiment group. The control group would consist of past customers (17 to 34 years old females) that would not recieve an email. I would make sure both groups had a normal distribution of ages and equally represented different races. I would send out both emails on a Monday morning. The email would contain a link that would direct customers directly to the trend page on the ecommerce website. I would then wait until the following Monday and measure the click rates of each group. I would perform an AB test to see if the rates were significantly different. I hypothesize that the group that recieved the email would sign on the website more often than the control group. If this were not the case, I would change the email format and repeat the experiment.\n",
    "    My second part of the experiment would be to measure the number of total clicks on each item on the Trend Webpage. I would also measure the duration of time between clicks on items.  I would randomly reorder the thumbnbails of the pictures to make sure that there was no bias towards items at the beginnings. I would look at the items that got the most clicks and also that were looked at the longest and advise the marketing department to produce more items like those. \n",
    "    Finally I would send out a poll to all previous customers who purchased anything from the trend department. I would incentivise them to answer the poll by giving customers store credit if they actually completed the poll. I would also make sure to look at the duration of time people spent on the poll to make sure they were not just randomly clicking, and if the duration was too short, I would discard those poll answers. I would find trends in the poll and use that information to also make improvement to the trend department. \n",
    "    A future experiment would be to compare the breakdown of number of reviews of the store with the new Trend inventory to the breakdown of reviews of the old inventory with a chi squared test. I would also use t tests to compare the median rating of the reviews for the Trend Department and also to compare the proportion of people who recommended items from the Trend Department.\n",
    "    "
   ]
  },
  {
   "cell_type": "code",
   "execution_count": null,
   "metadata": {
    "collapsed": true
   },
   "outputs": [],
   "source": []
  }
 ],
 "metadata": {
  "anaconda-cloud": {},
  "kernelspec": {
   "display_name": "Python [conda root]",
   "language": "python",
   "name": "conda-root-py"
  },
  "language_info": {
   "codemirror_mode": {
    "name": "ipython",
    "version": 3
   },
   "file_extension": ".py",
   "mimetype": "text/x-python",
   "name": "python",
   "nbconvert_exporter": "python",
   "pygments_lexer": "ipython3",
   "version": "3.5.2"
  }
 },
 "nbformat": 4,
 "nbformat_minor": 1
}
